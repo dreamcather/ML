{
 "cells": [
  {
   "cell_type": "markdown",
   "metadata": {},
   "source": [
    "<h1>Быстрый старт в анализ данных</h1>\n",
    "<strong>с помощью Pandas и Scikit-learn, а также numpy и matplotlib</strong>\n",
    "<ul>\n",
    "    <li>numpy – матричные операции</li>\n",
    "    <li>matplotlib – научная графика</li>\n",
    "    <li>pandas – таблицы (DataFrame) для анализа данных</li>\n",
    "    <li>scikit-learn – алгоритмы машинного обучения</li>\n",
    "</ul>"
   ]
  },
  {
   "cell_type": "code",
   "execution_count": 1,
   "metadata": {},
   "outputs": [],
   "source": [
    "import numpy as np\n",
    "import matplotlib.pyplot as plt\n",
    "import pandas as pd\n",
    "%matplotlib inline"
   ]
  },
  {
   "cell_type": "code",
   "execution_count": 2,
   "metadata": {},
   "outputs": [],
   "source": [
    "data = pd.read_csv('source/data.csv', sep=',', engine = 'python')"
   ]
  },
  {
   "cell_type": "code",
   "execution_count": 3,
   "metadata": {},
   "outputs": [
    {
     "data": {
      "text/plain": [
       "pandas.core.frame.DataFrame"
      ]
     },
     "execution_count": 3,
     "metadata": {},
     "output_type": "execute_result"
    }
   ],
   "source": [
    "type(data)"
   ]
  },
  {
   "cell_type": "code",
   "execution_count": 4,
   "metadata": {},
   "outputs": [],
   "source": [
    "data = data.drop(('id'),axis = 1 )"
   ]
  },
  {
   "cell_type": "code",
   "execution_count": 5,
   "metadata": {},
   "outputs": [],
   "source": [
    "data = data.drop(('homepage'), axis = 1)"
   ]
  },
  {
   "cell_type": "code",
   "execution_count": 6,
   "metadata": {},
   "outputs": [],
   "source": [
    "data = data.drop(('overview'), axis = 1)"
   ]
  },
  {
   "cell_type": "code",
   "execution_count": 7,
   "metadata": {},
   "outputs": [],
   "source": [
    "data = data.drop(('status'), axis = 1)"
   ]
  },
  {
   "cell_type": "code",
   "execution_count": 8,
   "metadata": {},
   "outputs": [],
   "source": [
    "data = data.drop(('tagline'), axis = 1)"
   ]
  },
  {
   "cell_type": "code",
   "execution_count": 9,
   "metadata": {},
   "outputs": [],
   "source": [
    "data = data.drop(('spoken_languages'), axis = 1)"
   ]
  },
  {
   "cell_type": "code",
   "execution_count": 10,
   "metadata": {},
   "outputs": [],
   "source": [
    "data = data.drop(('original_title'), axis = 1)"
   ]
  },
  {
   "cell_type": "code",
   "execution_count": 11,
   "metadata": {},
   "outputs": [],
   "source": [
    "data = data.drop(('keywords'), axis = 1)"
   ]
  },
  {
   "cell_type": "code",
   "execution_count": 12,
   "metadata": {},
   "outputs": [],
   "source": [
    "data = data.drop(('release_date'), axis = 1)"
   ]
  },
  {
   "cell_type": "code",
   "execution_count": 13,
   "metadata": {},
   "outputs": [],
   "source": [
    "data = data.drop(('production_companies'), axis = 1)"
   ]
  },
  {
   "cell_type": "code",
   "execution_count": 14,
   "metadata": {},
   "outputs": [],
   "source": [
    "data = data.drop(('title'), axis = 1)"
   ]
  },
  {
   "cell_type": "code",
   "execution_count": 15,
   "metadata": {},
   "outputs": [],
   "source": [
    "data = data.drop(('genres'), axis = 1)"
   ]
  },
  {
   "cell_type": "code",
   "execution_count": 16,
   "metadata": {
    "scrolled": true
   },
   "outputs": [
    {
     "data": {
      "text/html": [
       "<div>\n",
       "<style scoped>\n",
       "    .dataframe tbody tr th:only-of-type {\n",
       "        vertical-align: middle;\n",
       "    }\n",
       "\n",
       "    .dataframe tbody tr th {\n",
       "        vertical-align: top;\n",
       "    }\n",
       "\n",
       "    .dataframe thead th {\n",
       "        text-align: right;\n",
       "    }\n",
       "</style>\n",
       "<table border=\"1\" class=\"dataframe\">\n",
       "  <thead>\n",
       "    <tr style=\"text-align: right;\">\n",
       "      <th></th>\n",
       "      <th>budget</th>\n",
       "      <th>original_language</th>\n",
       "      <th>popularity</th>\n",
       "      <th>production_countries</th>\n",
       "      <th>revenue</th>\n",
       "      <th>runtime</th>\n",
       "      <th>vote_average</th>\n",
       "      <th>vote_count</th>\n",
       "    </tr>\n",
       "  </thead>\n",
       "  <tbody>\n",
       "    <tr>\n",
       "      <th>0</th>\n",
       "      <td>237000000</td>\n",
       "      <td>en</td>\n",
       "      <td>150.437577</td>\n",
       "      <td>[{\"iso_3166_1\": \"US\", \"name\": \"United States o...</td>\n",
       "      <td>2787965087</td>\n",
       "      <td>162.0</td>\n",
       "      <td>7.2</td>\n",
       "      <td>11800</td>\n",
       "    </tr>\n",
       "    <tr>\n",
       "      <th>1</th>\n",
       "      <td>300000000</td>\n",
       "      <td>en</td>\n",
       "      <td>139.082615</td>\n",
       "      <td>[{\"iso_3166_1\": \"US\", \"name\": \"United States o...</td>\n",
       "      <td>961000000</td>\n",
       "      <td>169.0</td>\n",
       "      <td>6.9</td>\n",
       "      <td>4500</td>\n",
       "    </tr>\n",
       "    <tr>\n",
       "      <th>2</th>\n",
       "      <td>245000000</td>\n",
       "      <td>en</td>\n",
       "      <td>107.376788</td>\n",
       "      <td>[{\"iso_3166_1\": \"GB\", \"name\": \"United Kingdom\"...</td>\n",
       "      <td>880674609</td>\n",
       "      <td>148.0</td>\n",
       "      <td>6.3</td>\n",
       "      <td>4466</td>\n",
       "    </tr>\n",
       "    <tr>\n",
       "      <th>3</th>\n",
       "      <td>250000000</td>\n",
       "      <td>en</td>\n",
       "      <td>112.312950</td>\n",
       "      <td>[{\"iso_3166_1\": \"US\", \"name\": \"United States o...</td>\n",
       "      <td>1084939099</td>\n",
       "      <td>165.0</td>\n",
       "      <td>7.6</td>\n",
       "      <td>9106</td>\n",
       "    </tr>\n",
       "    <tr>\n",
       "      <th>4</th>\n",
       "      <td>260000000</td>\n",
       "      <td>en</td>\n",
       "      <td>43.926995</td>\n",
       "      <td>[{\"iso_3166_1\": \"US\", \"name\": \"United States o...</td>\n",
       "      <td>284139100</td>\n",
       "      <td>132.0</td>\n",
       "      <td>6.1</td>\n",
       "      <td>2124</td>\n",
       "    </tr>\n",
       "    <tr>\n",
       "      <th>5</th>\n",
       "      <td>258000000</td>\n",
       "      <td>en</td>\n",
       "      <td>115.699814</td>\n",
       "      <td>[{\"iso_3166_1\": \"US\", \"name\": \"United States o...</td>\n",
       "      <td>890871626</td>\n",
       "      <td>139.0</td>\n",
       "      <td>5.9</td>\n",
       "      <td>3576</td>\n",
       "    </tr>\n",
       "    <tr>\n",
       "      <th>6</th>\n",
       "      <td>260000000</td>\n",
       "      <td>en</td>\n",
       "      <td>48.681969</td>\n",
       "      <td>[{\"iso_3166_1\": \"US\", \"name\": \"United States o...</td>\n",
       "      <td>591794936</td>\n",
       "      <td>100.0</td>\n",
       "      <td>7.4</td>\n",
       "      <td>3330</td>\n",
       "    </tr>\n",
       "    <tr>\n",
       "      <th>7</th>\n",
       "      <td>280000000</td>\n",
       "      <td>en</td>\n",
       "      <td>134.279229</td>\n",
       "      <td>[{\"iso_3166_1\": \"US\", \"name\": \"United States o...</td>\n",
       "      <td>1405403694</td>\n",
       "      <td>141.0</td>\n",
       "      <td>7.3</td>\n",
       "      <td>6767</td>\n",
       "    </tr>\n",
       "    <tr>\n",
       "      <th>8</th>\n",
       "      <td>250000000</td>\n",
       "      <td>en</td>\n",
       "      <td>98.885637</td>\n",
       "      <td>[{\"iso_3166_1\": \"GB\", \"name\": \"United Kingdom\"...</td>\n",
       "      <td>933959197</td>\n",
       "      <td>153.0</td>\n",
       "      <td>7.4</td>\n",
       "      <td>5293</td>\n",
       "    </tr>\n",
       "    <tr>\n",
       "      <th>9</th>\n",
       "      <td>250000000</td>\n",
       "      <td>en</td>\n",
       "      <td>155.790452</td>\n",
       "      <td>[{\"iso_3166_1\": \"US\", \"name\": \"United States o...</td>\n",
       "      <td>873260194</td>\n",
       "      <td>151.0</td>\n",
       "      <td>5.7</td>\n",
       "      <td>7004</td>\n",
       "    </tr>\n",
       "    <tr>\n",
       "      <th>10</th>\n",
       "      <td>270000000</td>\n",
       "      <td>en</td>\n",
       "      <td>57.925623</td>\n",
       "      <td>[{\"iso_3166_1\": \"US\", \"name\": \"United States o...</td>\n",
       "      <td>391081192</td>\n",
       "      <td>154.0</td>\n",
       "      <td>5.4</td>\n",
       "      <td>1400</td>\n",
       "    </tr>\n",
       "    <tr>\n",
       "      <th>11</th>\n",
       "      <td>200000000</td>\n",
       "      <td>en</td>\n",
       "      <td>107.928811</td>\n",
       "      <td>[{\"iso_3166_1\": \"GB\", \"name\": \"United Kingdom\"...</td>\n",
       "      <td>586090727</td>\n",
       "      <td>106.0</td>\n",
       "      <td>6.1</td>\n",
       "      <td>2965</td>\n",
       "    </tr>\n",
       "    <tr>\n",
       "      <th>12</th>\n",
       "      <td>200000000</td>\n",
       "      <td>en</td>\n",
       "      <td>145.847379</td>\n",
       "      <td>[{\"iso_3166_1\": \"JM\", \"name\": \"Jamaica\"}, {\"is...</td>\n",
       "      <td>1065659812</td>\n",
       "      <td>151.0</td>\n",
       "      <td>7.0</td>\n",
       "      <td>5246</td>\n",
       "    </tr>\n",
       "    <tr>\n",
       "      <th>13</th>\n",
       "      <td>255000000</td>\n",
       "      <td>en</td>\n",
       "      <td>49.046956</td>\n",
       "      <td>[{\"iso_3166_1\": \"US\", \"name\": \"United States o...</td>\n",
       "      <td>89289910</td>\n",
       "      <td>149.0</td>\n",
       "      <td>5.9</td>\n",
       "      <td>2311</td>\n",
       "    </tr>\n",
       "    <tr>\n",
       "      <th>14</th>\n",
       "      <td>225000000</td>\n",
       "      <td>en</td>\n",
       "      <td>99.398009</td>\n",
       "      <td>[{\"iso_3166_1\": \"GB\", \"name\": \"United Kingdom\"...</td>\n",
       "      <td>662845518</td>\n",
       "      <td>143.0</td>\n",
       "      <td>6.5</td>\n",
       "      <td>6359</td>\n",
       "    </tr>\n",
       "    <tr>\n",
       "      <th>15</th>\n",
       "      <td>225000000</td>\n",
       "      <td>en</td>\n",
       "      <td>53.978602</td>\n",
       "      <td>[{\"iso_3166_1\": \"CZ\", \"name\": \"Czech Republic\"...</td>\n",
       "      <td>419651413</td>\n",
       "      <td>150.0</td>\n",
       "      <td>6.3</td>\n",
       "      <td>1630</td>\n",
       "    </tr>\n",
       "    <tr>\n",
       "      <th>16</th>\n",
       "      <td>220000000</td>\n",
       "      <td>en</td>\n",
       "      <td>144.448633</td>\n",
       "      <td>[{\"iso_3166_1\": \"US\", \"name\": \"United States o...</td>\n",
       "      <td>1519557910</td>\n",
       "      <td>143.0</td>\n",
       "      <td>7.4</td>\n",
       "      <td>11776</td>\n",
       "    </tr>\n",
       "    <tr>\n",
       "      <th>17</th>\n",
       "      <td>380000000</td>\n",
       "      <td>en</td>\n",
       "      <td>135.413856</td>\n",
       "      <td>[{\"iso_3166_1\": \"US\", \"name\": \"United States o...</td>\n",
       "      <td>1045713802</td>\n",
       "      <td>136.0</td>\n",
       "      <td>6.4</td>\n",
       "      <td>4948</td>\n",
       "    </tr>\n",
       "    <tr>\n",
       "      <th>18</th>\n",
       "      <td>225000000</td>\n",
       "      <td>en</td>\n",
       "      <td>52.035179</td>\n",
       "      <td>[{\"iso_3166_1\": \"US\", \"name\": \"United States o...</td>\n",
       "      <td>624026776</td>\n",
       "      <td>106.0</td>\n",
       "      <td>6.2</td>\n",
       "      <td>4160</td>\n",
       "    </tr>\n",
       "    <tr>\n",
       "      <th>19</th>\n",
       "      <td>250000000</td>\n",
       "      <td>en</td>\n",
       "      <td>120.965743</td>\n",
       "      <td>[{\"iso_3166_1\": \"NZ\", \"name\": \"New Zealand\"}, ...</td>\n",
       "      <td>956019788</td>\n",
       "      <td>144.0</td>\n",
       "      <td>7.1</td>\n",
       "      <td>4760</td>\n",
       "    </tr>\n",
       "    <tr>\n",
       "      <th>20</th>\n",
       "      <td>215000000</td>\n",
       "      <td>en</td>\n",
       "      <td>89.866276</td>\n",
       "      <td>[{\"iso_3166_1\": \"US\", \"name\": \"United States o...</td>\n",
       "      <td>752215857</td>\n",
       "      <td>136.0</td>\n",
       "      <td>6.5</td>\n",
       "      <td>6586</td>\n",
       "    </tr>\n",
       "    <tr>\n",
       "      <th>21</th>\n",
       "      <td>200000000</td>\n",
       "      <td>en</td>\n",
       "      <td>37.668301</td>\n",
       "      <td>[{\"iso_3166_1\": \"GB\", \"name\": \"United Kingdom\"...</td>\n",
       "      <td>310669540</td>\n",
       "      <td>140.0</td>\n",
       "      <td>6.2</td>\n",
       "      <td>1398</td>\n",
       "    </tr>\n",
       "    <tr>\n",
       "      <th>22</th>\n",
       "      <td>250000000</td>\n",
       "      <td>en</td>\n",
       "      <td>94.370564</td>\n",
       "      <td>[{\"iso_3166_1\": \"NZ\", \"name\": \"New Zealand\"}, ...</td>\n",
       "      <td>958400000</td>\n",
       "      <td>161.0</td>\n",
       "      <td>7.6</td>\n",
       "      <td>4524</td>\n",
       "    </tr>\n",
       "    <tr>\n",
       "      <th>23</th>\n",
       "      <td>180000000</td>\n",
       "      <td>en</td>\n",
       "      <td>42.990906</td>\n",
       "      <td>[{\"iso_3166_1\": \"GB\", \"name\": \"United Kingdom\"...</td>\n",
       "      <td>372234864</td>\n",
       "      <td>113.0</td>\n",
       "      <td>5.8</td>\n",
       "      <td>1303</td>\n",
       "    </tr>\n",
       "    <tr>\n",
       "      <th>24</th>\n",
       "      <td>207000000</td>\n",
       "      <td>en</td>\n",
       "      <td>61.226010</td>\n",
       "      <td>[{\"iso_3166_1\": \"NZ\", \"name\": \"New Zealand\"}, ...</td>\n",
       "      <td>550000000</td>\n",
       "      <td>187.0</td>\n",
       "      <td>6.6</td>\n",
       "      <td>2337</td>\n",
       "    </tr>\n",
       "    <tr>\n",
       "      <th>25</th>\n",
       "      <td>200000000</td>\n",
       "      <td>en</td>\n",
       "      <td>100.025899</td>\n",
       "      <td>[{\"iso_3166_1\": \"US\", \"name\": \"United States o...</td>\n",
       "      <td>1845034188</td>\n",
       "      <td>194.0</td>\n",
       "      <td>7.5</td>\n",
       "      <td>7562</td>\n",
       "    </tr>\n",
       "    <tr>\n",
       "      <th>26</th>\n",
       "      <td>250000000</td>\n",
       "      <td>en</td>\n",
       "      <td>198.372395</td>\n",
       "      <td>[{\"iso_3166_1\": \"US\", \"name\": \"United States o...</td>\n",
       "      <td>1153304495</td>\n",
       "      <td>147.0</td>\n",
       "      <td>7.1</td>\n",
       "      <td>7241</td>\n",
       "    </tr>\n",
       "    <tr>\n",
       "      <th>27</th>\n",
       "      <td>209000000</td>\n",
       "      <td>en</td>\n",
       "      <td>64.928382</td>\n",
       "      <td>[{\"iso_3166_1\": \"US\", \"name\": \"United States o...</td>\n",
       "      <td>303025485</td>\n",
       "      <td>131.0</td>\n",
       "      <td>5.5</td>\n",
       "      <td>2114</td>\n",
       "    </tr>\n",
       "    <tr>\n",
       "      <th>28</th>\n",
       "      <td>150000000</td>\n",
       "      <td>en</td>\n",
       "      <td>418.708552</td>\n",
       "      <td>[{\"iso_3166_1\": \"US\", \"name\": \"United States o...</td>\n",
       "      <td>1513528810</td>\n",
       "      <td>124.0</td>\n",
       "      <td>6.5</td>\n",
       "      <td>8662</td>\n",
       "    </tr>\n",
       "    <tr>\n",
       "      <th>29</th>\n",
       "      <td>200000000</td>\n",
       "      <td>en</td>\n",
       "      <td>93.004993</td>\n",
       "      <td>[{\"iso_3166_1\": \"GB\", \"name\": \"United Kingdom\"...</td>\n",
       "      <td>1108561013</td>\n",
       "      <td>143.0</td>\n",
       "      <td>6.9</td>\n",
       "      <td>7604</td>\n",
       "    </tr>\n",
       "    <tr>\n",
       "      <th>...</th>\n",
       "      <td>...</td>\n",
       "      <td>...</td>\n",
       "      <td>...</td>\n",
       "      <td>...</td>\n",
       "      <td>...</td>\n",
       "      <td>...</td>\n",
       "      <td>...</td>\n",
       "      <td>...</td>\n",
       "    </tr>\n",
       "    <tr>\n",
       "      <th>4773</th>\n",
       "      <td>27000</td>\n",
       "      <td>en</td>\n",
       "      <td>19.748658</td>\n",
       "      <td>[{\"iso_3166_1\": \"US\", \"name\": \"United States o...</td>\n",
       "      <td>3151130</td>\n",
       "      <td>92.0</td>\n",
       "      <td>7.4</td>\n",
       "      <td>755</td>\n",
       "    </tr>\n",
       "    <tr>\n",
       "      <th>4774</th>\n",
       "      <td>27000</td>\n",
       "      <td>en</td>\n",
       "      <td>0.027811</td>\n",
       "      <td>[{\"iso_3166_1\": \"US\", \"name\": \"United States o...</td>\n",
       "      <td>0</td>\n",
       "      <td>64.0</td>\n",
       "      <td>6.0</td>\n",
       "      <td>9</td>\n",
       "    </tr>\n",
       "    <tr>\n",
       "      <th>4775</th>\n",
       "      <td>0</td>\n",
       "      <td>en</td>\n",
       "      <td>0.362633</td>\n",
       "      <td>[{\"iso_3166_1\": \"US\", \"name\": \"United States o...</td>\n",
       "      <td>76901</td>\n",
       "      <td>85.0</td>\n",
       "      <td>6.3</td>\n",
       "      <td>8</td>\n",
       "    </tr>\n",
       "    <tr>\n",
       "      <th>4776</th>\n",
       "      <td>0</td>\n",
       "      <td>en</td>\n",
       "      <td>2.634007</td>\n",
       "      <td>[{\"iso_3166_1\": \"CA\", \"name\": \"Canada\"}, {\"iso...</td>\n",
       "      <td>0</td>\n",
       "      <td>97.0</td>\n",
       "      <td>6.8</td>\n",
       "      <td>44</td>\n",
       "    </tr>\n",
       "    <tr>\n",
       "      <th>4777</th>\n",
       "      <td>0</td>\n",
       "      <td>en</td>\n",
       "      <td>0.039264</td>\n",
       "      <td>[{\"iso_3166_1\": \"US\", \"name\": \"United States o...</td>\n",
       "      <td>0</td>\n",
       "      <td>78.0</td>\n",
       "      <td>5.5</td>\n",
       "      <td>2</td>\n",
       "    </tr>\n",
       "    <tr>\n",
       "      <th>4778</th>\n",
       "      <td>0</td>\n",
       "      <td>en</td>\n",
       "      <td>7.101197</td>\n",
       "      <td>[{\"iso_3166_1\": \"CA\", \"name\": \"Canada\"}, {\"iso...</td>\n",
       "      <td>0</td>\n",
       "      <td>85.0</td>\n",
       "      <td>6.0</td>\n",
       "      <td>131</td>\n",
       "    </tr>\n",
       "    <tr>\n",
       "      <th>4779</th>\n",
       "      <td>0</td>\n",
       "      <td>en</td>\n",
       "      <td>3.320622</td>\n",
       "      <td>[{\"iso_3166_1\": \"US\", \"name\": \"United States o...</td>\n",
       "      <td>0</td>\n",
       "      <td>97.0</td>\n",
       "      <td>6.4</td>\n",
       "      <td>77</td>\n",
       "    </tr>\n",
       "    <tr>\n",
       "      <th>4780</th>\n",
       "      <td>0</td>\n",
       "      <td>en</td>\n",
       "      <td>0.038143</td>\n",
       "      <td>[]</td>\n",
       "      <td>0</td>\n",
       "      <td>90.0</td>\n",
       "      <td>0.0</td>\n",
       "      <td>0</td>\n",
       "    </tr>\n",
       "    <tr>\n",
       "      <th>4781</th>\n",
       "      <td>22000</td>\n",
       "      <td>en</td>\n",
       "      <td>0.048948</td>\n",
       "      <td>[{\"iso_3166_1\": \"US\", \"name\": \"United States o...</td>\n",
       "      <td>0</td>\n",
       "      <td>90.0</td>\n",
       "      <td>6.0</td>\n",
       "      <td>1</td>\n",
       "    </tr>\n",
       "    <tr>\n",
       "      <th>4782</th>\n",
       "      <td>0</td>\n",
       "      <td>en</td>\n",
       "      <td>1.048524</td>\n",
       "      <td>[{\"iso_3166_1\": \"US\", \"name\": \"United States o...</td>\n",
       "      <td>0</td>\n",
       "      <td>120.0</td>\n",
       "      <td>6.8</td>\n",
       "      <td>19</td>\n",
       "    </tr>\n",
       "    <tr>\n",
       "      <th>4783</th>\n",
       "      <td>0</td>\n",
       "      <td>en</td>\n",
       "      <td>3.619167</td>\n",
       "      <td>[{\"iso_3166_1\": \"US\", \"name\": \"United States o...</td>\n",
       "      <td>0</td>\n",
       "      <td>91.0</td>\n",
       "      <td>4.7</td>\n",
       "      <td>79</td>\n",
       "    </tr>\n",
       "    <tr>\n",
       "      <th>4784</th>\n",
       "      <td>0</td>\n",
       "      <td>en</td>\n",
       "      <td>1.243955</td>\n",
       "      <td>[]</td>\n",
       "      <td>0</td>\n",
       "      <td>85.0</td>\n",
       "      <td>6.2</td>\n",
       "      <td>15</td>\n",
       "    </tr>\n",
       "    <tr>\n",
       "      <th>4785</th>\n",
       "      <td>0</td>\n",
       "      <td>en</td>\n",
       "      <td>0.327794</td>\n",
       "      <td>[{\"iso_3166_1\": \"KE\", \"name\": \"Kenya\"}]</td>\n",
       "      <td>0</td>\n",
       "      <td>60.0</td>\n",
       "      <td>0.0</td>\n",
       "      <td>0</td>\n",
       "    </tr>\n",
       "    <tr>\n",
       "      <th>4786</th>\n",
       "      <td>0</td>\n",
       "      <td>en</td>\n",
       "      <td>0.674570</td>\n",
       "      <td>[{\"iso_3166_1\": \"US\", \"name\": \"United States o...</td>\n",
       "      <td>0</td>\n",
       "      <td>88.0</td>\n",
       "      <td>5.6</td>\n",
       "      <td>12</td>\n",
       "    </tr>\n",
       "    <tr>\n",
       "      <th>4787</th>\n",
       "      <td>0</td>\n",
       "      <td>en</td>\n",
       "      <td>3.545991</td>\n",
       "      <td>[]</td>\n",
       "      <td>0</td>\n",
       "      <td>78.0</td>\n",
       "      <td>4.2</td>\n",
       "      <td>13</td>\n",
       "    </tr>\n",
       "    <tr>\n",
       "      <th>4788</th>\n",
       "      <td>12000</td>\n",
       "      <td>en</td>\n",
       "      <td>4.553644</td>\n",
       "      <td>[{\"iso_3166_1\": \"US\", \"name\": \"United States o...</td>\n",
       "      <td>6000000</td>\n",
       "      <td>93.0</td>\n",
       "      <td>6.2</td>\n",
       "      <td>110</td>\n",
       "    </tr>\n",
       "    <tr>\n",
       "      <th>4789</th>\n",
       "      <td>0</td>\n",
       "      <td>en</td>\n",
       "      <td>1.464566</td>\n",
       "      <td>[{\"iso_3166_1\": \"GB\", \"name\": \"United Kingdom\"...</td>\n",
       "      <td>0</td>\n",
       "      <td>111.0</td>\n",
       "      <td>6.7</td>\n",
       "      <td>17</td>\n",
       "    </tr>\n",
       "    <tr>\n",
       "      <th>4790</th>\n",
       "      <td>0</td>\n",
       "      <td>fa</td>\n",
       "      <td>1.193779</td>\n",
       "      <td>[{\"iso_3166_1\": \"IR\", \"name\": \"Iran\"}]</td>\n",
       "      <td>0</td>\n",
       "      <td>90.0</td>\n",
       "      <td>6.6</td>\n",
       "      <td>17</td>\n",
       "    </tr>\n",
       "    <tr>\n",
       "      <th>4791</th>\n",
       "      <td>13</td>\n",
       "      <td>en</td>\n",
       "      <td>0.332679</td>\n",
       "      <td>[{\"iso_3166_1\": \"IE\", \"name\": \"Ireland\"}]</td>\n",
       "      <td>0</td>\n",
       "      <td>84.0</td>\n",
       "      <td>2.0</td>\n",
       "      <td>1</td>\n",
       "    </tr>\n",
       "    <tr>\n",
       "      <th>4792</th>\n",
       "      <td>20000</td>\n",
       "      <td>ja</td>\n",
       "      <td>0.212443</td>\n",
       "      <td>[{\"iso_3166_1\": \"JP\", \"name\": \"Japan\"}]</td>\n",
       "      <td>99000</td>\n",
       "      <td>111.0</td>\n",
       "      <td>7.4</td>\n",
       "      <td>63</td>\n",
       "    </tr>\n",
       "    <tr>\n",
       "      <th>4793</th>\n",
       "      <td>0</td>\n",
       "      <td>en</td>\n",
       "      <td>0.029757</td>\n",
       "      <td>[{\"iso_3166_1\": \"US\", \"name\": \"United States o...</td>\n",
       "      <td>0</td>\n",
       "      <td>90.0</td>\n",
       "      <td>6.0</td>\n",
       "      <td>2</td>\n",
       "    </tr>\n",
       "    <tr>\n",
       "      <th>4794</th>\n",
       "      <td>0</td>\n",
       "      <td>en</td>\n",
       "      <td>0.166513</td>\n",
       "      <td>[{\"iso_3166_1\": \"US\", \"name\": \"United States o...</td>\n",
       "      <td>0</td>\n",
       "      <td>82.0</td>\n",
       "      <td>0.0</td>\n",
       "      <td>0</td>\n",
       "    </tr>\n",
       "    <tr>\n",
       "      <th>4795</th>\n",
       "      <td>0</td>\n",
       "      <td>en</td>\n",
       "      <td>0.918116</td>\n",
       "      <td>[{\"iso_3166_1\": \"US\", \"name\": \"United States o...</td>\n",
       "      <td>0</td>\n",
       "      <td>98.0</td>\n",
       "      <td>6.0</td>\n",
       "      <td>1</td>\n",
       "    </tr>\n",
       "    <tr>\n",
       "      <th>4796</th>\n",
       "      <td>7000</td>\n",
       "      <td>en</td>\n",
       "      <td>23.307949</td>\n",
       "      <td>[{\"iso_3166_1\": \"US\", \"name\": \"United States o...</td>\n",
       "      <td>424760</td>\n",
       "      <td>77.0</td>\n",
       "      <td>6.9</td>\n",
       "      <td>658</td>\n",
       "    </tr>\n",
       "    <tr>\n",
       "      <th>4797</th>\n",
       "      <td>0</td>\n",
       "      <td>en</td>\n",
       "      <td>0.022173</td>\n",
       "      <td>[]</td>\n",
       "      <td>0</td>\n",
       "      <td>80.0</td>\n",
       "      <td>7.5</td>\n",
       "      <td>2</td>\n",
       "    </tr>\n",
       "    <tr>\n",
       "      <th>4798</th>\n",
       "      <td>220000</td>\n",
       "      <td>es</td>\n",
       "      <td>14.269792</td>\n",
       "      <td>[{\"iso_3166_1\": \"MX\", \"name\": \"Mexico\"}, {\"iso...</td>\n",
       "      <td>2040920</td>\n",
       "      <td>81.0</td>\n",
       "      <td>6.6</td>\n",
       "      <td>238</td>\n",
       "    </tr>\n",
       "    <tr>\n",
       "      <th>4799</th>\n",
       "      <td>9000</td>\n",
       "      <td>en</td>\n",
       "      <td>0.642552</td>\n",
       "      <td>[]</td>\n",
       "      <td>0</td>\n",
       "      <td>85.0</td>\n",
       "      <td>5.9</td>\n",
       "      <td>5</td>\n",
       "    </tr>\n",
       "    <tr>\n",
       "      <th>4800</th>\n",
       "      <td>0</td>\n",
       "      <td>en</td>\n",
       "      <td>1.444476</td>\n",
       "      <td>[{\"iso_3166_1\": \"US\", \"name\": \"United States o...</td>\n",
       "      <td>0</td>\n",
       "      <td>120.0</td>\n",
       "      <td>7.0</td>\n",
       "      <td>6</td>\n",
       "    </tr>\n",
       "    <tr>\n",
       "      <th>4801</th>\n",
       "      <td>0</td>\n",
       "      <td>en</td>\n",
       "      <td>0.857008</td>\n",
       "      <td>[{\"iso_3166_1\": \"US\", \"name\": \"United States o...</td>\n",
       "      <td>0</td>\n",
       "      <td>98.0</td>\n",
       "      <td>5.7</td>\n",
       "      <td>7</td>\n",
       "    </tr>\n",
       "    <tr>\n",
       "      <th>4802</th>\n",
       "      <td>0</td>\n",
       "      <td>en</td>\n",
       "      <td>1.929883</td>\n",
       "      <td>[{\"iso_3166_1\": \"US\", \"name\": \"United States o...</td>\n",
       "      <td>0</td>\n",
       "      <td>90.0</td>\n",
       "      <td>6.3</td>\n",
       "      <td>16</td>\n",
       "    </tr>\n",
       "  </tbody>\n",
       "</table>\n",
       "<p>4803 rows × 8 columns</p>\n",
       "</div>"
      ],
      "text/plain": [
       "         budget original_language  popularity  \\\n",
       "0     237000000                en  150.437577   \n",
       "1     300000000                en  139.082615   \n",
       "2     245000000                en  107.376788   \n",
       "3     250000000                en  112.312950   \n",
       "4     260000000                en   43.926995   \n",
       "5     258000000                en  115.699814   \n",
       "6     260000000                en   48.681969   \n",
       "7     280000000                en  134.279229   \n",
       "8     250000000                en   98.885637   \n",
       "9     250000000                en  155.790452   \n",
       "10    270000000                en   57.925623   \n",
       "11    200000000                en  107.928811   \n",
       "12    200000000                en  145.847379   \n",
       "13    255000000                en   49.046956   \n",
       "14    225000000                en   99.398009   \n",
       "15    225000000                en   53.978602   \n",
       "16    220000000                en  144.448633   \n",
       "17    380000000                en  135.413856   \n",
       "18    225000000                en   52.035179   \n",
       "19    250000000                en  120.965743   \n",
       "20    215000000                en   89.866276   \n",
       "21    200000000                en   37.668301   \n",
       "22    250000000                en   94.370564   \n",
       "23    180000000                en   42.990906   \n",
       "24    207000000                en   61.226010   \n",
       "25    200000000                en  100.025899   \n",
       "26    250000000                en  198.372395   \n",
       "27    209000000                en   64.928382   \n",
       "28    150000000                en  418.708552   \n",
       "29    200000000                en   93.004993   \n",
       "...         ...               ...         ...   \n",
       "4773      27000                en   19.748658   \n",
       "4774      27000                en    0.027811   \n",
       "4775          0                en    0.362633   \n",
       "4776          0                en    2.634007   \n",
       "4777          0                en    0.039264   \n",
       "4778          0                en    7.101197   \n",
       "4779          0                en    3.320622   \n",
       "4780          0                en    0.038143   \n",
       "4781      22000                en    0.048948   \n",
       "4782          0                en    1.048524   \n",
       "4783          0                en    3.619167   \n",
       "4784          0                en    1.243955   \n",
       "4785          0                en    0.327794   \n",
       "4786          0                en    0.674570   \n",
       "4787          0                en    3.545991   \n",
       "4788      12000                en    4.553644   \n",
       "4789          0                en    1.464566   \n",
       "4790          0                fa    1.193779   \n",
       "4791         13                en    0.332679   \n",
       "4792      20000                ja    0.212443   \n",
       "4793          0                en    0.029757   \n",
       "4794          0                en    0.166513   \n",
       "4795          0                en    0.918116   \n",
       "4796       7000                en   23.307949   \n",
       "4797          0                en    0.022173   \n",
       "4798     220000                es   14.269792   \n",
       "4799       9000                en    0.642552   \n",
       "4800          0                en    1.444476   \n",
       "4801          0                en    0.857008   \n",
       "4802          0                en    1.929883   \n",
       "\n",
       "                                   production_countries     revenue  runtime  \\\n",
       "0     [{\"iso_3166_1\": \"US\", \"name\": \"United States o...  2787965087    162.0   \n",
       "1     [{\"iso_3166_1\": \"US\", \"name\": \"United States o...   961000000    169.0   \n",
       "2     [{\"iso_3166_1\": \"GB\", \"name\": \"United Kingdom\"...   880674609    148.0   \n",
       "3     [{\"iso_3166_1\": \"US\", \"name\": \"United States o...  1084939099    165.0   \n",
       "4     [{\"iso_3166_1\": \"US\", \"name\": \"United States o...   284139100    132.0   \n",
       "5     [{\"iso_3166_1\": \"US\", \"name\": \"United States o...   890871626    139.0   \n",
       "6     [{\"iso_3166_1\": \"US\", \"name\": \"United States o...   591794936    100.0   \n",
       "7     [{\"iso_3166_1\": \"US\", \"name\": \"United States o...  1405403694    141.0   \n",
       "8     [{\"iso_3166_1\": \"GB\", \"name\": \"United Kingdom\"...   933959197    153.0   \n",
       "9     [{\"iso_3166_1\": \"US\", \"name\": \"United States o...   873260194    151.0   \n",
       "10    [{\"iso_3166_1\": \"US\", \"name\": \"United States o...   391081192    154.0   \n",
       "11    [{\"iso_3166_1\": \"GB\", \"name\": \"United Kingdom\"...   586090727    106.0   \n",
       "12    [{\"iso_3166_1\": \"JM\", \"name\": \"Jamaica\"}, {\"is...  1065659812    151.0   \n",
       "13    [{\"iso_3166_1\": \"US\", \"name\": \"United States o...    89289910    149.0   \n",
       "14    [{\"iso_3166_1\": \"GB\", \"name\": \"United Kingdom\"...   662845518    143.0   \n",
       "15    [{\"iso_3166_1\": \"CZ\", \"name\": \"Czech Republic\"...   419651413    150.0   \n",
       "16    [{\"iso_3166_1\": \"US\", \"name\": \"United States o...  1519557910    143.0   \n",
       "17    [{\"iso_3166_1\": \"US\", \"name\": \"United States o...  1045713802    136.0   \n",
       "18    [{\"iso_3166_1\": \"US\", \"name\": \"United States o...   624026776    106.0   \n",
       "19    [{\"iso_3166_1\": \"NZ\", \"name\": \"New Zealand\"}, ...   956019788    144.0   \n",
       "20    [{\"iso_3166_1\": \"US\", \"name\": \"United States o...   752215857    136.0   \n",
       "21    [{\"iso_3166_1\": \"GB\", \"name\": \"United Kingdom\"...   310669540    140.0   \n",
       "22    [{\"iso_3166_1\": \"NZ\", \"name\": \"New Zealand\"}, ...   958400000    161.0   \n",
       "23    [{\"iso_3166_1\": \"GB\", \"name\": \"United Kingdom\"...   372234864    113.0   \n",
       "24    [{\"iso_3166_1\": \"NZ\", \"name\": \"New Zealand\"}, ...   550000000    187.0   \n",
       "25    [{\"iso_3166_1\": \"US\", \"name\": \"United States o...  1845034188    194.0   \n",
       "26    [{\"iso_3166_1\": \"US\", \"name\": \"United States o...  1153304495    147.0   \n",
       "27    [{\"iso_3166_1\": \"US\", \"name\": \"United States o...   303025485    131.0   \n",
       "28    [{\"iso_3166_1\": \"US\", \"name\": \"United States o...  1513528810    124.0   \n",
       "29    [{\"iso_3166_1\": \"GB\", \"name\": \"United Kingdom\"...  1108561013    143.0   \n",
       "...                                                 ...         ...      ...   \n",
       "4773  [{\"iso_3166_1\": \"US\", \"name\": \"United States o...     3151130     92.0   \n",
       "4774  [{\"iso_3166_1\": \"US\", \"name\": \"United States o...           0     64.0   \n",
       "4775  [{\"iso_3166_1\": \"US\", \"name\": \"United States o...       76901     85.0   \n",
       "4776  [{\"iso_3166_1\": \"CA\", \"name\": \"Canada\"}, {\"iso...           0     97.0   \n",
       "4777  [{\"iso_3166_1\": \"US\", \"name\": \"United States o...           0     78.0   \n",
       "4778  [{\"iso_3166_1\": \"CA\", \"name\": \"Canada\"}, {\"iso...           0     85.0   \n",
       "4779  [{\"iso_3166_1\": \"US\", \"name\": \"United States o...           0     97.0   \n",
       "4780                                                 []           0     90.0   \n",
       "4781  [{\"iso_3166_1\": \"US\", \"name\": \"United States o...           0     90.0   \n",
       "4782  [{\"iso_3166_1\": \"US\", \"name\": \"United States o...           0    120.0   \n",
       "4783  [{\"iso_3166_1\": \"US\", \"name\": \"United States o...           0     91.0   \n",
       "4784                                                 []           0     85.0   \n",
       "4785            [{\"iso_3166_1\": \"KE\", \"name\": \"Kenya\"}]           0     60.0   \n",
       "4786  [{\"iso_3166_1\": \"US\", \"name\": \"United States o...           0     88.0   \n",
       "4787                                                 []           0     78.0   \n",
       "4788  [{\"iso_3166_1\": \"US\", \"name\": \"United States o...     6000000     93.0   \n",
       "4789  [{\"iso_3166_1\": \"GB\", \"name\": \"United Kingdom\"...           0    111.0   \n",
       "4790             [{\"iso_3166_1\": \"IR\", \"name\": \"Iran\"}]           0     90.0   \n",
       "4791          [{\"iso_3166_1\": \"IE\", \"name\": \"Ireland\"}]           0     84.0   \n",
       "4792            [{\"iso_3166_1\": \"JP\", \"name\": \"Japan\"}]       99000    111.0   \n",
       "4793  [{\"iso_3166_1\": \"US\", \"name\": \"United States o...           0     90.0   \n",
       "4794  [{\"iso_3166_1\": \"US\", \"name\": \"United States o...           0     82.0   \n",
       "4795  [{\"iso_3166_1\": \"US\", \"name\": \"United States o...           0     98.0   \n",
       "4796  [{\"iso_3166_1\": \"US\", \"name\": \"United States o...      424760     77.0   \n",
       "4797                                                 []           0     80.0   \n",
       "4798  [{\"iso_3166_1\": \"MX\", \"name\": \"Mexico\"}, {\"iso...     2040920     81.0   \n",
       "4799                                                 []           0     85.0   \n",
       "4800  [{\"iso_3166_1\": \"US\", \"name\": \"United States o...           0    120.0   \n",
       "4801  [{\"iso_3166_1\": \"US\", \"name\": \"United States o...           0     98.0   \n",
       "4802  [{\"iso_3166_1\": \"US\", \"name\": \"United States o...           0     90.0   \n",
       "\n",
       "      vote_average  vote_count  \n",
       "0              7.2       11800  \n",
       "1              6.9        4500  \n",
       "2              6.3        4466  \n",
       "3              7.6        9106  \n",
       "4              6.1        2124  \n",
       "5              5.9        3576  \n",
       "6              7.4        3330  \n",
       "7              7.3        6767  \n",
       "8              7.4        5293  \n",
       "9              5.7        7004  \n",
       "10             5.4        1400  \n",
       "11             6.1        2965  \n",
       "12             7.0        5246  \n",
       "13             5.9        2311  \n",
       "14             6.5        6359  \n",
       "15             6.3        1630  \n",
       "16             7.4       11776  \n",
       "17             6.4        4948  \n",
       "18             6.2        4160  \n",
       "19             7.1        4760  \n",
       "20             6.5        6586  \n",
       "21             6.2        1398  \n",
       "22             7.6        4524  \n",
       "23             5.8        1303  \n",
       "24             6.6        2337  \n",
       "25             7.5        7562  \n",
       "26             7.1        7241  \n",
       "27             5.5        2114  \n",
       "28             6.5        8662  \n",
       "29             6.9        7604  \n",
       "...            ...         ...  \n",
       "4773           7.4         755  \n",
       "4774           6.0           9  \n",
       "4775           6.3           8  \n",
       "4776           6.8          44  \n",
       "4777           5.5           2  \n",
       "4778           6.0         131  \n",
       "4779           6.4          77  \n",
       "4780           0.0           0  \n",
       "4781           6.0           1  \n",
       "4782           6.8          19  \n",
       "4783           4.7          79  \n",
       "4784           6.2          15  \n",
       "4785           0.0           0  \n",
       "4786           5.6          12  \n",
       "4787           4.2          13  \n",
       "4788           6.2         110  \n",
       "4789           6.7          17  \n",
       "4790           6.6          17  \n",
       "4791           2.0           1  \n",
       "4792           7.4          63  \n",
       "4793           6.0           2  \n",
       "4794           0.0           0  \n",
       "4795           6.0           1  \n",
       "4796           6.9         658  \n",
       "4797           7.5           2  \n",
       "4798           6.6         238  \n",
       "4799           5.9           5  \n",
       "4800           7.0           6  \n",
       "4801           5.7           7  \n",
       "4802           6.3          16  \n",
       "\n",
       "[4803 rows x 8 columns]"
      ]
     },
     "execution_count": 16,
     "metadata": {},
     "output_type": "execute_result"
    }
   ],
   "source": [
    "data"
   ]
  },
  {
   "cell_type": "code",
   "execution_count": 17,
   "metadata": {},
   "outputs": [
    {
     "name": "stdout",
     "output_type": "stream",
     "text": [
      "         budget original_language  popularity  \\\n",
      "0     237000000                en  150.437577   \n",
      "1     300000000                en  139.082615   \n",
      "2     245000000                en  107.376788   \n",
      "3     250000000                en  112.312950   \n",
      "4     260000000                en   43.926995   \n",
      "5     258000000                en  115.699814   \n",
      "6     260000000                en   48.681969   \n",
      "7     280000000                en  134.279229   \n",
      "8     250000000                en   98.885637   \n",
      "9     250000000                en  155.790452   \n",
      "10    270000000                en   57.925623   \n",
      "11    200000000                en  107.928811   \n",
      "12    200000000                en  145.847379   \n",
      "13    255000000                en   49.046956   \n",
      "14    225000000                en   99.398009   \n",
      "15    225000000                en   53.978602   \n",
      "16    220000000                en  144.448633   \n",
      "17    380000000                en  135.413856   \n",
      "18    225000000                en   52.035179   \n",
      "19    250000000                en  120.965743   \n",
      "20    215000000                en   89.866276   \n",
      "21    200000000                en   37.668301   \n",
      "22    250000000                en   94.370564   \n",
      "23    180000000                en   42.990906   \n",
      "24    207000000                en   61.226010   \n",
      "25    200000000                en  100.025899   \n",
      "26    250000000                en  198.372395   \n",
      "27    209000000                en   64.928382   \n",
      "28    150000000                en  418.708552   \n",
      "29    200000000                en   93.004993   \n",
      "...         ...               ...         ...   \n",
      "4773      27000                en   19.748658   \n",
      "4774      27000                en    0.027811   \n",
      "4775          0                en    0.362633   \n",
      "4776          0                en    2.634007   \n",
      "4777          0                en    0.039264   \n",
      "4778          0                en    7.101197   \n",
      "4779          0                en    3.320622   \n",
      "4780          0                en    0.038143   \n",
      "4781      22000                en    0.048948   \n",
      "4782          0                en    1.048524   \n",
      "4783          0                en    3.619167   \n",
      "4784          0                en    1.243955   \n",
      "4785          0                en    0.327794   \n",
      "4786          0                en    0.674570   \n",
      "4787          0                en    3.545991   \n",
      "4788      12000                en    4.553644   \n",
      "4789          0                en    1.464566   \n",
      "4790          0                fa    1.193779   \n",
      "4791         13                en    0.332679   \n",
      "4792      20000                ja    0.212443   \n",
      "4793          0                en    0.029757   \n",
      "4794          0                en    0.166513   \n",
      "4795          0                en    0.918116   \n",
      "4796       7000                en   23.307949   \n",
      "4797          0                en    0.022173   \n",
      "4798     220000                es   14.269792   \n",
      "4799       9000                en    0.642552   \n",
      "4800          0                en    1.444476   \n",
      "4801          0                en    0.857008   \n",
      "4802          0                en    1.929883   \n",
      "\n",
      "                                   production_countries     revenue  runtime  \\\n",
      "0     [{\"iso_3166_1\": \"US\", \"name\": \"United States o...  2787965087    162.0   \n",
      "1     [{\"iso_3166_1\": \"US\", \"name\": \"United States o...   961000000    169.0   \n",
      "2     [{\"iso_3166_1\": \"GB\", \"name\": \"United Kingdom\"...   880674609    148.0   \n",
      "3     [{\"iso_3166_1\": \"US\", \"name\": \"United States o...  1084939099    165.0   \n",
      "4     [{\"iso_3166_1\": \"US\", \"name\": \"United States o...   284139100    132.0   \n",
      "5     [{\"iso_3166_1\": \"US\", \"name\": \"United States o...   890871626    139.0   \n",
      "6     [{\"iso_3166_1\": \"US\", \"name\": \"United States o...   591794936    100.0   \n",
      "7     [{\"iso_3166_1\": \"US\", \"name\": \"United States o...  1405403694    141.0   \n",
      "8     [{\"iso_3166_1\": \"GB\", \"name\": \"United Kingdom\"...   933959197    153.0   \n",
      "9     [{\"iso_3166_1\": \"US\", \"name\": \"United States o...   873260194    151.0   \n",
      "10    [{\"iso_3166_1\": \"US\", \"name\": \"United States o...   391081192    154.0   \n",
      "11    [{\"iso_3166_1\": \"GB\", \"name\": \"United Kingdom\"...   586090727    106.0   \n",
      "12    [{\"iso_3166_1\": \"JM\", \"name\": \"Jamaica\"}, {\"is...  1065659812    151.0   \n",
      "13    [{\"iso_3166_1\": \"US\", \"name\": \"United States o...    89289910    149.0   \n",
      "14    [{\"iso_3166_1\": \"GB\", \"name\": \"United Kingdom\"...   662845518    143.0   \n",
      "15    [{\"iso_3166_1\": \"CZ\", \"name\": \"Czech Republic\"...   419651413    150.0   \n",
      "16    [{\"iso_3166_1\": \"US\", \"name\": \"United States o...  1519557910    143.0   \n",
      "17    [{\"iso_3166_1\": \"US\", \"name\": \"United States o...  1045713802    136.0   \n",
      "18    [{\"iso_3166_1\": \"US\", \"name\": \"United States o...   624026776    106.0   \n",
      "19    [{\"iso_3166_1\": \"NZ\", \"name\": \"New Zealand\"}, ...   956019788    144.0   \n",
      "20    [{\"iso_3166_1\": \"US\", \"name\": \"United States o...   752215857    136.0   \n",
      "21    [{\"iso_3166_1\": \"GB\", \"name\": \"United Kingdom\"...   310669540    140.0   \n",
      "22    [{\"iso_3166_1\": \"NZ\", \"name\": \"New Zealand\"}, ...   958400000    161.0   \n",
      "23    [{\"iso_3166_1\": \"GB\", \"name\": \"United Kingdom\"...   372234864    113.0   \n",
      "24    [{\"iso_3166_1\": \"NZ\", \"name\": \"New Zealand\"}, ...   550000000    187.0   \n",
      "25    [{\"iso_3166_1\": \"US\", \"name\": \"United States o...  1845034188    194.0   \n",
      "26    [{\"iso_3166_1\": \"US\", \"name\": \"United States o...  1153304495    147.0   \n",
      "27    [{\"iso_3166_1\": \"US\", \"name\": \"United States o...   303025485    131.0   \n",
      "28    [{\"iso_3166_1\": \"US\", \"name\": \"United States o...  1513528810    124.0   \n",
      "29    [{\"iso_3166_1\": \"GB\", \"name\": \"United Kingdom\"...  1108561013    143.0   \n",
      "...                                                 ...         ...      ...   \n",
      "4773  [{\"iso_3166_1\": \"US\", \"name\": \"United States o...     3151130     92.0   \n",
      "4774  [{\"iso_3166_1\": \"US\", \"name\": \"United States o...           0     64.0   \n",
      "4775  [{\"iso_3166_1\": \"US\", \"name\": \"United States o...       76901     85.0   \n",
      "4776  [{\"iso_3166_1\": \"CA\", \"name\": \"Canada\"}, {\"iso...           0     97.0   \n",
      "4777  [{\"iso_3166_1\": \"US\", \"name\": \"United States o...           0     78.0   \n",
      "4778  [{\"iso_3166_1\": \"CA\", \"name\": \"Canada\"}, {\"iso...           0     85.0   \n",
      "4779  [{\"iso_3166_1\": \"US\", \"name\": \"United States o...           0     97.0   \n",
      "4780                                                 []           0     90.0   \n",
      "4781  [{\"iso_3166_1\": \"US\", \"name\": \"United States o...           0     90.0   \n",
      "4782  [{\"iso_3166_1\": \"US\", \"name\": \"United States o...           0    120.0   \n",
      "4783  [{\"iso_3166_1\": \"US\", \"name\": \"United States o...           0     91.0   \n",
      "4784                                                 []           0     85.0   \n",
      "4785            [{\"iso_3166_1\": \"KE\", \"name\": \"Kenya\"}]           0     60.0   \n",
      "4786  [{\"iso_3166_1\": \"US\", \"name\": \"United States o...           0     88.0   \n",
      "4787                                                 []           0     78.0   \n",
      "4788  [{\"iso_3166_1\": \"US\", \"name\": \"United States o...     6000000     93.0   \n",
      "4789  [{\"iso_3166_1\": \"GB\", \"name\": \"United Kingdom\"...           0    111.0   \n",
      "4790             [{\"iso_3166_1\": \"IR\", \"name\": \"Iran\"}]           0     90.0   \n",
      "4791          [{\"iso_3166_1\": \"IE\", \"name\": \"Ireland\"}]           0     84.0   \n",
      "4792            [{\"iso_3166_1\": \"JP\", \"name\": \"Japan\"}]       99000    111.0   \n",
      "4793  [{\"iso_3166_1\": \"US\", \"name\": \"United States o...           0     90.0   \n",
      "4794  [{\"iso_3166_1\": \"US\", \"name\": \"United States o...           0     82.0   \n",
      "4795  [{\"iso_3166_1\": \"US\", \"name\": \"United States o...           0     98.0   \n",
      "4796  [{\"iso_3166_1\": \"US\", \"name\": \"United States o...      424760     77.0   \n",
      "4797                                                 []           0     80.0   \n",
      "4798  [{\"iso_3166_1\": \"MX\", \"name\": \"Mexico\"}, {\"iso...     2040920     81.0   \n",
      "4799                                                 []           0     85.0   \n",
      "4800  [{\"iso_3166_1\": \"US\", \"name\": \"United States o...           0    120.0   \n",
      "4801  [{\"iso_3166_1\": \"US\", \"name\": \"United States o...           0     98.0   \n",
      "4802  [{\"iso_3166_1\": \"US\", \"name\": \"United States o...           0     90.0   \n",
      "\n",
      "      vote_average  vote_count  \n",
      "0              7.2       11800  \n",
      "1              6.9        4500  \n",
      "2              6.3        4466  \n",
      "3              7.6        9106  \n",
      "4              6.1        2124  \n",
      "5              5.9        3576  \n",
      "6              7.4        3330  \n",
      "7              7.3        6767  \n",
      "8              7.4        5293  \n",
      "9              5.7        7004  \n",
      "10             5.4        1400  \n",
      "11             6.1        2965  \n",
      "12             7.0        5246  \n",
      "13             5.9        2311  \n",
      "14             6.5        6359  \n",
      "15             6.3        1630  \n",
      "16             7.4       11776  \n",
      "17             6.4        4948  \n",
      "18             6.2        4160  \n",
      "19             7.1        4760  \n",
      "20             6.5        6586  \n",
      "21             6.2        1398  \n",
      "22             7.6        4524  \n",
      "23             5.8        1303  \n",
      "24             6.6        2337  \n",
      "25             7.5        7562  \n",
      "26             7.1        7241  \n",
      "27             5.5        2114  \n",
      "28             6.5        8662  \n",
      "29             6.9        7604  \n",
      "...            ...         ...  \n",
      "4773           7.4         755  \n",
      "4774           6.0           9  \n",
      "4775           6.3           8  \n",
      "4776           6.8          44  \n",
      "4777           5.5           2  \n",
      "4778           6.0         131  \n",
      "4779           6.4          77  \n",
      "4780           0.0           0  \n",
      "4781           6.0           1  \n",
      "4782           6.8          19  \n",
      "4783           4.7          79  \n",
      "4784           6.2          15  \n",
      "4785           0.0           0  \n",
      "4786           5.6          12  \n",
      "4787           4.2          13  \n",
      "4788           6.2         110  \n",
      "4789           6.7          17  \n",
      "4790           6.6          17  \n",
      "4791           2.0           1  \n",
      "4792           7.4          63  \n",
      "4793           6.0           2  \n",
      "4794           0.0           0  \n",
      "4795           6.0           1  \n",
      "4796           6.9         658  \n",
      "4797           7.5           2  \n",
      "4798           6.6         238  \n",
      "4799           5.9           5  \n",
      "4800           7.0           6  \n",
      "4801           5.7           7  \n",
      "4802           6.3          16  \n",
      "\n",
      "[4803 rows x 8 columns]\n"
     ]
    }
   ],
   "source": [
    "print(data)"
   ]
  },
  {
   "cell_type": "code",
   "execution_count": 18,
   "metadata": {
    "scrolled": false
   },
   "outputs": [
    {
     "name": "stdout",
     "output_type": "stream",
     "text": [
      "Index([u'budget', u'original_language', u'popularity', u'production_countries',\n",
      "       u'revenue', u'runtime', u'vote_average', u'vote_count'],\n",
      "      dtype='object')\n"
     ]
    }
   ],
   "source": [
    "print(data.columns)"
   ]
  },
  {
   "cell_type": "code",
   "execution_count": 19,
   "metadata": {},
   "outputs": [
    {
     "data": {
      "text/html": [
       "<div>\n",
       "<style scoped>\n",
       "    .dataframe tbody tr th:only-of-type {\n",
       "        vertical-align: middle;\n",
       "    }\n",
       "\n",
       "    .dataframe tbody tr th {\n",
       "        vertical-align: top;\n",
       "    }\n",
       "\n",
       "    .dataframe thead th {\n",
       "        text-align: right;\n",
       "    }\n",
       "</style>\n",
       "<table border=\"1\" class=\"dataframe\">\n",
       "  <thead>\n",
       "    <tr style=\"text-align: right;\">\n",
       "      <th></th>\n",
       "      <th>budget</th>\n",
       "      <th>original_language</th>\n",
       "      <th>popularity</th>\n",
       "      <th>production_countries</th>\n",
       "      <th>revenue</th>\n",
       "      <th>runtime</th>\n",
       "      <th>vote_average</th>\n",
       "      <th>vote_count</th>\n",
       "    </tr>\n",
       "  </thead>\n",
       "  <tbody>\n",
       "    <tr>\n",
       "      <th>0</th>\n",
       "      <td>237000000</td>\n",
       "      <td>en</td>\n",
       "      <td>150.437577</td>\n",
       "      <td>[{\"iso_3166_1\": \"US\", \"name\": \"United States o...</td>\n",
       "      <td>2787965087</td>\n",
       "      <td>162.0</td>\n",
       "      <td>7.2</td>\n",
       "      <td>11800</td>\n",
       "    </tr>\n",
       "    <tr>\n",
       "      <th>1</th>\n",
       "      <td>300000000</td>\n",
       "      <td>en</td>\n",
       "      <td>139.082615</td>\n",
       "      <td>[{\"iso_3166_1\": \"US\", \"name\": \"United States o...</td>\n",
       "      <td>961000000</td>\n",
       "      <td>169.0</td>\n",
       "      <td>6.9</td>\n",
       "      <td>4500</td>\n",
       "    </tr>\n",
       "    <tr>\n",
       "      <th>2</th>\n",
       "      <td>245000000</td>\n",
       "      <td>en</td>\n",
       "      <td>107.376788</td>\n",
       "      <td>[{\"iso_3166_1\": \"GB\", \"name\": \"United Kingdom\"...</td>\n",
       "      <td>880674609</td>\n",
       "      <td>148.0</td>\n",
       "      <td>6.3</td>\n",
       "      <td>4466</td>\n",
       "    </tr>\n",
       "    <tr>\n",
       "      <th>3</th>\n",
       "      <td>250000000</td>\n",
       "      <td>en</td>\n",
       "      <td>112.312950</td>\n",
       "      <td>[{\"iso_3166_1\": \"US\", \"name\": \"United States o...</td>\n",
       "      <td>1084939099</td>\n",
       "      <td>165.0</td>\n",
       "      <td>7.6</td>\n",
       "      <td>9106</td>\n",
       "    </tr>\n",
       "    <tr>\n",
       "      <th>4</th>\n",
       "      <td>260000000</td>\n",
       "      <td>en</td>\n",
       "      <td>43.926995</td>\n",
       "      <td>[{\"iso_3166_1\": \"US\", \"name\": \"United States o...</td>\n",
       "      <td>284139100</td>\n",
       "      <td>132.0</td>\n",
       "      <td>6.1</td>\n",
       "      <td>2124</td>\n",
       "    </tr>\n",
       "  </tbody>\n",
       "</table>\n",
       "</div>"
      ],
      "text/plain": [
       "      budget original_language  popularity  \\\n",
       "0  237000000                en  150.437577   \n",
       "1  300000000                en  139.082615   \n",
       "2  245000000                en  107.376788   \n",
       "3  250000000                en  112.312950   \n",
       "4  260000000                en   43.926995   \n",
       "\n",
       "                                production_countries     revenue  runtime  \\\n",
       "0  [{\"iso_3166_1\": \"US\", \"name\": \"United States o...  2787965087    162.0   \n",
       "1  [{\"iso_3166_1\": \"US\", \"name\": \"United States o...   961000000    169.0   \n",
       "2  [{\"iso_3166_1\": \"GB\", \"name\": \"United Kingdom\"...   880674609    148.0   \n",
       "3  [{\"iso_3166_1\": \"US\", \"name\": \"United States o...  1084939099    165.0   \n",
       "4  [{\"iso_3166_1\": \"US\", \"name\": \"United States o...   284139100    132.0   \n",
       "\n",
       "   vote_average  vote_count  \n",
       "0           7.2       11800  \n",
       "1           6.9        4500  \n",
       "2           6.3        4466  \n",
       "3           7.6        9106  \n",
       "4           6.1        2124  "
      ]
     },
     "execution_count": 19,
     "metadata": {},
     "output_type": "execute_result"
    }
   ],
   "source": [
    "data.head()"
   ]
  },
  {
   "cell_type": "code",
   "execution_count": 20,
   "metadata": {},
   "outputs": [
    {
     "data": {
      "text/html": [
       "<div>\n",
       "<style scoped>\n",
       "    .dataframe tbody tr th:only-of-type {\n",
       "        vertical-align: middle;\n",
       "    }\n",
       "\n",
       "    .dataframe tbody tr th {\n",
       "        vertical-align: top;\n",
       "    }\n",
       "\n",
       "    .dataframe thead th {\n",
       "        text-align: right;\n",
       "    }\n",
       "</style>\n",
       "<table border=\"1\" class=\"dataframe\">\n",
       "  <thead>\n",
       "    <tr style=\"text-align: right;\">\n",
       "      <th></th>\n",
       "      <th>budget</th>\n",
       "      <th>original_language</th>\n",
       "      <th>popularity</th>\n",
       "      <th>production_countries</th>\n",
       "      <th>revenue</th>\n",
       "      <th>runtime</th>\n",
       "      <th>vote_average</th>\n",
       "      <th>vote_count</th>\n",
       "    </tr>\n",
       "  </thead>\n",
       "  <tbody>\n",
       "    <tr>\n",
       "      <th>4798</th>\n",
       "      <td>220000</td>\n",
       "      <td>es</td>\n",
       "      <td>14.269792</td>\n",
       "      <td>[{\"iso_3166_1\": \"MX\", \"name\": \"Mexico\"}, {\"iso...</td>\n",
       "      <td>2040920</td>\n",
       "      <td>81.0</td>\n",
       "      <td>6.6</td>\n",
       "      <td>238</td>\n",
       "    </tr>\n",
       "    <tr>\n",
       "      <th>4799</th>\n",
       "      <td>9000</td>\n",
       "      <td>en</td>\n",
       "      <td>0.642552</td>\n",
       "      <td>[]</td>\n",
       "      <td>0</td>\n",
       "      <td>85.0</td>\n",
       "      <td>5.9</td>\n",
       "      <td>5</td>\n",
       "    </tr>\n",
       "    <tr>\n",
       "      <th>4800</th>\n",
       "      <td>0</td>\n",
       "      <td>en</td>\n",
       "      <td>1.444476</td>\n",
       "      <td>[{\"iso_3166_1\": \"US\", \"name\": \"United States o...</td>\n",
       "      <td>0</td>\n",
       "      <td>120.0</td>\n",
       "      <td>7.0</td>\n",
       "      <td>6</td>\n",
       "    </tr>\n",
       "    <tr>\n",
       "      <th>4801</th>\n",
       "      <td>0</td>\n",
       "      <td>en</td>\n",
       "      <td>0.857008</td>\n",
       "      <td>[{\"iso_3166_1\": \"US\", \"name\": \"United States o...</td>\n",
       "      <td>0</td>\n",
       "      <td>98.0</td>\n",
       "      <td>5.7</td>\n",
       "      <td>7</td>\n",
       "    </tr>\n",
       "    <tr>\n",
       "      <th>4802</th>\n",
       "      <td>0</td>\n",
       "      <td>en</td>\n",
       "      <td>1.929883</td>\n",
       "      <td>[{\"iso_3166_1\": \"US\", \"name\": \"United States o...</td>\n",
       "      <td>0</td>\n",
       "      <td>90.0</td>\n",
       "      <td>6.3</td>\n",
       "      <td>16</td>\n",
       "    </tr>\n",
       "  </tbody>\n",
       "</table>\n",
       "</div>"
      ],
      "text/plain": [
       "      budget original_language  popularity  \\\n",
       "4798  220000                es   14.269792   \n",
       "4799    9000                en    0.642552   \n",
       "4800       0                en    1.444476   \n",
       "4801       0                en    0.857008   \n",
       "4802       0                en    1.929883   \n",
       "\n",
       "                                   production_countries  revenue  runtime  \\\n",
       "4798  [{\"iso_3166_1\": \"MX\", \"name\": \"Mexico\"}, {\"iso...  2040920     81.0   \n",
       "4799                                                 []        0     85.0   \n",
       "4800  [{\"iso_3166_1\": \"US\", \"name\": \"United States o...        0    120.0   \n",
       "4801  [{\"iso_3166_1\": \"US\", \"name\": \"United States o...        0     98.0   \n",
       "4802  [{\"iso_3166_1\": \"US\", \"name\": \"United States o...        0     90.0   \n",
       "\n",
       "      vote_average  vote_count  \n",
       "4798           6.6         238  \n",
       "4799           5.9           5  \n",
       "4800           7.0           6  \n",
       "4801           5.7           7  \n",
       "4802           6.3          16  "
      ]
     },
     "execution_count": 20,
     "metadata": {},
     "output_type": "execute_result"
    }
   ],
   "source": [
    "data.tail()"
   ]
  },
  {
   "cell_type": "markdown",
   "metadata": {},
   "source": [
    "#Attributes for student-mat.csv (Math course) datasets:\n",
    "<ul>\n",
    "    <li>budget – бюджет</li>\n",
    "    <li>original_language – язык оригинала</li>\n",
    "    <li>popularity – популярность</li>\n",
    "    <li>production_countries – страна производства</li>\n",
    "    <li>revenue – сборы</li>\n",
    "    <li>runtime – длительность</li>\n",
    "    <li>vote_average – рейтинг</li>\n",
    "    <li>vote_count – количество голосов</li>\n",
    "</ul>"
   ]
  },
  {
   "cell_type": "code",
   "execution_count": 21,
   "metadata": {
    "scrolled": true
   },
   "outputs": [
    {
     "name": "stdout",
     "output_type": "stream",
     "text": [
      "(4803, 8)\n",
      "Index([u'budget', u'original_language', u'popularity', u'production_countries',\n",
      "       u'revenue', u'runtime', u'vote_average', u'vote_count'],\n",
      "      dtype='object')\n"
     ]
    }
   ],
   "source": [
    "print(data.shape)\n",
    "print(data.columns)"
   ]
  },
  {
   "cell_type": "code",
   "execution_count": 22,
   "metadata": {},
   "outputs": [
    {
     "data": {
      "text/plain": [
       "RangeIndex(start=0, stop=4803, step=1)"
      ]
     },
     "execution_count": 22,
     "metadata": {},
     "output_type": "execute_result"
    }
   ],
   "source": [
    "data.index\n"
   ]
  },
  {
   "cell_type": "code",
   "execution_count": 23,
   "metadata": {},
   "outputs": [
    {
     "data": {
      "text/plain": [
       "260000000"
      ]
     },
     "execution_count": 23,
     "metadata": {},
     "output_type": "execute_result"
    }
   ],
   "source": [
    "data.at[4, 'budget']\n"
   ]
  },
  {
   "cell_type": "code",
   "execution_count": 24,
   "metadata": {},
   "outputs": [
    {
     "data": {
      "text/plain": [
       "0       237000000\n",
       "1       300000000\n",
       "2       245000000\n",
       "3       250000000\n",
       "4       260000000\n",
       "5       258000000\n",
       "6       260000000\n",
       "7       280000000\n",
       "8       250000000\n",
       "9       250000000\n",
       "10      270000000\n",
       "11      200000000\n",
       "12      200000000\n",
       "13      255000000\n",
       "14      225000000\n",
       "15      225000000\n",
       "16      220000000\n",
       "17      380000000\n",
       "18      225000000\n",
       "19      250000000\n",
       "20      215000000\n",
       "21      200000000\n",
       "22      250000000\n",
       "23      180000000\n",
       "24      207000000\n",
       "25      200000000\n",
       "26      250000000\n",
       "27      209000000\n",
       "28      150000000\n",
       "29      200000000\n",
       "          ...    \n",
       "4773        27000\n",
       "4774        27000\n",
       "4775            0\n",
       "4776            0\n",
       "4777            0\n",
       "4778            0\n",
       "4779            0\n",
       "4780            0\n",
       "4781        22000\n",
       "4782            0\n",
       "4783            0\n",
       "4784            0\n",
       "4785            0\n",
       "4786            0\n",
       "4787            0\n",
       "4788        12000\n",
       "4789            0\n",
       "4790            0\n",
       "4791           13\n",
       "4792        20000\n",
       "4793            0\n",
       "4794            0\n",
       "4795            0\n",
       "4796         7000\n",
       "4797            0\n",
       "4798       220000\n",
       "4799         9000\n",
       "4800            0\n",
       "4801            0\n",
       "4802            0\n",
       "Name: budget, Length: 4803, dtype: int64"
      ]
     },
     "execution_count": 24,
     "metadata": {},
     "output_type": "execute_result"
    }
   ],
   "source": [
    "data['budget']"
   ]
  },
  {
   "cell_type": "code",
   "execution_count": 25,
   "metadata": {},
   "outputs": [
    {
     "data": {
      "text/plain": [
       "260000000"
      ]
     },
     "execution_count": 25,
     "metadata": {},
     "output_type": "execute_result"
    }
   ],
   "source": [
    "data['budget'][4]\n"
   ]
  },
  {
   "cell_type": "code",
   "execution_count": 26,
   "metadata": {
    "scrolled": true
   },
   "outputs": [
    {
     "data": {
      "text/plain": [
       "'float64'"
      ]
     },
     "execution_count": 26,
     "metadata": {},
     "output_type": "execute_result"
    }
   ],
   "source": [
    "data['vote_average'].dtype.name"
   ]
  },
  {
   "cell_type": "code",
   "execution_count": 27,
   "metadata": {},
   "outputs": [
    {
     "data": {
      "text/plain": [
       "numpy.float64"
      ]
     },
     "execution_count": 27,
     "metadata": {},
     "output_type": "execute_result"
    }
   ],
   "source": [
    "type(data['vote_average'][3])"
   ]
  },
  {
   "cell_type": "code",
   "execution_count": 28,
   "metadata": {},
   "outputs": [
    {
     "data": {
      "text/plain": [
       "pandas.core.series.Series"
      ]
     },
     "execution_count": 28,
     "metadata": {},
     "output_type": "execute_result"
    }
   ],
   "source": [
    "type(data['vote_average'])"
   ]
  },
  {
   "cell_type": "code",
   "execution_count": 29,
   "metadata": {},
   "outputs": [
    {
     "data": {
      "text/html": [
       "<div>\n",
       "<style scoped>\n",
       "    .dataframe tbody tr th:only-of-type {\n",
       "        vertical-align: middle;\n",
       "    }\n",
       "\n",
       "    .dataframe tbody tr th {\n",
       "        vertical-align: top;\n",
       "    }\n",
       "\n",
       "    .dataframe thead th {\n",
       "        text-align: right;\n",
       "    }\n",
       "</style>\n",
       "<table border=\"1\" class=\"dataframe\">\n",
       "  <thead>\n",
       "    <tr style=\"text-align: right;\">\n",
       "      <th></th>\n",
       "      <th>budget</th>\n",
       "      <th>revenue</th>\n",
       "      <th>vote_average</th>\n",
       "    </tr>\n",
       "  </thead>\n",
       "  <tbody>\n",
       "    <tr>\n",
       "      <th>0</th>\n",
       "      <td>237000000</td>\n",
       "      <td>2787965087</td>\n",
       "      <td>7.2</td>\n",
       "    </tr>\n",
       "    <tr>\n",
       "      <th>1</th>\n",
       "      <td>300000000</td>\n",
       "      <td>961000000</td>\n",
       "      <td>6.9</td>\n",
       "    </tr>\n",
       "    <tr>\n",
       "      <th>2</th>\n",
       "      <td>245000000</td>\n",
       "      <td>880674609</td>\n",
       "      <td>6.3</td>\n",
       "    </tr>\n",
       "    <tr>\n",
       "      <th>3</th>\n",
       "      <td>250000000</td>\n",
       "      <td>1084939099</td>\n",
       "      <td>7.6</td>\n",
       "    </tr>\n",
       "    <tr>\n",
       "      <th>4</th>\n",
       "      <td>260000000</td>\n",
       "      <td>284139100</td>\n",
       "      <td>6.1</td>\n",
       "    </tr>\n",
       "  </tbody>\n",
       "</table>\n",
       "</div>"
      ],
      "text/plain": [
       "      budget     revenue  vote_average\n",
       "0  237000000  2787965087           7.2\n",
       "1  300000000   961000000           6.9\n",
       "2  245000000   880674609           6.3\n",
       "3  250000000  1084939099           7.6\n",
       "4  260000000   284139100           6.1"
      ]
     },
     "execution_count": 29,
     "metadata": {},
     "output_type": "execute_result"
    }
   ],
   "source": [
    "data[['budget', 'revenue', 'vote_average']].head()"
   ]
  },
  {
   "cell_type": "code",
   "execution_count": 30,
   "metadata": {},
   "outputs": [
    {
     "data": {
      "text/html": [
       "<div>\n",
       "<style scoped>\n",
       "    .dataframe tbody tr th:only-of-type {\n",
       "        vertical-align: middle;\n",
       "    }\n",
       "\n",
       "    .dataframe tbody tr th {\n",
       "        vertical-align: top;\n",
       "    }\n",
       "\n",
       "    .dataframe thead th {\n",
       "        text-align: right;\n",
       "    }\n",
       "</style>\n",
       "<table border=\"1\" class=\"dataframe\">\n",
       "  <thead>\n",
       "    <tr style=\"text-align: right;\">\n",
       "      <th></th>\n",
       "      <th>budget</th>\n",
       "      <th>popularity</th>\n",
       "      <th>revenue</th>\n",
       "      <th>runtime</th>\n",
       "      <th>vote_average</th>\n",
       "      <th>vote_count</th>\n",
       "    </tr>\n",
       "  </thead>\n",
       "  <tbody>\n",
       "    <tr>\n",
       "      <th>count</th>\n",
       "      <td>4.803000e+03</td>\n",
       "      <td>4803.000000</td>\n",
       "      <td>4.803000e+03</td>\n",
       "      <td>4801.000000</td>\n",
       "      <td>4803.000000</td>\n",
       "      <td>4803.000000</td>\n",
       "    </tr>\n",
       "    <tr>\n",
       "      <th>mean</th>\n",
       "      <td>2.904504e+07</td>\n",
       "      <td>21.492301</td>\n",
       "      <td>8.226064e+07</td>\n",
       "      <td>106.875859</td>\n",
       "      <td>6.092172</td>\n",
       "      <td>690.217989</td>\n",
       "    </tr>\n",
       "    <tr>\n",
       "      <th>std</th>\n",
       "      <td>4.072239e+07</td>\n",
       "      <td>31.816650</td>\n",
       "      <td>1.628571e+08</td>\n",
       "      <td>22.611935</td>\n",
       "      <td>1.194612</td>\n",
       "      <td>1234.585891</td>\n",
       "    </tr>\n",
       "    <tr>\n",
       "      <th>min</th>\n",
       "      <td>0.000000e+00</td>\n",
       "      <td>0.000000</td>\n",
       "      <td>0.000000e+00</td>\n",
       "      <td>0.000000</td>\n",
       "      <td>0.000000</td>\n",
       "      <td>0.000000</td>\n",
       "    </tr>\n",
       "    <tr>\n",
       "      <th>25%</th>\n",
       "      <td>7.900000e+05</td>\n",
       "      <td>4.668070</td>\n",
       "      <td>0.000000e+00</td>\n",
       "      <td>94.000000</td>\n",
       "      <td>5.600000</td>\n",
       "      <td>54.000000</td>\n",
       "    </tr>\n",
       "    <tr>\n",
       "      <th>50%</th>\n",
       "      <td>1.500000e+07</td>\n",
       "      <td>12.921594</td>\n",
       "      <td>1.917000e+07</td>\n",
       "      <td>103.000000</td>\n",
       "      <td>6.200000</td>\n",
       "      <td>235.000000</td>\n",
       "    </tr>\n",
       "    <tr>\n",
       "      <th>75%</th>\n",
       "      <td>4.000000e+07</td>\n",
       "      <td>28.313505</td>\n",
       "      <td>9.291719e+07</td>\n",
       "      <td>118.000000</td>\n",
       "      <td>6.800000</td>\n",
       "      <td>737.000000</td>\n",
       "    </tr>\n",
       "    <tr>\n",
       "      <th>max</th>\n",
       "      <td>3.800000e+08</td>\n",
       "      <td>875.581305</td>\n",
       "      <td>2.787965e+09</td>\n",
       "      <td>338.000000</td>\n",
       "      <td>10.000000</td>\n",
       "      <td>13752.000000</td>\n",
       "    </tr>\n",
       "  </tbody>\n",
       "</table>\n",
       "</div>"
      ],
      "text/plain": [
       "             budget   popularity       revenue      runtime  vote_average  \\\n",
       "count  4.803000e+03  4803.000000  4.803000e+03  4801.000000   4803.000000   \n",
       "mean   2.904504e+07    21.492301  8.226064e+07   106.875859      6.092172   \n",
       "std    4.072239e+07    31.816650  1.628571e+08    22.611935      1.194612   \n",
       "min    0.000000e+00     0.000000  0.000000e+00     0.000000      0.000000   \n",
       "25%    7.900000e+05     4.668070  0.000000e+00    94.000000      5.600000   \n",
       "50%    1.500000e+07    12.921594  1.917000e+07   103.000000      6.200000   \n",
       "75%    4.000000e+07    28.313505  9.291719e+07   118.000000      6.800000   \n",
       "max    3.800000e+08   875.581305  2.787965e+09   338.000000     10.000000   \n",
       "\n",
       "         vote_count  \n",
       "count   4803.000000  \n",
       "mean     690.217989  \n",
       "std     1234.585891  \n",
       "min        0.000000  \n",
       "25%       54.000000  \n",
       "50%      235.000000  \n",
       "75%      737.000000  \n",
       "max    13752.000000  "
      ]
     },
     "execution_count": 30,
     "metadata": {},
     "output_type": "execute_result"
    }
   ],
   "source": [
    "data.describe()"
   ]
  },
  {
   "cell_type": "code",
   "execution_count": 31,
   "metadata": {},
   "outputs": [
    {
     "data": {
      "image/png": "[encoded data removed]",
      "text/plain": [
       "<Figure size 1080x1080 with 36 Axes>"
      ]
     },
     "metadata": {
      "needs_background": "light"
     },
     "output_type": "display_data"
    }
   ],
   "source": [
    "from pandas.plotting import scatter_matrix\n",
    "scatter_matrix(data, alpha = .05, figsize = (15, 15))\n",
    "pass"
   ]
  },
  {
   "cell_type": "code",
   "execution_count": 32,
   "metadata": {},
   "outputs": [
    {
     "data": {
      "text/html": [
       "<div>\n",
       "<style scoped>\n",
       "    .dataframe tbody tr th:only-of-type {\n",
       "        vertical-align: middle;\n",
       "    }\n",
       "\n",
       "    .dataframe tbody tr th {\n",
       "        vertical-align: top;\n",
       "    }\n",
       "\n",
       "    .dataframe thead th {\n",
       "        text-align: right;\n",
       "    }\n",
       "</style>\n",
       "<table border=\"1\" class=\"dataframe\">\n",
       "  <thead>\n",
       "    <tr style=\"text-align: right;\">\n",
       "      <th></th>\n",
       "      <th>budget</th>\n",
       "      <th>popularity</th>\n",
       "      <th>revenue</th>\n",
       "      <th>runtime</th>\n",
       "      <th>vote_average</th>\n",
       "      <th>vote_count</th>\n",
       "    </tr>\n",
       "  </thead>\n",
       "  <tbody>\n",
       "    <tr>\n",
       "      <th>budget</th>\n",
       "      <td>1.000000</td>\n",
       "      <td>0.505414</td>\n",
       "      <td>0.730823</td>\n",
       "      <td>0.269851</td>\n",
       "      <td>0.093146</td>\n",
       "      <td>0.593180</td>\n",
       "    </tr>\n",
       "    <tr>\n",
       "      <th>popularity</th>\n",
       "      <td>0.505414</td>\n",
       "      <td>1.000000</td>\n",
       "      <td>0.644724</td>\n",
       "      <td>0.225502</td>\n",
       "      <td>0.273952</td>\n",
       "      <td>0.778130</td>\n",
       "    </tr>\n",
       "    <tr>\n",
       "      <th>revenue</th>\n",
       "      <td>0.730823</td>\n",
       "      <td>0.644724</td>\n",
       "      <td>1.000000</td>\n",
       "      <td>0.251093</td>\n",
       "      <td>0.197150</td>\n",
       "      <td>0.781487</td>\n",
       "    </tr>\n",
       "    <tr>\n",
       "      <th>runtime</th>\n",
       "      <td>0.269851</td>\n",
       "      <td>0.225502</td>\n",
       "      <td>0.251093</td>\n",
       "      <td>1.000000</td>\n",
       "      <td>0.375046</td>\n",
       "      <td>0.271944</td>\n",
       "    </tr>\n",
       "    <tr>\n",
       "      <th>vote_average</th>\n",
       "      <td>0.093146</td>\n",
       "      <td>0.273952</td>\n",
       "      <td>0.197150</td>\n",
       "      <td>0.375046</td>\n",
       "      <td>1.000000</td>\n",
       "      <td>0.312997</td>\n",
       "    </tr>\n",
       "    <tr>\n",
       "      <th>vote_count</th>\n",
       "      <td>0.593180</td>\n",
       "      <td>0.778130</td>\n",
       "      <td>0.781487</td>\n",
       "      <td>0.271944</td>\n",
       "      <td>0.312997</td>\n",
       "      <td>1.000000</td>\n",
       "    </tr>\n",
       "  </tbody>\n",
       "</table>\n",
       "</div>"
      ],
      "text/plain": [
       "                budget  popularity   revenue   runtime  vote_average  \\\n",
       "budget        1.000000    0.505414  0.730823  0.269851      0.093146   \n",
       "popularity    0.505414    1.000000  0.644724  0.225502      0.273952   \n",
       "revenue       0.730823    0.644724  1.000000  0.251093      0.197150   \n",
       "runtime       0.269851    0.225502  0.251093  1.000000      0.375046   \n",
       "vote_average  0.093146    0.273952  0.197150  0.375046      1.000000   \n",
       "vote_count    0.593180    0.778130  0.781487  0.271944      0.312997   \n",
       "\n",
       "              vote_count  \n",
       "budget          0.593180  \n",
       "popularity      0.778130  \n",
       "revenue         0.781487  \n",
       "runtime         0.271944  \n",
       "vote_average    0.312997  \n",
       "vote_count      1.000000  "
      ]
     },
     "execution_count": 32,
     "metadata": {},
     "output_type": "execute_result"
    }
   ],
   "source": [
    "data.corr()"
   ]
  },
  {
   "cell_type": "code",
   "execution_count": 33,
   "metadata": {},
   "outputs": [
    {
     "data": {
      "image/png": "[encoded data removed]",
      "text/plain": [
       "<Figure size 432x288 with 1 Axes>"
      ]
     },
     "metadata": {
      "needs_background": "light"
     },
     "output_type": "display_data"
    }
   ],
   "source": [
    "plt.plot(data['popularity'], data['runtime'], 'o', alpha = 0.05)\n",
    "plt.xlabel('popularity')\n",
    "plt.ylabel('runtime')\n",
    "plt.title('popularity vs runtime')\n",
    "pass"
   ]
  },
  {
   "cell_type": "code",
   "execution_count": 34,
   "metadata": {},
   "outputs": [
    {
     "data": {
      "text/plain": [
       "0       False\n",
       "1       False\n",
       "2       False\n",
       "3       False\n",
       "4       False\n",
       "5       False\n",
       "6       False\n",
       "7       False\n",
       "8       False\n",
       "9       False\n",
       "10      False\n",
       "11      False\n",
       "12      False\n",
       "13      False\n",
       "14      False\n",
       "15      False\n",
       "16      False\n",
       "17      False\n",
       "18      False\n",
       "19      False\n",
       "20      False\n",
       "21      False\n",
       "22      False\n",
       "23      False\n",
       "24      False\n",
       "25      False\n",
       "26      False\n",
       "27      False\n",
       "28      False\n",
       "29      False\n",
       "        ...  \n",
       "4773    False\n",
       "4774     True\n",
       "4775    False\n",
       "4776    False\n",
       "4777     True\n",
       "4778    False\n",
       "4779    False\n",
       "4780    False\n",
       "4781    False\n",
       "4782    False\n",
       "4783    False\n",
       "4784    False\n",
       "4785     True\n",
       "4786    False\n",
       "4787     True\n",
       "4788    False\n",
       "4789    False\n",
       "4790    False\n",
       "4791    False\n",
       "4792    False\n",
       "4793    False\n",
       "4794    False\n",
       "4795    False\n",
       "4796     True\n",
       "4797    False\n",
       "4798    False\n",
       "4799    False\n",
       "4800    False\n",
       "4801    False\n",
       "4802    False\n",
       "Name: runtime, Length: 4803, dtype: bool"
      ]
     },
     "execution_count": 34,
     "metadata": {},
     "output_type": "execute_result"
    }
   ],
   "source": [
    "data['runtime'] < 80"
   ]
  },
  {
   "cell_type": "code",
   "execution_count": 35,
   "metadata": {},
   "outputs": [
    {
     "data": {
      "image/png": "[encoded data removed]",
      "text/plain": [
       "<Figure size 576x576 with 1 Axes>"
      ]
     },
     "metadata": {
      "needs_background": "light"
     },
     "output_type": "display_data"
    }
   ],
   "source": [
    "plt.figure(figsize = (8, 8))\n",
    "\n",
    "plt.scatter(data[data['vote_average'] < 2]['budget'],\n",
    "            data[data['vote_average'] < 2]['runtime'],\n",
    "            alpha = 0.1,\n",
    "            label = 'terrible',\n",
    "            color = 'orange')\n",
    "\n",
    "plt.scatter(data[(data['vote_average'] > 2)&(data['vote_average'] < 4)]['budget'],\n",
    "            data[(data['vote_average'] > 2)&(data['vote_average'] < 4)]['runtime'],\n",
    "            alpha = 0.1,\n",
    "            label = 'badly',\n",
    "            color = 'g')\n",
    "\n",
    "plt.scatter(data[(data['vote_average'] > 4)&(data['vote_average'] < 6)]['budget'],\n",
    "            data[(data['vote_average'] > 4)&(data['vote_average'] < 6)]['runtime'],\n",
    "            alpha = 0.1,\n",
    "            label = 'fine',\n",
    "            color = 'b')\n",
    "\n",
    "plt.scatter(data[(data['vote_average'] > 6)&(data['vote_average'] < 8)]['budget'],\n",
    "            data[(data['vote_average'] > 6)&(data['vote_average'] < 8)]['runtime'],\n",
    "            alpha = 0.1,\n",
    "            label = 'good',\n",
    "            color = 'purple')\n",
    "\n",
    "plt.scatter(data[(data['vote_average'] > 8)&(data['vote_average'] < 10)]['budget'],\n",
    "            data[(data['vote_average'] > 8)&(data['vote_average'] < 10)]['runtime'],\n",
    "            alpha = 0.1,\n",
    "            label = 'excelent',\n",
    "            color = 'r')\n",
    "\n",
    "plt.xlabel('budget')\n",
    "plt.ylim(0, 350)\n",
    "plt.ylabel('runtime')\n",
    "plt.legend()\n",
    "plt.grid()"
   ]
  },
  {
   "cell_type": "code",
   "execution_count": 36,
   "metadata": {
    "scrolled": true
   },
   "outputs": [
    {
     "data": {
      "image/png": "[encoded data removed]",
      "text/plain": [
       "<Figure size 576x576 with 1 Axes>"
      ]
     },
     "metadata": {
      "needs_background": "light"
     },
     "output_type": "display_data"
    }
   ],
   "source": [
    "plt.figure(figsize = (8, 8))\n",
    "\n",
    "plt.scatter(data[data['vote_average'] < 2]['budget'],\n",
    "            data[data['vote_average'] < 2]['runtime'],\n",
    "            alpha = 0.1,\n",
    "            label = 'terrible',\n",
    "            color = 'orange')\n",
    "\n",
    "plt.scatter(data[(data['vote_average'] > 2)&(data['vote_average'] < 4)]['budget'],\n",
    "            data[(data['vote_average'] > 2)&(data['vote_average'] < 4)]['runtime'],\n",
    "            alpha = 0.1,\n",
    "            label = 'badly',\n",
    "            color = 'g')\n",
    "\n",
    "plt.scatter(data[(data['vote_average'] > 4)&(data['vote_average'] < 6)]['budget'],\n",
    "            data[(data['vote_average'] > 4)&(data['vote_average'] < 6)]['runtime'],\n",
    "            alpha = 0.1,\n",
    "            label = 'fine',\n",
    "            color = 'b')\n",
    "\n",
    "plt.scatter(data[(data['vote_average'] > 6)&(data['vote_average'] < 8)]['budget'],\n",
    "            data[(data['vote_average'] > 6)&(data['vote_average'] < 8)]['runtime'],\n",
    "            alpha = 0.1,\n",
    "            label = 'good',\n",
    "            color = 'purple')\n",
    "\n",
    "plt.scatter(data[(data['vote_average'] > 8)&(data['vote_average'] < 10)]['budget'],\n",
    "            data[(data['vote_average'] > 8)&(data['vote_average'] < 10)]['runtime'],\n",
    "            alpha = 0.1,\n",
    "            label = 'excelent',\n",
    "            color = 'r')\n",
    "\n",
    "plt.xlabel('budget')\n",
    "plt.ylabel('runtime')\n",
    "plt.grid()"
   ]
  },
  {
   "cell_type": "code",
   "execution_count": 37,
   "metadata": {},
   "outputs": [
    {
     "data": {
      "text/html": [
       "<div>\n",
       "<style scoped>\n",
       "    .dataframe tbody tr th:only-of-type {\n",
       "        vertical-align: middle;\n",
       "    }\n",
       "\n",
       "    .dataframe tbody tr th {\n",
       "        vertical-align: top;\n",
       "    }\n",
       "\n",
       "    .dataframe thead th {\n",
       "        text-align: right;\n",
       "    }\n",
       "</style>\n",
       "<table border=\"1\" class=\"dataframe\">\n",
       "  <thead>\n",
       "    <tr style=\"text-align: right;\">\n",
       "      <th></th>\n",
       "      <th>original_language</th>\n",
       "      <th>production_countries</th>\n",
       "    </tr>\n",
       "  </thead>\n",
       "  <tbody>\n",
       "    <tr>\n",
       "      <th>count</th>\n",
       "      <td>4803</td>\n",
       "      <td>4803</td>\n",
       "    </tr>\n",
       "    <tr>\n",
       "      <th>unique</th>\n",
       "      <td>37</td>\n",
       "      <td>469</td>\n",
       "    </tr>\n",
       "    <tr>\n",
       "      <th>top</th>\n",
       "      <td>en</td>\n",
       "      <td>[{\"iso_3166_1\": \"US\", \"name\": \"United States o...</td>\n",
       "    </tr>\n",
       "    <tr>\n",
       "      <th>freq</th>\n",
       "      <td>4505</td>\n",
       "      <td>2977</td>\n",
       "    </tr>\n",
       "  </tbody>\n",
       "</table>\n",
       "</div>"
      ],
      "text/plain": [
       "       original_language                               production_countries\n",
       "count               4803                                               4803\n",
       "unique                37                                                469\n",
       "top                   en  [{\"iso_3166_1\": \"US\", \"name\": \"United States o...\n",
       "freq                4505                                               2977"
      ]
     },
     "execution_count": 37,
     "metadata": {},
     "output_type": "execute_result"
    }
   ],
   "source": [
    "data.describe(include = ['object'])"
   ]
  },
  {
   "cell_type": "code",
   "execution_count": 38,
   "metadata": {},
   "outputs": [
    {
     "data": {
      "text/html": [
       "<div>\n",
       "<style scoped>\n",
       "    .dataframe tbody tr th:only-of-type {\n",
       "        vertical-align: middle;\n",
       "    }\n",
       "\n",
       "    .dataframe tbody tr th {\n",
       "        vertical-align: top;\n",
       "    }\n",
       "\n",
       "    .dataframe thead th {\n",
       "        text-align: right;\n",
       "    }\n",
       "</style>\n",
       "<table border=\"1\" class=\"dataframe\">\n",
       "  <thead>\n",
       "    <tr style=\"text-align: right;\">\n",
       "      <th></th>\n",
       "      <th>budget</th>\n",
       "      <th>original_language</th>\n",
       "      <th>popularity</th>\n",
       "      <th>production_countries</th>\n",
       "      <th>revenue</th>\n",
       "      <th>runtime</th>\n",
       "      <th>vote_average</th>\n",
       "      <th>vote_count</th>\n",
       "    </tr>\n",
       "  </thead>\n",
       "  <tbody>\n",
       "    <tr>\n",
       "      <th>count</th>\n",
       "      <td>4.803000e+03</td>\n",
       "      <td>4803</td>\n",
       "      <td>4803.000000</td>\n",
       "      <td>4803</td>\n",
       "      <td>4.803000e+03</td>\n",
       "      <td>4801.000000</td>\n",
       "      <td>4803.000000</td>\n",
       "      <td>4803.000000</td>\n",
       "    </tr>\n",
       "    <tr>\n",
       "      <th>unique</th>\n",
       "      <td>NaN</td>\n",
       "      <td>37</td>\n",
       "      <td>NaN</td>\n",
       "      <td>469</td>\n",
       "      <td>NaN</td>\n",
       "      <td>NaN</td>\n",
       "      <td>NaN</td>\n",
       "      <td>NaN</td>\n",
       "    </tr>\n",
       "    <tr>\n",
       "      <th>top</th>\n",
       "      <td>NaN</td>\n",
       "      <td>en</td>\n",
       "      <td>NaN</td>\n",
       "      <td>[{\"iso_3166_1\": \"US\", \"name\": \"United States o...</td>\n",
       "      <td>NaN</td>\n",
       "      <td>NaN</td>\n",
       "      <td>NaN</td>\n",
       "      <td>NaN</td>\n",
       "    </tr>\n",
       "    <tr>\n",
       "      <th>freq</th>\n",
       "      <td>NaN</td>\n",
       "      <td>4505</td>\n",
       "      <td>NaN</td>\n",
       "      <td>2977</td>\n",
       "      <td>NaN</td>\n",
       "      <td>NaN</td>\n",
       "      <td>NaN</td>\n",
       "      <td>NaN</td>\n",
       "    </tr>\n",
       "    <tr>\n",
       "      <th>mean</th>\n",
       "      <td>2.904504e+07</td>\n",
       "      <td>NaN</td>\n",
       "      <td>21.492301</td>\n",
       "      <td>NaN</td>\n",
       "      <td>8.226064e+07</td>\n",
       "      <td>106.875859</td>\n",
       "      <td>6.092172</td>\n",
       "      <td>690.217989</td>\n",
       "    </tr>\n",
       "    <tr>\n",
       "      <th>std</th>\n",
       "      <td>4.072239e+07</td>\n",
       "      <td>NaN</td>\n",
       "      <td>31.816650</td>\n",
       "      <td>NaN</td>\n",
       "      <td>1.628571e+08</td>\n",
       "      <td>22.611935</td>\n",
       "      <td>1.194612</td>\n",
       "      <td>1234.585891</td>\n",
       "    </tr>\n",
       "    <tr>\n",
       "      <th>min</th>\n",
       "      <td>0.000000e+00</td>\n",
       "      <td>NaN</td>\n",
       "      <td>0.000000</td>\n",
       "      <td>NaN</td>\n",
       "      <td>0.000000e+00</td>\n",
       "      <td>0.000000</td>\n",
       "      <td>0.000000</td>\n",
       "      <td>0.000000</td>\n",
       "    </tr>\n",
       "    <tr>\n",
       "      <th>25%</th>\n",
       "      <td>7.900000e+05</td>\n",
       "      <td>NaN</td>\n",
       "      <td>4.668070</td>\n",
       "      <td>NaN</td>\n",
       "      <td>0.000000e+00</td>\n",
       "      <td>94.000000</td>\n",
       "      <td>5.600000</td>\n",
       "      <td>54.000000</td>\n",
       "    </tr>\n",
       "    <tr>\n",
       "      <th>50%</th>\n",
       "      <td>1.500000e+07</td>\n",
       "      <td>NaN</td>\n",
       "      <td>12.921594</td>\n",
       "      <td>NaN</td>\n",
       "      <td>1.917000e+07</td>\n",
       "      <td>103.000000</td>\n",
       "      <td>6.200000</td>\n",
       "      <td>235.000000</td>\n",
       "    </tr>\n",
       "    <tr>\n",
       "      <th>75%</th>\n",
       "      <td>4.000000e+07</td>\n",
       "      <td>NaN</td>\n",
       "      <td>28.313505</td>\n",
       "      <td>NaN</td>\n",
       "      <td>9.291719e+07</td>\n",
       "      <td>118.000000</td>\n",
       "      <td>6.800000</td>\n",
       "      <td>737.000000</td>\n",
       "    </tr>\n",
       "    <tr>\n",
       "      <th>max</th>\n",
       "      <td>3.800000e+08</td>\n",
       "      <td>NaN</td>\n",
       "      <td>875.581305</td>\n",
       "      <td>NaN</td>\n",
       "      <td>2.787965e+09</td>\n",
       "      <td>338.000000</td>\n",
       "      <td>10.000000</td>\n",
       "      <td>13752.000000</td>\n",
       "    </tr>\n",
       "  </tbody>\n",
       "</table>\n",
       "</div>"
      ],
      "text/plain": [
       "              budget original_language   popularity  \\\n",
       "count   4.803000e+03              4803  4803.000000   \n",
       "unique           NaN                37          NaN   \n",
       "top              NaN                en          NaN   \n",
       "freq             NaN              4505          NaN   \n",
       "mean    2.904504e+07               NaN    21.492301   \n",
       "std     4.072239e+07               NaN    31.816650   \n",
       "min     0.000000e+00               NaN     0.000000   \n",
       "25%     7.900000e+05               NaN     4.668070   \n",
       "50%     1.500000e+07               NaN    12.921594   \n",
       "75%     4.000000e+07               NaN    28.313505   \n",
       "max     3.800000e+08               NaN   875.581305   \n",
       "\n",
       "                                     production_countries       revenue  \\\n",
       "count                                                4803  4.803000e+03   \n",
       "unique                                                469           NaN   \n",
       "top     [{\"iso_3166_1\": \"US\", \"name\": \"United States o...           NaN   \n",
       "freq                                                 2977           NaN   \n",
       "mean                                                  NaN  8.226064e+07   \n",
       "std                                                   NaN  1.628571e+08   \n",
       "min                                                   NaN  0.000000e+00   \n",
       "25%                                                   NaN  0.000000e+00   \n",
       "50%                                                   NaN  1.917000e+07   \n",
       "75%                                                   NaN  9.291719e+07   \n",
       "max                                                   NaN  2.787965e+09   \n",
       "\n",
       "            runtime  vote_average    vote_count  \n",
       "count   4801.000000   4803.000000   4803.000000  \n",
       "unique          NaN           NaN           NaN  \n",
       "top             NaN           NaN           NaN  \n",
       "freq            NaN           NaN           NaN  \n",
       "mean     106.875859      6.092172    690.217989  \n",
       "std       22.611935      1.194612   1234.585891  \n",
       "min        0.000000      0.000000      0.000000  \n",
       "25%       94.000000      5.600000     54.000000  \n",
       "50%      103.000000      6.200000    235.000000  \n",
       "75%      118.000000      6.800000    737.000000  \n",
       "max      338.000000     10.000000  13752.000000  "
      ]
     },
     "execution_count": 38,
     "metadata": {},
     "output_type": "execute_result"
    }
   ],
   "source": [
    "data.describe(include = 'all')"
   ]
  },
  {
   "cell_type": "code",
   "execution_count": 39,
   "metadata": {
    "scrolled": true
   },
   "outputs": [
    {
     "data": {
      "text/plain": [
       "array(['en', 'ja', 'fr', 'zh', 'es', 'de', 'hi', 'ru', 'ko', 'te', 'cn',\n",
       "       'it', 'nl', 'ta', 'sv', 'th', 'da', 'xx', 'hu', 'cs', 'pt', 'is',\n",
       "       'tr', 'nb', 'af', 'pl', 'he', 'ar', 'vi', 'ky', 'id', 'ro', 'fa',\n",
       "       'no', 'sl', 'ps', 'el'], dtype=object)"
      ]
     },
     "execution_count": 39,
     "metadata": {},
     "output_type": "execute_result"
    }
   ],
   "source": [
    "data['original_language'].unique()"
   ]
  },
  {
   "cell_type": "markdown",
   "metadata": {},
   "source": [
    "<h2>Готовим данные</h2>"
   ]
  },
  {
   "cell_type": "code",
   "execution_count": 40,
   "metadata": {},
   "outputs": [
    {
     "data": {
      "text/plain": [
       "'int64'"
      ]
     },
     "execution_count": 40,
     "metadata": {},
     "output_type": "execute_result"
    }
   ],
   "source": [
    "data['budget'].dtype.name"
   ]
  },
  {
   "cell_type": "code",
   "execution_count": 41,
   "metadata": {},
   "outputs": [
    {
     "data": {
      "text/plain": [
       "'int64'"
      ]
     },
     "execution_count": 41,
     "metadata": {},
     "output_type": "execute_result"
    }
   ],
   "source": [
    "data['revenue'].dtype.name"
   ]
  },
  {
   "cell_type": "code",
   "execution_count": 42,
   "metadata": {},
   "outputs": [
    {
     "data": {
      "text/plain": [
       "'float64'"
      ]
     },
     "execution_count": 42,
     "metadata": {},
     "output_type": "execute_result"
    }
   ],
   "source": [
    "data['vote_average'].dtype.name"
   ]
  },
  {
   "cell_type": "code",
   "execution_count": 43,
   "metadata": {},
   "outputs": [
    {
     "name": "stdout",
     "output_type": "stream",
     "text": [
      "<class 'pandas.core.frame.DataFrame'>\n"
     ]
    }
   ],
   "source": [
    "categorical_columns = []\n",
    "numerical_columns = []\n",
    "for c in data.columns:\n",
    "    if data[c].dtype.name == 'object':\n",
    "       categorical_columns.append(c)\n",
    "    else:\n",
    "        numerical_columns.append(c)\n",
    "print(type(data))"
   ]
  },
  {
   "cell_type": "code",
   "execution_count": 44,
   "metadata": {},
   "outputs": [],
   "source": [
    " #делаю из сборов категориальную величину окупился/провалился\n",
    "data.at[data['revenue']/data['budget'] > 4, 'revenue'] = 'good' # окупился\n",
    "for i in range(0,data.shape[0]):\n",
    "    if type(data['revenue'][i]).__name__ != 'str':\n",
    "        data.at[i,'revenue'] = 'bad' # провалился"
   ]
  },
  {
   "cell_type": "code",
   "execution_count": 45,
   "metadata": {
    "scrolled": false
   },
   "outputs": [
    {
     "data": {
      "text/plain": [
       "<bound method Series.unique of 0       good\n",
       "1        bad\n",
       "2        bad\n",
       "3       good\n",
       "4        bad\n",
       "5        bad\n",
       "6        bad\n",
       "7       good\n",
       "8        bad\n",
       "9        bad\n",
       "10       bad\n",
       "11       bad\n",
       "12      good\n",
       "13       bad\n",
       "14       bad\n",
       "15       bad\n",
       "16      good\n",
       "17       bad\n",
       "18       bad\n",
       "19       bad\n",
       "20       bad\n",
       "21       bad\n",
       "22       bad\n",
       "23       bad\n",
       "24       bad\n",
       "25      good\n",
       "26      good\n",
       "27       bad\n",
       "28      good\n",
       "29      good\n",
       "        ... \n",
       "4773    good\n",
       "4774     bad\n",
       "4775    good\n",
       "4776     bad\n",
       "4777     bad\n",
       "4778     bad\n",
       "4779     bad\n",
       "4780     bad\n",
       "4781     bad\n",
       "4782     bad\n",
       "4783     bad\n",
       "4784     bad\n",
       "4785     bad\n",
       "4786     bad\n",
       "4787     bad\n",
       "4788    good\n",
       "4789     bad\n",
       "4790     bad\n",
       "4791     bad\n",
       "4792    good\n",
       "4793     bad\n",
       "4794     bad\n",
       "4795     bad\n",
       "4796    good\n",
       "4797     bad\n",
       "4798    good\n",
       "4799     bad\n",
       "4800     bad\n",
       "4801     bad\n",
       "4802     bad\n",
       "Name: revenue, Length: 4803, dtype: object>"
      ]
     },
     "execution_count": 45,
     "metadata": {},
     "output_type": "execute_result"
    }
   ],
   "source": [
    "data['revenue'].unique"
   ]
  },
  {
   "cell_type": "code",
   "execution_count": 46,
   "metadata": {
    "scrolled": true
   },
   "outputs": [
    {
     "name": "stdout",
     "output_type": "stream",
     "text": [
      "['original_language', 'production_countries', 'revenue']\n",
      "['budget', 'popularity', 'runtime', 'vote_average', 'vote_count']\n"
     ]
    }
   ],
   "source": [
    "categorical_columns = [c for c in data.columns if data[c].dtype.name == 'object']\n",
    "numerical_columns   = [c for c in data.columns if data[c].dtype.name != 'object']\n",
    "print(categorical_columns)\n",
    "print(numerical_columns)"
   ]
  },
  {
   "cell_type": "code",
   "execution_count": 47,
   "metadata": {},
   "outputs": [
    {
     "name": "stdout",
     "output_type": "stream",
     "text": [
      "('original_language', array(['en', 'ja', 'fr', 'zh', 'es', 'de', 'hi', 'ru', 'ko', 'te', 'cn',\n",
      "       'it', 'nl', 'ta', 'sv', 'th', 'da', 'xx', 'hu', 'cs', 'pt', 'is',\n",
      "       'tr', 'nb', 'af', 'pl', 'he', 'ar', 'vi', 'ky', 'id', 'ro', 'fa',\n",
      "       'no', 'sl', 'ps', 'el'], dtype=object))\n",
      "('production_countries', array(['[{\"iso_3166_1\": \"US\", \"name\": \"United States of America\"}, {\"iso_3166_1\": \"GB\", \"name\": \"United Kingdom\"}]',\n",
      "       '[{\"iso_3166_1\": \"US\", \"name\": \"United States of America\"}]',\n",
      "       '[{\"iso_3166_1\": \"GB\", \"name\": \"United Kingdom\"}, {\"iso_3166_1\": \"US\", \"name\": \"United States of America\"}]',\n",
      "       '[{\"iso_3166_1\": \"JM\", \"name\": \"Jamaica\"}, {\"iso_3166_1\": \"US\", \"name\": \"United States of America\"}, {\"iso_3166_1\": \"BS\", \"name\": \"Bahamas\"}, {\"iso_3166_1\": \"DM\", \"name\": \"Dominica\"}]',\n",
      "       '[{\"iso_3166_1\": \"CZ\", \"name\": \"Czech Republic\"}, {\"iso_3166_1\": \"PL\", \"name\": \"Poland\"}, {\"iso_3166_1\": \"SI\", \"name\": \"Slovenia\"}, {\"iso_3166_1\": \"US\", \"name\": \"United States of America\"}]',\n",
      "       '[{\"iso_3166_1\": \"NZ\", \"name\": \"New Zealand\"}, {\"iso_3166_1\": \"US\", \"name\": \"United States of America\"}]',\n",
      "       '[{\"iso_3166_1\": \"NZ\", \"name\": \"New Zealand\"}, {\"iso_3166_1\": \"US\", \"name\": \"United States of America\"}, {\"iso_3166_1\": \"DE\", \"name\": \"Germany\"}]',\n",
      "       '[{\"iso_3166_1\": \"CN\", \"name\": \"China\"}, {\"iso_3166_1\": \"US\", \"name\": \"United States of America\"}]',\n",
      "       '[{\"iso_3166_1\": \"CA\", \"name\": \"Canada\"}, {\"iso_3166_1\": \"GB\", \"name\": \"United Kingdom\"}, {\"iso_3166_1\": \"US\", \"name\": \"United States of America\"}]',\n",
      "       '[{\"iso_3166_1\": \"DE\", \"name\": \"Germany\"}, {\"iso_3166_1\": \"IT\", \"name\": \"Italy\"}, {\"iso_3166_1\": \"GB\", \"name\": \"United Kingdom\"}, {\"iso_3166_1\": \"US\", \"name\": \"United States of America\"}]',\n",
      "       '[{\"iso_3166_1\": \"JP\", \"name\": \"Japan\"}, {\"iso_3166_1\": \"US\", \"name\": \"United States of America\"}]',\n",
      "       '[{\"iso_3166_1\": \"US\", \"name\": \"United States of America\"}, {\"iso_3166_1\": \"MT\", \"name\": \"Malta\"}]',\n",
      "       '[{\"iso_3166_1\": \"US\", \"name\": \"United States of America\"}, {\"iso_3166_1\": \"AU\", \"name\": \"Australia\"}]',\n",
      "       '[{\"iso_3166_1\": \"US\", \"name\": \"United States of America\"}, {\"iso_3166_1\": \"CA\", \"name\": \"Canada\"}]',\n",
      "       '[{\"iso_3166_1\": \"CA\", \"name\": \"Canada\"}, {\"iso_3166_1\": \"US\", \"name\": \"United States of America\"}]',\n",
      "       '[{\"iso_3166_1\": \"FR\", \"name\": \"France\"}, {\"iso_3166_1\": \"US\", \"name\": \"United States of America\"}, {\"iso_3166_1\": \"GB\", \"name\": \"United Kingdom\"}]',\n",
      "       '[{\"iso_3166_1\": \"DE\", \"name\": \"Germany\"}, {\"iso_3166_1\": \"US\", \"name\": \"United States of America\"}]',\n",
      "       '[{\"iso_3166_1\": \"AU\", \"name\": \"Australia\"}, {\"iso_3166_1\": \"US\", \"name\": \"United States of America\"}]',\n",
      "       '[{\"iso_3166_1\": \"CZ\", \"name\": \"Czech Republic\"}, {\"iso_3166_1\": \"US\", \"name\": \"United States of America\"}]',\n",
      "       '[{\"iso_3166_1\": \"AU\", \"name\": \"Australia\"}, {\"iso_3166_1\": \"BE\", \"name\": \"Belgium\"}, {\"iso_3166_1\": \"IN\", \"name\": \"India\"}]',\n",
      "       '[{\"iso_3166_1\": \"DE\", \"name\": \"Germany\"}, {\"iso_3166_1\": \"GB\", \"name\": \"United Kingdom\"}, {\"iso_3166_1\": \"US\", \"name\": \"United States of America\"}]',\n",
      "       '[{\"iso_3166_1\": \"CA\", \"name\": \"Canada\"}, {\"iso_3166_1\": \"US\", \"name\": \"United States of America\"}, {\"iso_3166_1\": \"GB\", \"name\": \"United Kingdom\"}]',\n",
      "       '[{\"iso_3166_1\": \"JP\", \"name\": \"Japan\"}]',\n",
      "       '[{\"iso_3166_1\": \"CA\", \"name\": \"Canada\"}, {\"iso_3166_1\": \"CN\", \"name\": \"China\"}, {\"iso_3166_1\": \"JP\", \"name\": \"Japan\"}, {\"iso_3166_1\": \"US\", \"name\": \"United States of America\"}]',\n",
      "       '[{\"iso_3166_1\": \"FR\", \"name\": \"France\"}, {\"iso_3166_1\": \"DE\", \"name\": \"Germany\"}, {\"iso_3166_1\": \"IT\", \"name\": \"Italy\"}, {\"iso_3166_1\": \"NL\", \"name\": \"Netherlands\"}, {\"iso_3166_1\": \"GB\", \"name\": \"United Kingdom\"}, {\"iso_3166_1\": \"US\", \"name\": \"United States of America\"}]',\n",
      "       '[{\"iso_3166_1\": \"AU\", \"name\": \"Australia\"}, {\"iso_3166_1\": \"GB\", \"name\": \"United Kingdom\"}, {\"iso_3166_1\": \"US\", \"name\": \"United States of America\"}]',\n",
      "       '[{\"iso_3166_1\": \"IT\", \"name\": \"Italy\"}, {\"iso_3166_1\": \"US\", \"name\": \"United States of America\"}]',\n",
      "       '[{\"iso_3166_1\": \"ES\", \"name\": \"Spain\"}, {\"iso_3166_1\": \"US\", \"name\": \"United States of America\"}]',\n",
      "       '[{\"iso_3166_1\": \"CN\", \"name\": \"China\"}, {\"iso_3166_1\": \"DE\", \"name\": \"Germany\"}, {\"iso_3166_1\": \"US\", \"name\": \"United States of America\"}]',\n",
      "       '[{\"iso_3166_1\": \"US\", \"name\": \"United States of America\"}, {\"iso_3166_1\": \"MT\", \"name\": \"Malta\"}, {\"iso_3166_1\": \"GB\", \"name\": \"United Kingdom\"}]',\n",
      "       '[{\"iso_3166_1\": \"CZ\", \"name\": \"Czech Republic\"}, {\"iso_3166_1\": \"US\", \"name\": \"United States of America\"}, {\"iso_3166_1\": \"AE\", \"name\": \"United Arab Emirates\"}]',\n",
      "       '[{\"iso_3166_1\": \"JP\", \"name\": \"Japan\"}, {\"iso_3166_1\": \"US\", \"name\": \"United States of America\"}, {\"iso_3166_1\": \"NZ\", \"name\": \"New Zealand\"}]',\n",
      "       '[{\"iso_3166_1\": \"ES\", \"name\": \"Spain\"}, {\"iso_3166_1\": \"GB\", \"name\": \"United Kingdom\"}, {\"iso_3166_1\": \"US\", \"name\": \"United States of America\"}]',\n",
      "       '[{\"iso_3166_1\": \"DE\", \"name\": \"Germany\"}, {\"iso_3166_1\": \"ES\", \"name\": \"Spain\"}, {\"iso_3166_1\": \"GB\", \"name\": \"United Kingdom\"}, {\"iso_3166_1\": \"US\", \"name\": \"United States of America\"}]',\n",
      "       '[{\"iso_3166_1\": \"AU\", \"name\": \"Australia\"}]',\n",
      "       '[{\"iso_3166_1\": \"IN\", \"name\": \"India\"}, {\"iso_3166_1\": \"US\", \"name\": \"United States of America\"}]',\n",
      "       '[{\"iso_3166_1\": \"CA\", \"name\": \"Canada\"}, {\"iso_3166_1\": \"HK\", \"name\": \"Hong Kong\"}, {\"iso_3166_1\": \"TW\", \"name\": \"Taiwan\"}, {\"iso_3166_1\": \"US\", \"name\": \"United States of America\"}]',\n",
      "       '[{\"iso_3166_1\": \"AU\", \"name\": \"Australia\"}, {\"iso_3166_1\": \"US\", \"name\": \"United States of America\"}, {\"iso_3166_1\": \"GB\", \"name\": \"United Kingdom\"}]',\n",
      "       '[{\"iso_3166_1\": \"US\", \"name\": \"United States of America\"}, {\"iso_3166_1\": \"MT\", \"name\": \"Malta\"}, {\"iso_3166_1\": \"FR\", \"name\": \"France\"}, {\"iso_3166_1\": \"GB\", \"name\": \"United Kingdom\"}]',\n",
      "       '[{\"iso_3166_1\": \"US\", \"name\": \"United States of America\"}, {\"iso_3166_1\": \"TW\", \"name\": \"Taiwan\"}, {\"iso_3166_1\": \"GB\", \"name\": \"United Kingdom\"}]',\n",
      "       '[{\"iso_3166_1\": \"GB\", \"name\": \"United Kingdom\"}, {\"iso_3166_1\": \"US\", \"name\": \"United States of America\"}, {\"iso_3166_1\": \"CN\", \"name\": \"China\"}]',\n",
      "       '[{\"iso_3166_1\": \"AU\", \"name\": \"Australia\"}, {\"iso_3166_1\": \"DE\", \"name\": \"Germany\"}, {\"iso_3166_1\": \"US\", \"name\": \"United States of America\"}]',\n",
      "       '[{\"iso_3166_1\": \"BE\", \"name\": \"Belgium\"}, {\"iso_3166_1\": \"FR\", \"name\": \"France\"}, {\"iso_3166_1\": \"DE\", \"name\": \"Germany\"}, {\"iso_3166_1\": \"IT\", \"name\": \"Italy\"}, {\"iso_3166_1\": \"ES\", \"name\": \"Spain\"}]',\n",
      "       '[{\"iso_3166_1\": \"CN\", \"name\": \"China\"}, {\"iso_3166_1\": \"US\", \"name\": \"United States of America\"}, {\"iso_3166_1\": \"HK\", \"name\": \"Hong Kong\"}]',\n",
      "       '[{\"iso_3166_1\": \"CA\", \"name\": \"Canada\"}, {\"iso_3166_1\": \"US\", \"name\": \"United States of America\"}, {\"iso_3166_1\": \"AU\", \"name\": \"Australia\"}]',\n",
      "       '[{\"iso_3166_1\": \"DE\", \"name\": \"Germany\"}, {\"iso_3166_1\": \"IE\", \"name\": \"Ireland\"}, {\"iso_3166_1\": \"GB\", \"name\": \"United Kingdom\"}, {\"iso_3166_1\": \"US\", \"name\": \"United States of America\"}]',\n",
      "       '[{\"iso_3166_1\": \"US\", \"name\": \"United States of America\"}, {\"iso_3166_1\": \"DE\", \"name\": \"Germany\"}]',\n",
      "       '[{\"iso_3166_1\": \"DE\", \"name\": \"Germany\"}, {\"iso_3166_1\": \"MA\", \"name\": \"Morocco\"}, {\"iso_3166_1\": \"ES\", \"name\": \"Spain\"}, {\"iso_3166_1\": \"GB\", \"name\": \"United Kingdom\"}, {\"iso_3166_1\": \"US\", \"name\": \"United States of America\"}]',\n",
      "       '[]',\n",
      "       '[{\"iso_3166_1\": \"IT\", \"name\": \"Italy\"}, {\"iso_3166_1\": \"GB\", \"name\": \"United Kingdom\"}, {\"iso_3166_1\": \"US\", \"name\": \"United States of America\"}, {\"iso_3166_1\": \"CZ\", \"name\": \"Czech Republic\"}, {\"iso_3166_1\": \"DE\", \"name\": \"Germany\"}]',\n",
      "       '[{\"iso_3166_1\": \"FR\", \"name\": \"France\"}, {\"iso_3166_1\": \"US\", \"name\": \"United States of America\"}]',\n",
      "       '[{\"iso_3166_1\": \"GB\", \"name\": \"United Kingdom\"}, {\"iso_3166_1\": \"US\", \"name\": \"United States of America\"}, {\"iso_3166_1\": \"HU\", \"name\": \"Hungary\"}]',\n",
      "       '[{\"iso_3166_1\": \"GB\", \"name\": \"United Kingdom\"}, {\"iso_3166_1\": \"US\", \"name\": \"United States of America\"}, {\"iso_3166_1\": \"FR\", \"name\": \"France\"}, {\"iso_3166_1\": \"IT\", \"name\": \"Italy\"}]',\n",
      "       '[{\"iso_3166_1\": \"DE\", \"name\": \"Germany\"}, {\"iso_3166_1\": \"HK\", \"name\": \"Hong Kong\"}, {\"iso_3166_1\": \"SG\", \"name\": \"Singapore\"}, {\"iso_3166_1\": \"US\", \"name\": \"United States of America\"}]',\n",
      "       '[{\"iso_3166_1\": \"DE\", \"name\": \"Germany\"}, {\"iso_3166_1\": \"US\", \"name\": \"United States of America\"}, {\"iso_3166_1\": \"CN\", \"name\": \"China\"}]',\n",
      "       '[{\"iso_3166_1\": \"ES\", \"name\": \"Spain\"}, {\"iso_3166_1\": \"GB\", \"name\": \"United Kingdom\"}, {\"iso_3166_1\": \"US\", \"name\": \"United States of America\"}, {\"iso_3166_1\": \"FR\", \"name\": \"France\"}]',\n",
      "       '[{\"iso_3166_1\": \"US\", \"name\": \"United States of America\"}, {\"iso_3166_1\": \"IT\", \"name\": \"Italy\"}]',\n",
      "       '[{\"iso_3166_1\": \"CN\", \"name\": \"China\"}, {\"iso_3166_1\": \"HK\", \"name\": \"Hong Kong\"}]',\n",
      "       '[{\"iso_3166_1\": \"FR\", \"name\": \"France\"}]',\n",
      "       '[{\"iso_3166_1\": \"GB\", \"name\": \"United Kingdom\"}, {\"iso_3166_1\": \"NZ\", \"name\": \"New Zealand\"}, {\"iso_3166_1\": \"US\", \"name\": \"United States of America\"}]',\n",
      "       '[{\"iso_3166_1\": \"CN\", \"name\": \"China\"}, {\"iso_3166_1\": \"CA\", \"name\": \"Canada\"}, {\"iso_3166_1\": \"US\", \"name\": \"United States of America\"}, {\"iso_3166_1\": \"GB\", \"name\": \"United Kingdom\"}]',\n",
      "       '[{\"iso_3166_1\": \"CN\", \"name\": \"China\"}, {\"iso_3166_1\": \"GB\", \"name\": \"United Kingdom\"}, {\"iso_3166_1\": \"US\", \"name\": \"United States of America\"}]',\n",
      "       '[{\"iso_3166_1\": \"FR\", \"name\": \"France\"}, {\"iso_3166_1\": \"DE\", \"name\": \"Germany\"}, {\"iso_3166_1\": \"IT\", \"name\": \"Italy\"}, {\"iso_3166_1\": \"US\", \"name\": \"United States of America\"}]',\n",
      "       '[{\"iso_3166_1\": \"HK\", \"name\": \"Hong Kong\"}, {\"iso_3166_1\": \"US\", \"name\": \"United States of America\"}]',\n",
      "       '[{\"iso_3166_1\": \"US\", \"name\": \"United States of America\"}, {\"iso_3166_1\": \"GB\", \"name\": \"United Kingdom\"}, {\"iso_3166_1\": \"DE\", \"name\": \"Germany\"}]',\n",
      "       '[{\"iso_3166_1\": \"NO\", \"name\": \"Norway\"}, {\"iso_3166_1\": \"SE\", \"name\": \"Sweden\"}, {\"iso_3166_1\": \"US\", \"name\": \"United States of America\"}]',\n",
      "       '[{\"iso_3166_1\": \"FR\", \"name\": \"France\"}, {\"iso_3166_1\": \"DE\", \"name\": \"Germany\"}, {\"iso_3166_1\": \"GB\", \"name\": \"United Kingdom\"}, {\"iso_3166_1\": \"US\", \"name\": \"United States of America\"}]',\n",
      "       '[{\"iso_3166_1\": \"US\", \"name\": \"United States of America\"}, {\"iso_3166_1\": \"DE\", \"name\": \"Germany\"}, {\"iso_3166_1\": \"JP\", \"name\": \"Japan\"}, {\"iso_3166_1\": \"GB\", \"name\": \"United Kingdom\"}]',\n",
      "       '[{\"iso_3166_1\": \"CA\", \"name\": \"Canada\"}, {\"iso_3166_1\": \"CN\", \"name\": \"China\"}, {\"iso_3166_1\": \"GB\", \"name\": \"United Kingdom\"}, {\"iso_3166_1\": \"US\", \"name\": \"United States of America\"}]',\n",
      "       '[{\"iso_3166_1\": \"CA\", \"name\": \"Canada\"}, {\"iso_3166_1\": \"DE\", \"name\": \"Germany\"}, {\"iso_3166_1\": \"GB\", \"name\": \"United Kingdom\"}, {\"iso_3166_1\": \"US\", \"name\": \"United States of America\"}]',\n",
      "       '[{\"iso_3166_1\": \"GB\", \"name\": \"United Kingdom\"}, {\"iso_3166_1\": \"HU\", \"name\": \"Hungary\"}]',\n",
      "       '[{\"iso_3166_1\": \"US\", \"name\": \"United States of America\"}, {\"iso_3166_1\": \"DE\", \"name\": \"Germany\"}, {\"iso_3166_1\": \"FR\", \"name\": \"France\"}, {\"iso_3166_1\": \"GB\", \"name\": \"United Kingdom\"}]',\n",
      "       '[{\"iso_3166_1\": \"IE\", \"name\": \"Ireland\"}, {\"iso_3166_1\": \"US\", \"name\": \"United States of America\"}, {\"iso_3166_1\": \"DE\", \"name\": \"Germany\"}, {\"iso_3166_1\": \"GB\", \"name\": \"United Kingdom\"}]',\n",
      "       '[{\"iso_3166_1\": \"US\", \"name\": \"United States of America\"}, {\"iso_3166_1\": \"CA\", \"name\": \"Canada\"}, {\"iso_3166_1\": \"DE\", \"name\": \"Germany\"}]',\n",
      "       '[{\"iso_3166_1\": \"ZA\", \"name\": \"South Africa\"}, {\"iso_3166_1\": \"GB\", \"name\": \"United Kingdom\"}, {\"iso_3166_1\": \"US\", \"name\": \"United States of America\"}, {\"iso_3166_1\": \"IN\", \"name\": \"India\"}]',\n",
      "       '[{\"iso_3166_1\": \"CA\", \"name\": \"Canada\"}, {\"iso_3166_1\": \"FR\", \"name\": \"France\"}, {\"iso_3166_1\": \"US\", \"name\": \"United States of America\"}]',\n",
      "       '[{\"iso_3166_1\": \"CA\", \"name\": \"Canada\"}, {\"iso_3166_1\": \"RU\", \"name\": \"Russia\"}, {\"iso_3166_1\": \"US\", \"name\": \"United States of America\"}]',\n",
      "       '[{\"iso_3166_1\": \"US\", \"name\": \"United States of America\"}, {\"iso_3166_1\": \"GB\", \"name\": \"United Kingdom\"}, {\"iso_3166_1\": \"RO\", \"name\": \"Romania\"}, {\"iso_3166_1\": \"IT\", \"name\": \"Italy\"}]',\n",
      "       '[{\"iso_3166_1\": \"US\", \"name\": \"United States of America\"}, {\"iso_3166_1\": \"NZ\", \"name\": \"New Zealand\"}]',\n",
      "       '[{\"iso_3166_1\": \"MX\", \"name\": \"Mexico\"}, {\"iso_3166_1\": \"US\", \"name\": \"United States of America\"}]',\n",
      "       '[{\"iso_3166_1\": \"CZ\", \"name\": \"Czech Republic\"}, {\"iso_3166_1\": \"GB\", \"name\": \"United Kingdom\"}, {\"iso_3166_1\": \"US\", \"name\": \"United States of America\"}]',\n",
      "       '[{\"iso_3166_1\": \"BE\", \"name\": \"Belgium\"}, {\"iso_3166_1\": \"FR\", \"name\": \"France\"}, {\"iso_3166_1\": \"ES\", \"name\": \"Spain\"}]',\n",
      "       '[{\"iso_3166_1\": \"AU\", \"name\": \"Australia\"}, {\"iso_3166_1\": \"IN\", \"name\": \"India\"}, {\"iso_3166_1\": \"GB\", \"name\": \"United Kingdom\"}, {\"iso_3166_1\": \"US\", \"name\": \"United States of America\"}]',\n",
      "       '[{\"iso_3166_1\": \"FR\", \"name\": \"France\"}, {\"iso_3166_1\": \"MC\", \"name\": \"Monaco\"}, {\"iso_3166_1\": \"ES\", \"name\": \"Spain\"}, {\"iso_3166_1\": \"CH\", \"name\": \"Switzerland\"}]',\n",
      "       '[{\"iso_3166_1\": \"CZ\", \"name\": \"Czech Republic\"}, {\"iso_3166_1\": \"DE\", \"name\": \"Germany\"}, {\"iso_3166_1\": \"GB\", \"name\": \"United Kingdom\"}, {\"iso_3166_1\": \"US\", \"name\": \"United States of America\"}]',\n",
      "       '[{\"iso_3166_1\": \"CA\", \"name\": \"Canada\"}, {\"iso_3166_1\": \"DE\", \"name\": \"Germany\"}, {\"iso_3166_1\": \"US\", \"name\": \"United States of America\"}]',\n",
      "       '[{\"iso_3166_1\": \"IN\", \"name\": \"India\"}, {\"iso_3166_1\": \"MX\", \"name\": \"Mexico\"}]',\n",
      "       '[{\"iso_3166_1\": \"US\", \"name\": \"United States of America\"}, {\"iso_3166_1\": \"MA\", \"name\": \"Morocco\"}]',\n",
      "       '[{\"iso_3166_1\": \"US\", \"name\": \"United States of America\"}, {\"iso_3166_1\": \"FR\", \"name\": \"France\"}]',\n",
      "       '[{\"iso_3166_1\": \"NZ\", \"name\": \"New Zealand\"}, {\"iso_3166_1\": \"PK\", \"name\": \"Pakistan\"}, {\"iso_3166_1\": \"US\", \"name\": \"United States of America\"}]',\n",
      "       '[{\"iso_3166_1\": \"CA\", \"name\": \"Canada\"}, {\"iso_3166_1\": \"US\", \"name\": \"United States of America\"}, {\"iso_3166_1\": \"FR\", \"name\": \"France\"}]',\n",
      "       '[{\"iso_3166_1\": \"MY\", \"name\": \"Malaysia\"}, {\"iso_3166_1\": \"US\", \"name\": \"United States of America\"}]',\n",
      "       '[{\"iso_3166_1\": \"FI\", \"name\": \"Finland\"}, {\"iso_3166_1\": \"US\", \"name\": \"United States of America\"}]',\n",
      "       '[{\"iso_3166_1\": \"AU\", \"name\": \"Australia\"}, {\"iso_3166_1\": \"CA\", \"name\": \"Canada\"}, {\"iso_3166_1\": \"US\", \"name\": \"United States of America\"}]',\n",
      "       '[{\"iso_3166_1\": \"FR\", \"name\": \"France\"}, {\"iso_3166_1\": \"GB\", \"name\": \"United Kingdom\"}]',\n",
      "       '[{\"iso_3166_1\": \"CA\", \"name\": \"Canada\"}, {\"iso_3166_1\": \"CZ\", \"name\": \"Czech Republic\"}, {\"iso_3166_1\": \"DE\", \"name\": \"Germany\"}, {\"iso_3166_1\": \"GB\", \"name\": \"United Kingdom\"}, {\"iso_3166_1\": \"US\", \"name\": \"United States of America\"}]',\n",
      "       '[{\"iso_3166_1\": \"IS\", \"name\": \"Iceland\"}, {\"iso_3166_1\": \"GB\", \"name\": \"United Kingdom\"}, {\"iso_3166_1\": \"US\", \"name\": \"United States of America\"}]',\n",
      "       '[{\"iso_3166_1\": \"DE\", \"name\": \"Germany\"}, {\"iso_3166_1\": \"JP\", \"name\": \"Japan\"}, {\"iso_3166_1\": \"US\", \"name\": \"United States of America\"}]',\n",
      "       '[{\"iso_3166_1\": \"DK\", \"name\": \"Denmark\"}, {\"iso_3166_1\": \"FR\", \"name\": \"France\"}, {\"iso_3166_1\": \"NZ\", \"name\": \"New Zealand\"}, {\"iso_3166_1\": \"GB\", \"name\": \"United Kingdom\"}, {\"iso_3166_1\": \"US\", \"name\": \"United States of America\"}]',\n",
      "       '[{\"iso_3166_1\": \"ES\", \"name\": \"Spain\"}]',\n",
      "       '[{\"iso_3166_1\": \"GB\", \"name\": \"United Kingdom\"}, {\"iso_3166_1\": \"IT\", \"name\": \"Italy\"}, {\"iso_3166_1\": \"FR\", \"name\": \"France\"}, {\"iso_3166_1\": \"TN\", \"name\": \"Tunisia\"}]',\n",
      "       '[{\"iso_3166_1\": \"PH\", \"name\": \"Philippines\"}, {\"iso_3166_1\": \"US\", \"name\": \"United States of America\"}, {\"iso_3166_1\": \"GB\", \"name\": \"United Kingdom\"}, {\"iso_3166_1\": \"FR\", \"name\": \"France\"}]',\n",
      "       '[{\"iso_3166_1\": \"FR\", \"name\": \"France\"}, {\"iso_3166_1\": \"IT\", \"name\": \"Italy\"}, {\"iso_3166_1\": \"US\", \"name\": \"United States of America\"}]',\n",
      "       '[{\"iso_3166_1\": \"FR\", \"name\": \"France\"}, {\"iso_3166_1\": \"DE\", \"name\": \"Germany\"}, {\"iso_3166_1\": \"JP\", \"name\": \"Japan\"}, {\"iso_3166_1\": \"GB\", \"name\": \"United Kingdom\"}, {\"iso_3166_1\": \"US\", \"name\": \"United States of America\"}]',\n",
      "       '[{\"iso_3166_1\": \"CA\", \"name\": \"Canada\"}, {\"iso_3166_1\": \"FR\", \"name\": \"France\"}, {\"iso_3166_1\": \"DE\", \"name\": \"Germany\"}, {\"iso_3166_1\": \"US\", \"name\": \"United States of America\"}]',\n",
      "       '[{\"iso_3166_1\": \"GB\", \"name\": \"United Kingdom\"}, {\"iso_3166_1\": \"US\", \"name\": \"United States of America\"}, {\"iso_3166_1\": \"DE\", \"name\": \"Germany\"}]',\n",
      "       '[{\"iso_3166_1\": \"CZ\", \"name\": \"Czech Republic\"}, {\"iso_3166_1\": \"FR\", \"name\": \"France\"}, {\"iso_3166_1\": \"IT\", \"name\": \"Italy\"}, {\"iso_3166_1\": \"GB\", \"name\": \"United Kingdom\"}]',\n",
      "       '[{\"iso_3166_1\": \"IS\", \"name\": \"Iceland\"}, {\"iso_3166_1\": \"US\", \"name\": \"United States of America\"}, {\"iso_3166_1\": \"GB\", \"name\": \"United Kingdom\"}]',\n",
      "       '[{\"iso_3166_1\": \"ES\", \"name\": \"Spain\"}, {\"iso_3166_1\": \"DE\", \"name\": \"Germany\"}, {\"iso_3166_1\": \"FR\", \"name\": \"France\"}]',\n",
      "       '[{\"iso_3166_1\": \"HK\", \"name\": \"Hong Kong\"}, {\"iso_3166_1\": \"JP\", \"name\": \"Japan\"}, {\"iso_3166_1\": \"US\", \"name\": \"United States of America\"}]',\n",
      "       '[{\"iso_3166_1\": \"HK\", \"name\": \"Hong Kong\"}, {\"iso_3166_1\": \"CN\", \"name\": \"China\"}]',\n",
      "       '[{\"iso_3166_1\": \"GB\", \"name\": \"United Kingdom\"}]',\n",
      "       '[{\"iso_3166_1\": \"US\", \"name\": \"United States of America\"}, {\"iso_3166_1\": \"DE\", \"name\": \"Germany\"}, {\"iso_3166_1\": \"CZ\", \"name\": \"Czech Republic\"}]',\n",
      "       '[{\"iso_3166_1\": \"US\", \"name\": \"United States of America\"}, {\"iso_3166_1\": \"DE\", \"name\": \"Germany\"}, {\"iso_3166_1\": \"BE\", \"name\": \"Belgium\"}]',\n",
      "       '[{\"iso_3166_1\": \"US\", \"name\": \"United States of America\"}, {\"iso_3166_1\": \"AE\", \"name\": \"United Arab Emirates\"}]',\n",
      "       '[{\"iso_3166_1\": \"US\", \"name\": \"United States of America\"}, {\"iso_3166_1\": \"IN\", \"name\": \"India\"}, {\"iso_3166_1\": \"FR\", \"name\": \"France\"}]',\n",
      "       '[{\"iso_3166_1\": \"RU\", \"name\": \"Russia\"}, {\"iso_3166_1\": \"US\", \"name\": \"United States of America\"}]',\n",
      "       '[{\"iso_3166_1\": \"BG\", \"name\": \"Bulgaria\"}, {\"iso_3166_1\": \"US\", \"name\": \"United States of America\"}, {\"iso_3166_1\": \"GB\", \"name\": \"United Kingdom\"}]',\n",
      "       '[{\"iso_3166_1\": \"IE\", \"name\": \"Ireland\"}, {\"iso_3166_1\": \"GB\", \"name\": \"United Kingdom\"}, {\"iso_3166_1\": \"US\", \"name\": \"United States of America\"}]',\n",
      "       '[{\"iso_3166_1\": \"FR\", \"name\": \"France\"}, {\"iso_3166_1\": \"GB\", \"name\": \"United Kingdom\"}, {\"iso_3166_1\": \"US\", \"name\": \"United States of America\"}]',\n",
      "       '[{\"iso_3166_1\": \"DE\", \"name\": \"Germany\"}, {\"iso_3166_1\": \"JP\", \"name\": \"Japan\"}, {\"iso_3166_1\": \"NZ\", \"name\": \"New Zealand\"}, {\"iso_3166_1\": \"GB\", \"name\": \"United Kingdom\"}, {\"iso_3166_1\": \"US\", \"name\": \"United States of America\"}]',\n",
      "       '[{\"iso_3166_1\": \"FR\", \"name\": \"France\"}, {\"iso_3166_1\": \"DE\", \"name\": \"Germany\"}, {\"iso_3166_1\": \"US\", \"name\": \"United States of America\"}]',\n",
      "       '[{\"iso_3166_1\": \"CH\", \"name\": \"Switzerland\"}, {\"iso_3166_1\": \"US\", \"name\": \"United States of America\"}]',\n",
      "       '[{\"iso_3166_1\": \"DE\", \"name\": \"Germany\"}, {\"iso_3166_1\": \"US\", \"name\": \"United States of America\"}, {\"iso_3166_1\": \"FR\", \"name\": \"France\"}, {\"iso_3166_1\": \"CA\", \"name\": \"Canada\"}]',\n",
      "       '[{\"iso_3166_1\": \"AE\", \"name\": \"United Arab Emirates\"}, {\"iso_3166_1\": \"US\", \"name\": \"United States of America\"}]',\n",
      "       '[{\"iso_3166_1\": \"GB\", \"name\": \"United Kingdom\"}, {\"iso_3166_1\": \"US\", \"name\": \"United States of America\"}, {\"iso_3166_1\": \"FR\", \"name\": \"France\"}]',\n",
      "       '[{\"iso_3166_1\": \"US\", \"name\": \"United States of America\"}, {\"iso_3166_1\": \"HU\", \"name\": \"Hungary\"}]',\n",
      "       '[{\"iso_3166_1\": \"GB\", \"name\": \"United Kingdom\"}, {\"iso_3166_1\": \"FR\", \"name\": \"France\"}]',\n",
      "       '[{\"iso_3166_1\": \"GB\", \"name\": \"United Kingdom\"}, {\"iso_3166_1\": \"US\", \"name\": \"United States of America\"}, {\"iso_3166_1\": \"AU\", \"name\": \"Australia\"}]',\n",
      "       '[{\"iso_3166_1\": \"MT\", \"name\": \"Malta\"}, {\"iso_3166_1\": \"MA\", \"name\": \"Morocco\"}, {\"iso_3166_1\": \"US\", \"name\": \"United States of America\"}]',\n",
      "       '[{\"iso_3166_1\": \"CA\", \"name\": \"Canada\"}, {\"iso_3166_1\": \"FR\", \"name\": \"France\"}, {\"iso_3166_1\": \"JP\", \"name\": \"Japan\"}, {\"iso_3166_1\": \"US\", \"name\": \"United States of America\"}]',\n",
      "       '[{\"iso_3166_1\": \"GB\", \"name\": \"United Kingdom\"}, {\"iso_3166_1\": \"US\", \"name\": \"United States of America\"}, {\"iso_3166_1\": \"DE\", \"name\": \"Germany\"}, {\"iso_3166_1\": \"FR\", \"name\": \"France\"}, {\"iso_3166_1\": \"CA\", \"name\": \"Canada\"}]',\n",
      "       '[{\"iso_3166_1\": \"FR\", \"name\": \"France\"}, {\"iso_3166_1\": \"DE\", \"name\": \"Germany\"}, {\"iso_3166_1\": \"IE\", \"name\": \"Ireland\"}, {\"iso_3166_1\": \"GB\", \"name\": \"United Kingdom\"}, {\"iso_3166_1\": \"US\", \"name\": \"United States of America\"}]',\n",
      "       '[{\"iso_3166_1\": \"GB\", \"name\": \"United Kingdom\"}, {\"iso_3166_1\": \"CZ\", \"name\": \"Czech Republic\"}, {\"iso_3166_1\": \"FR\", \"name\": \"France\"}, {\"iso_3166_1\": \"IT\", \"name\": \"Italy\"}]',\n",
      "       '[{\"iso_3166_1\": \"GB\", \"name\": \"United Kingdom\"}, {\"iso_3166_1\": \"US\", \"name\": \"United States of America\"}, {\"iso_3166_1\": \"CA\", \"name\": \"Canada\"}]',\n",
      "       '[{\"iso_3166_1\": \"CA\", \"name\": \"Canada\"}, {\"iso_3166_1\": \"IN\", \"name\": \"India\"}, {\"iso_3166_1\": \"JP\", \"name\": \"Japan\"}, {\"iso_3166_1\": \"US\", \"name\": \"United States of America\"}]',\n",
      "       '[{\"iso_3166_1\": \"DE\", \"name\": \"Germany\"}, {\"iso_3166_1\": \"GB\", \"name\": \"United Kingdom\"}, {\"iso_3166_1\": \"FR\", \"name\": \"France\"}]',\n",
      "       '[{\"iso_3166_1\": \"MX\", \"name\": \"Mexico\"}, {\"iso_3166_1\": \"ZA\", \"name\": \"South Africa\"}, {\"iso_3166_1\": \"US\", \"name\": \"United States of America\"}]',\n",
      "       '[{\"iso_3166_1\": \"GB\", \"name\": \"United Kingdom\"}, {\"iso_3166_1\": \"US\", \"name\": \"United States of America\"}, {\"iso_3166_1\": \"CZ\", \"name\": \"Czech Republic\"}, {\"iso_3166_1\": \"RO\", \"name\": \"Romania\"}]',\n",
      "       '[{\"iso_3166_1\": \"CA\", \"name\": \"Canada\"}, {\"iso_3166_1\": \"IN\", \"name\": \"India\"}]',\n",
      "       '[{\"iso_3166_1\": \"RU\", \"name\": \"Russia\"}]',\n",
      "       '[{\"iso_3166_1\": \"KR\", \"name\": \"South Korea\"}, {\"iso_3166_1\": \"US\", \"name\": \"United States of America\"}]',\n",
      "       '[{\"iso_3166_1\": \"BR\", \"name\": \"Brazil\"}, {\"iso_3166_1\": \"PE\", \"name\": \"Peru\"}, {\"iso_3166_1\": \"US\", \"name\": \"United States of America\"}]',\n",
      "       '[{\"iso_3166_1\": \"CZ\", \"name\": \"Czech Republic\"}, {\"iso_3166_1\": \"GB\", \"name\": \"United Kingdom\"}]',\n",
      "       '[{\"iso_3166_1\": \"PE\", \"name\": \"Peru\"}, {\"iso_3166_1\": \"US\", \"name\": \"United States of America\"}]',\n",
      "       '[{\"iso_3166_1\": \"AU\", \"name\": \"Australia\"}, {\"iso_3166_1\": \"FR\", \"name\": \"France\"}, {\"iso_3166_1\": \"DE\", \"name\": \"Germany\"}, {\"iso_3166_1\": \"GB\", \"name\": \"United Kingdom\"}, {\"iso_3166_1\": \"US\", \"name\": \"United States of America\"}]',\n",
      "       '[{\"iso_3166_1\": \"GB\", \"name\": \"United Kingdom\"}, {\"iso_3166_1\": \"HK\", \"name\": \"Hong Kong\"}, {\"iso_3166_1\": \"CN\", \"name\": \"China\"}]',\n",
      "       '[{\"iso_3166_1\": \"GB\", \"name\": \"United Kingdom\"}, {\"iso_3166_1\": \"US\", \"name\": \"United States of America\"}, {\"iso_3166_1\": \"CH\", \"name\": \"Switzerland\"}]',\n",
      "       '[{\"iso_3166_1\": \"FR\", \"name\": \"France\"}, {\"iso_3166_1\": \"US\", \"name\": \"United States of America\"}, {\"iso_3166_1\": \"DE\", \"name\": \"Germany\"}]',\n",
      "       '[{\"iso_3166_1\": \"CN\", \"name\": \"China\"}]',\n",
      "       '[{\"iso_3166_1\": \"NZ\", \"name\": \"New Zealand\"}, {\"iso_3166_1\": \"KR\", \"name\": \"South Korea\"}]',\n",
      "       '[{\"iso_3166_1\": \"NL\", \"name\": \"Netherlands\"}, {\"iso_3166_1\": \"US\", \"name\": \"United States of America\"}, {\"iso_3166_1\": \"DE\", \"name\": \"Germany\"}]',\n",
      "       '[{\"iso_3166_1\": \"IN\", \"name\": \"India\"}, {\"iso_3166_1\": \"US\", \"name\": \"United States of America\"}, {\"iso_3166_1\": \"DE\", \"name\": \"Germany\"}]',\n",
      "       '[{\"iso_3166_1\": \"FR\", \"name\": \"France\"}, {\"iso_3166_1\": \"DE\", \"name\": \"Germany\"}, {\"iso_3166_1\": \"GB\", \"name\": \"United Kingdom\"}]',\n",
      "       '[{\"iso_3166_1\": \"GB\", \"name\": \"United Kingdom\"}, {\"iso_3166_1\": \"US\", \"name\": \"United States of America\"}, {\"iso_3166_1\": \"DE\", \"name\": \"Germany\"}, {\"iso_3166_1\": \"LU\", \"name\": \"Luxembourg\"}]',\n",
      "       '[{\"iso_3166_1\": \"FR\", \"name\": \"France\"}, {\"iso_3166_1\": \"US\", \"name\": \"United States of America\"}, {\"iso_3166_1\": \"JP\", \"name\": \"Japan\"}]',\n",
      "       '[{\"iso_3166_1\": \"US\", \"name\": \"United States of America\"}, {\"iso_3166_1\": \"ES\", \"name\": \"Spain\"}]',\n",
      "       '[{\"iso_3166_1\": \"FR\", \"name\": \"France\"}, {\"iso_3166_1\": \"DE\", \"name\": \"Germany\"}]',\n",
      "       '[{\"iso_3166_1\": \"DE\", \"name\": \"Germany\"}, {\"iso_3166_1\": \"LU\", \"name\": \"Luxembourg\"}, {\"iso_3166_1\": \"GB\", \"name\": \"United Kingdom\"}, {\"iso_3166_1\": \"US\", \"name\": \"United States of America\"}]',\n",
      "       '[{\"iso_3166_1\": \"DE\", \"name\": \"Germany\"}, {\"iso_3166_1\": \"GB\", \"name\": \"United Kingdom\"}]',\n",
      "       '[{\"iso_3166_1\": \"FR\", \"name\": \"France\"}, {\"iso_3166_1\": \"ES\", \"name\": \"Spain\"}, {\"iso_3166_1\": \"GB\", \"name\": \"United Kingdom\"}, {\"iso_3166_1\": \"US\", \"name\": \"United States of America\"}]',\n",
      "       '[{\"iso_3166_1\": \"BA\", \"name\": \"Bosnia and Herzegovina\"}, {\"iso_3166_1\": \"US\", \"name\": \"United States of America\"}]',\n",
      "       '[{\"iso_3166_1\": \"FR\", \"name\": \"France\"}, {\"iso_3166_1\": \"KZ\", \"name\": \"Kazakhstan\"}]',\n",
      "       '[{\"iso_3166_1\": \"KR\", \"name\": \"South Korea\"}, {\"iso_3166_1\": \"FR\", \"name\": \"France\"}, {\"iso_3166_1\": \"CZ\", \"name\": \"Czech Republic\"}, {\"iso_3166_1\": \"US\", \"name\": \"United States of America\"}]',\n",
      "       '[{\"iso_3166_1\": \"IN\", \"name\": \"India\"}]',\n",
      "       '[{\"iso_3166_1\": \"CN\", \"name\": \"China\"}, {\"iso_3166_1\": \"FR\", \"name\": \"France\"}, {\"iso_3166_1\": \"US\", \"name\": \"United States of America\"}]',\n",
      "       '[{\"iso_3166_1\": \"FR\", \"name\": \"France\"}, {\"iso_3166_1\": \"PT\", \"name\": \"Portugal\"}, {\"iso_3166_1\": \"ES\", \"name\": \"Spain\"}]',\n",
      "       '[{\"iso_3166_1\": \"LU\", \"name\": \"Luxembourg\"}, {\"iso_3166_1\": \"IT\", \"name\": \"Italy\"}, {\"iso_3166_1\": \"FR\", \"name\": \"France\"}, {\"iso_3166_1\": \"GB\", \"name\": \"United Kingdom\"}]',\n",
      "       '[{\"iso_3166_1\": \"US\", \"name\": \"United States of America\"}, {\"iso_3166_1\": \"GB\", \"name\": \"United Kingdom\"}, {\"iso_3166_1\": \"FR\", \"name\": \"France\"}]',\n",
      "       '[{\"iso_3166_1\": \"US\", \"name\": \"United States of America\"}, {\"iso_3166_1\": \"HU\", \"name\": \"Hungary\"}, {\"iso_3166_1\": \"IT\", \"name\": \"Italy\"}]',\n",
      "       '[{\"iso_3166_1\": \"HK\", \"name\": \"Hong Kong\"}]',\n",
      "       '[{\"iso_3166_1\": \"FR\", \"name\": \"France\"}, {\"iso_3166_1\": \"DE\", \"name\": \"Germany\"}, {\"iso_3166_1\": \"PL\", \"name\": \"Poland\"}, {\"iso_3166_1\": \"GB\", \"name\": \"United Kingdom\"}]',\n",
      "       '[{\"iso_3166_1\": \"RO\", \"name\": \"Romania\"}, {\"iso_3166_1\": \"US\", \"name\": \"United States of America\"}]',\n",
      "       '[{\"iso_3166_1\": \"IE\", \"name\": \"Ireland\"}, {\"iso_3166_1\": \"GB\", \"name\": \"United Kingdom\"}]',\n",
      "       '[{\"iso_3166_1\": \"DE\", \"name\": \"Germany\"}, {\"iso_3166_1\": \"JP\", \"name\": \"Japan\"}, {\"iso_3166_1\": \"GB\", \"name\": \"United Kingdom\"}, {\"iso_3166_1\": \"US\", \"name\": \"United States of America\"}]',\n",
      "       '[{\"iso_3166_1\": \"SG\", \"name\": \"Singapore\"}, {\"iso_3166_1\": \"AU\", \"name\": \"Australia\"}]',\n",
      "       '[{\"iso_3166_1\": \"ES\", \"name\": \"Spain\"}, {\"iso_3166_1\": \"GB\", \"name\": \"United Kingdom\"}, {\"iso_3166_1\": \"IT\", \"name\": \"Italy\"}, {\"iso_3166_1\": \"US\", \"name\": \"United States of America\"}]',\n",
      "       '[{\"iso_3166_1\": \"AW\", \"name\": \"Aruba\"}, {\"iso_3166_1\": \"HK\", \"name\": \"Hong Kong\"}, {\"iso_3166_1\": \"US\", \"name\": \"United States of America\"}]',\n",
      "       '[{\"iso_3166_1\": \"DE\", \"name\": \"Germany\"}, {\"iso_3166_1\": \"DK\", \"name\": \"Denmark\"}, {\"iso_3166_1\": \"SE\", \"name\": \"Sweden\"}]',\n",
      "       '[{\"iso_3166_1\": \"CH\", \"name\": \"Switzerland\"}, {\"iso_3166_1\": \"FR\", \"name\": \"France\"}]',\n",
      "       '[{\"iso_3166_1\": \"LY\", \"name\": \"Libyan Arab Jamahiriya\"}, {\"iso_3166_1\": \"US\", \"name\": \"United States of America\"}]',\n",
      "       '[{\"iso_3166_1\": \"MX\", \"name\": \"Mexico\"}, {\"iso_3166_1\": \"ES\", \"name\": \"Spain\"}]',\n",
      "       '[{\"iso_3166_1\": \"US\", \"name\": \"United States of America\"}, {\"iso_3166_1\": \"FR\", \"name\": \"France\"}, {\"iso_3166_1\": \"MX\", \"name\": \"Mexico\"}]',\n",
      "       '[{\"iso_3166_1\": \"GB\", \"name\": \"United Kingdom\"}, {\"iso_3166_1\": \"ZA\", \"name\": \"South Africa\"}]',\n",
      "       '[{\"iso_3166_1\": \"BE\", \"name\": \"Belgium\"}, {\"iso_3166_1\": \"US\", \"name\": \"United States of America\"}]',\n",
      "       '[{\"iso_3166_1\": \"US\", \"name\": \"United States of America\"}, {\"iso_3166_1\": \"RU\", \"name\": \"Russia\"}]',\n",
      "       '[{\"iso_3166_1\": \"DE\", \"name\": \"Germany\"}, {\"iso_3166_1\": \"GB\", \"name\": \"United Kingdom\"}, {\"iso_3166_1\": \"US\", \"name\": \"United States of America\"}, {\"iso_3166_1\": \"ZA\", \"name\": \"South Africa\"}]',\n",
      "       '[{\"iso_3166_1\": \"CA\", \"name\": \"Canada\"}, {\"iso_3166_1\": \"FR\", \"name\": \"France\"}]',\n",
      "       '[{\"iso_3166_1\": \"DE\", \"name\": \"Germany\"}, {\"iso_3166_1\": \"IE\", \"name\": \"Ireland\"}, {\"iso_3166_1\": \"GB\", \"name\": \"United Kingdom\"}]',\n",
      "       '[{\"iso_3166_1\": \"KR\", \"name\": \"South Korea\"}]',\n",
      "       '[{\"iso_3166_1\": \"DE\", \"name\": \"Germany\"}, {\"iso_3166_1\": \"GB\", \"name\": \"United Kingdom\"}, {\"iso_3166_1\": \"US\", \"name\": \"United States of America\"}, {\"iso_3166_1\": \"LU\", \"name\": \"Luxembourg\"}]',\n",
      "       '[{\"iso_3166_1\": \"US\", \"name\": \"United States of America\"}, {\"iso_3166_1\": \"NZ\", \"name\": \"New Zealand\"}, {\"iso_3166_1\": \"CA\", \"name\": \"Canada\"}, {\"iso_3166_1\": \"ZA\", \"name\": \"South Africa\"}]',\n",
      "       '[{\"iso_3166_1\": \"CA\", \"name\": \"Canada\"}]',\n",
      "       '[{\"iso_3166_1\": \"CA\", \"name\": \"Canada\"}, {\"iso_3166_1\": \"KR\", \"name\": \"South Korea\"}]',\n",
      "       '[{\"iso_3166_1\": \"FR\", \"name\": \"France\"}, {\"iso_3166_1\": \"IS\", \"name\": \"Iceland\"}, {\"iso_3166_1\": \"GB\", \"name\": \"United Kingdom\"}, {\"iso_3166_1\": \"US\", \"name\": \"United States of America\"}]',\n",
      "       '[{\"iso_3166_1\": \"US\", \"name\": \"United States of America\"}, {\"iso_3166_1\": \"ZA\", \"name\": \"South Africa\"}]',\n",
      "       '[{\"iso_3166_1\": \"GB\", \"name\": \"United Kingdom\"}, {\"iso_3166_1\": \"FR\", \"name\": \"France\"}, {\"iso_3166_1\": \"US\", \"name\": \"United States of America\"}]',\n",
      "       '[{\"iso_3166_1\": \"LU\", \"name\": \"Luxembourg\"}, {\"iso_3166_1\": \"US\", \"name\": \"United States of America\"}]',\n",
      "       '[{\"iso_3166_1\": \"CA\", \"name\": \"Canada\"}, {\"iso_3166_1\": \"FR\", \"name\": \"France\"}, {\"iso_3166_1\": \"GB\", \"name\": \"United Kingdom\"}]',\n",
      "       '[{\"iso_3166_1\": \"CA\", \"name\": \"Canada\"}, {\"iso_3166_1\": \"IT\", \"name\": \"Italy\"}]',\n",
      "       '[{\"iso_3166_1\": \"GB\", \"name\": \"United Kingdom\"}, {\"iso_3166_1\": \"IT\", \"name\": \"Italy\"}, {\"iso_3166_1\": \"LU\", \"name\": \"Luxembourg\"}, {\"iso_3166_1\": \"US\", \"name\": \"United States of America\"}]',\n",
      "       '[{\"iso_3166_1\": \"CA\", \"name\": \"Canada\"}, {\"iso_3166_1\": \"FR\", \"name\": \"France\"}, {\"iso_3166_1\": \"IE\", \"name\": \"Ireland\"}, {\"iso_3166_1\": \"GB\", \"name\": \"United Kingdom\"}]',\n",
      "       '[{\"iso_3166_1\": \"CN\", \"name\": \"China\"}, {\"iso_3166_1\": \"JP\", \"name\": \"Japan\"}, {\"iso_3166_1\": \"KR\", \"name\": \"South Korea\"}]',\n",
      "       '[{\"iso_3166_1\": \"BE\", \"name\": \"Belgium\"}, {\"iso_3166_1\": \"FR\", \"name\": \"France\"}]',\n",
      "       '[{\"iso_3166_1\": \"DE\", \"name\": \"Germany\"}]',\n",
      "       '[{\"iso_3166_1\": \"BE\", \"name\": \"Belgium\"}, {\"iso_3166_1\": \"ZA\", \"name\": \"South Africa\"}]',\n",
      "       '[{\"iso_3166_1\": \"BE\", \"name\": \"Belgium\"}, {\"iso_3166_1\": \"FR\", \"name\": \"France\"}, {\"iso_3166_1\": \"IT\", \"name\": \"Italy\"}, {\"iso_3166_1\": \"CH\", \"name\": \"Switzerland\"}, {\"iso_3166_1\": \"US\", \"name\": \"United States of America\"}]',\n",
      "       '[{\"iso_3166_1\": \"GB\", \"name\": \"United Kingdom\"}, {\"iso_3166_1\": \"US\", \"name\": \"United States of America\"}, {\"iso_3166_1\": \"IT\", \"name\": \"Italy\"}]',\n",
      "       '[{\"iso_3166_1\": \"US\", \"name\": \"United States of America\"}, {\"iso_3166_1\": \"DE\", \"name\": \"Germany\"}, {\"iso_3166_1\": \"CA\", \"name\": \"Canada\"}]',\n",
      "       '[{\"iso_3166_1\": \"US\", \"name\": \"United States of America\"}, {\"iso_3166_1\": \"HK\", \"name\": \"Hong Kong\"}, {\"iso_3166_1\": \"GB\", \"name\": \"United Kingdom\"}]',\n",
      "       '[{\"iso_3166_1\": \"CH\", \"name\": \"Switzerland\"}, {\"iso_3166_1\": \"DE\", \"name\": \"Germany\"}, {\"iso_3166_1\": \"ES\", \"name\": \"Spain\"}, {\"iso_3166_1\": \"FR\", \"name\": \"France\"}, {\"iso_3166_1\": \"IT\", \"name\": \"Italy\"}]',\n",
      "       '[{\"iso_3166_1\": \"GB\", \"name\": \"United Kingdom\"}, {\"iso_3166_1\": \"DE\", \"name\": \"Germany\"}]',\n",
      "       '[{\"iso_3166_1\": \"CA\", \"name\": \"Canada\"}, {\"iso_3166_1\": \"GB\", \"name\": \"United Kingdom\"}]',\n",
      "       '[{\"iso_3166_1\": \"FI\", \"name\": \"Finland\"}, {\"iso_3166_1\": \"NL\", \"name\": \"Netherlands\"}, {\"iso_3166_1\": \"GB\", \"name\": \"United Kingdom\"}, {\"iso_3166_1\": \"US\", \"name\": \"United States of America\"}]',\n",
      "       '[{\"iso_3166_1\": \"FR\", \"name\": \"France\"}, {\"iso_3166_1\": \"GB\", \"name\": \"United Kingdom\"}, {\"iso_3166_1\": \"CA\", \"name\": \"Canada\"}]',\n",
      "       '[{\"iso_3166_1\": \"HU\", \"name\": \"Hungary\"}, {\"iso_3166_1\": \"RS\", \"name\": \"Serbia\"}, {\"iso_3166_1\": \"ES\", \"name\": \"Spain\"}, {\"iso_3166_1\": \"US\", \"name\": \"United States of America\"}]',\n",
      "       '[{\"iso_3166_1\": \"CN\", \"name\": \"China\"}, {\"iso_3166_1\": \"DE\", \"name\": \"Germany\"}, {\"iso_3166_1\": \"GB\", \"name\": \"United Kingdom\"}, {\"iso_3166_1\": \"US\", \"name\": \"United States of America\"}]',\n",
      "       '[{\"iso_3166_1\": \"IN\", \"name\": \"India\"}, {\"iso_3166_1\": \"AE\", \"name\": \"United Arab Emirates\"}, {\"iso_3166_1\": \"US\", \"name\": \"United States of America\"}]',\n",
      "       '[{\"iso_3166_1\": \"CZ\", \"name\": \"Czech Republic\"}, {\"iso_3166_1\": \"RU\", \"name\": \"Russia\"}, {\"iso_3166_1\": \"UA\", \"name\": \"Ukraine\"}]',\n",
      "       '[{\"iso_3166_1\": \"CA\", \"name\": \"Canada\"}, {\"iso_3166_1\": \"IT\", \"name\": \"Italy\"}, {\"iso_3166_1\": \"US\", \"name\": \"United States of America\"}]',\n",
      "       '[{\"iso_3166_1\": \"IT\", \"name\": \"Italy\"}, {\"iso_3166_1\": \"ES\", \"name\": \"Spain\"}, {\"iso_3166_1\": \"GB\", \"name\": \"United Kingdom\"}]',\n",
      "       '[{\"iso_3166_1\": \"FR\", \"name\": \"France\"}, {\"iso_3166_1\": \"IE\", \"name\": \"Ireland\"}, {\"iso_3166_1\": \"GB\", \"name\": \"United Kingdom\"}, {\"iso_3166_1\": \"US\", \"name\": \"United States of America\"}]',\n",
      "       '[{\"iso_3166_1\": \"FR\", \"name\": \"France\"}, {\"iso_3166_1\": \"CN\", \"name\": \"China\"}, {\"iso_3166_1\": \"GB\", \"name\": \"United Kingdom\"}, {\"iso_3166_1\": \"IT\", \"name\": \"Italy\"}]',\n",
      "       '[{\"iso_3166_1\": \"GB\", \"name\": \"United Kingdom\"}, {\"iso_3166_1\": \"FR\", \"name\": \"France\"}, {\"iso_3166_1\": \"DE\", \"name\": \"Germany\"}]',\n",
      "       '[{\"iso_3166_1\": \"US\", \"name\": \"United States of America\"}, {\"iso_3166_1\": \"AU\", \"name\": \"Australia\"}, {\"iso_3166_1\": \"MX\", \"name\": \"Mexico\"}]',\n",
      "       '[{\"iso_3166_1\": \"CZ\", \"name\": \"Czech Republic\"}, {\"iso_3166_1\": \"FR\", \"name\": \"France\"}, {\"iso_3166_1\": \"DE\", \"name\": \"Germany\"}, {\"iso_3166_1\": \"GB\", \"name\": \"United Kingdom\"}, {\"iso_3166_1\": \"US\", \"name\": \"United States of America\"}]',\n",
      "       '[{\"iso_3166_1\": \"US\", \"name\": \"United States of America\"}, {\"iso_3166_1\": \"DE\", \"name\": \"Germany\"}, {\"iso_3166_1\": \"AU\", \"name\": \"Australia\"}]',\n",
      "       '[{\"iso_3166_1\": \"IE\", \"name\": \"Ireland\"}, {\"iso_3166_1\": \"US\", \"name\": \"United States of America\"}]',\n",
      "       '[{\"iso_3166_1\": \"US\", \"name\": \"United States of America\"}, {\"iso_3166_1\": \"CL\", \"name\": \"Chile\"}]',\n",
      "       '[{\"iso_3166_1\": \"NZ\", \"name\": \"New Zealand\"}, {\"iso_3166_1\": \"CH\", \"name\": \"Switzerland\"}, {\"iso_3166_1\": \"JP\", \"name\": \"Japan\"}, {\"iso_3166_1\": \"US\", \"name\": \"United States of America\"}]',\n",
      "       '[{\"iso_3166_1\": \"BR\", \"name\": \"Brazil\"}, {\"iso_3166_1\": \"CA\", \"name\": \"Canada\"}, {\"iso_3166_1\": \"JP\", \"name\": \"Japan\"}]',\n",
      "       '[{\"iso_3166_1\": \"ES\", \"name\": \"Spain\"}, {\"iso_3166_1\": \"FR\", \"name\": \"France\"}, {\"iso_3166_1\": \"DE\", \"name\": \"Germany\"}, {\"iso_3166_1\": \"PL\", \"name\": \"Poland\"}]',\n",
      "       '[{\"iso_3166_1\": \"IT\", \"name\": \"Italy\"}]',\n",
      "       '[{\"iso_3166_1\": \"FR\", \"name\": \"France\"}, {\"iso_3166_1\": \"BE\", \"name\": \"Belgium\"}]',\n",
      "       '[{\"iso_3166_1\": \"IT\", \"name\": \"Italy\"}, {\"iso_3166_1\": \"RU\", \"name\": \"Russia\"}]',\n",
      "       '[{\"iso_3166_1\": \"BR\", \"name\": \"Brazil\"}, {\"iso_3166_1\": \"FR\", \"name\": \"France\"}, {\"iso_3166_1\": \"GB\", \"name\": \"United Kingdom\"}, {\"iso_3166_1\": \"US\", \"name\": \"United States of America\"}]',\n",
      "       '[{\"iso_3166_1\": \"ES\", \"name\": \"Spain\"}, {\"iso_3166_1\": \"GB\", \"name\": \"United Kingdom\"}, {\"iso_3166_1\": \"FR\", \"name\": \"France\"}]',\n",
      "       '[{\"iso_3166_1\": \"BE\", \"name\": \"Belgium\"}, {\"iso_3166_1\": \"GB\", \"name\": \"United Kingdom\"}, {\"iso_3166_1\": \"ES\", \"name\": \"Spain\"}]',\n",
      "       '[{\"iso_3166_1\": \"IN\", \"name\": \"India\"}, {\"iso_3166_1\": \"GB\", \"name\": \"United Kingdom\"}]',\n",
      "       '[{\"iso_3166_1\": \"IN\", \"name\": \"India\"}, {\"iso_3166_1\": \"US\", \"name\": \"United States of America\"}, {\"iso_3166_1\": \"AE\", \"name\": \"United Arab Emirates\"}]',\n",
      "       '[{\"iso_3166_1\": \"DE\", \"name\": \"Germany\"}, {\"iso_3166_1\": \"HU\", \"name\": \"Hungary\"}, {\"iso_3166_1\": \"GB\", \"name\": \"United Kingdom\"}, {\"iso_3166_1\": \"US\", \"name\": \"United States of America\"}]',\n",
      "       '[{\"iso_3166_1\": \"DE\", \"name\": \"Germany\"}, {\"iso_3166_1\": \"NL\", \"name\": \"Netherlands\"}, {\"iso_3166_1\": \"US\", \"name\": \"United States of America\"}]',\n",
      "       '[{\"iso_3166_1\": \"BE\", \"name\": \"Belgium\"}, {\"iso_3166_1\": \"CN\", \"name\": \"China\"}, {\"iso_3166_1\": \"FR\", \"name\": \"France\"}]',\n",
      "       '[{\"iso_3166_1\": \"NL\", \"name\": \"Netherlands\"}, {\"iso_3166_1\": \"DE\", \"name\": \"Germany\"}, {\"iso_3166_1\": \"GB\", \"name\": \"United Kingdom\"}]',\n",
      "       '[{\"iso_3166_1\": \"BE\", \"name\": \"Belgium\"}, {\"iso_3166_1\": \"FR\", \"name\": \"France\"}, {\"iso_3166_1\": \"DE\", \"name\": \"Germany\"}, {\"iso_3166_1\": \"JP\", \"name\": \"Japan\"}, {\"iso_3166_1\": \"NO\", \"name\": \"Norway\"}, {\"iso_3166_1\": \"RO\", \"name\": \"Romania\"}, {\"iso_3166_1\": \"GB\", \"name\": \"United Kingdom\"}, {\"iso_3166_1\": \"US\", \"name\": \"United States of America\"}]',\n",
      "       '[{\"iso_3166_1\": \"FR\", \"name\": \"France\"}, {\"iso_3166_1\": \"SE\", \"name\": \"Sweden\"}, {\"iso_3166_1\": \"GB\", \"name\": \"United Kingdom\"}]',\n",
      "       '[{\"iso_3166_1\": \"AR\", \"name\": \"Argentina\"}, {\"iso_3166_1\": \"ES\", \"name\": \"Spain\"}]',\n",
      "       '[{\"iso_3166_1\": \"IT\", \"name\": \"Italy\"}, {\"iso_3166_1\": \"ES\", \"name\": \"Spain\"}, {\"iso_3166_1\": \"US\", \"name\": \"United States of America\"}]',\n",
      "       '[{\"iso_3166_1\": \"US\", \"name\": \"United States of America\"}, {\"iso_3166_1\": \"RO\", \"name\": \"Romania\"}]',\n",
      "       '[{\"iso_3166_1\": \"FR\", \"name\": \"France\"}, {\"iso_3166_1\": \"JP\", \"name\": \"Japan\"}, {\"iso_3166_1\": \"MX\", \"name\": \"Mexico\"}, {\"iso_3166_1\": \"US\", \"name\": \"United States of America\"}]',\n",
      "       '[{\"iso_3166_1\": \"HU\", \"name\": \"Hungary\"}, {\"iso_3166_1\": \"US\", \"name\": \"United States of America\"}]',\n",
      "       '[{\"iso_3166_1\": \"US\", \"name\": \"United States of America\"}, {\"iso_3166_1\": \"IN\", \"name\": \"India\"}]',\n",
      "       '[{\"iso_3166_1\": \"FR\", \"name\": \"France\"}, {\"iso_3166_1\": \"CA\", \"name\": \"Canada\"}]',\n",
      "       '[{\"iso_3166_1\": \"CH\", \"name\": \"Switzerland\"}, {\"iso_3166_1\": \"GB\", \"name\": \"United Kingdom\"}, {\"iso_3166_1\": \"DE\", \"name\": \"Germany\"}, {\"iso_3166_1\": \"CA\", \"name\": \"Canada\"}]',\n",
      "       '[{\"iso_3166_1\": \"FR\", \"name\": \"France\"}, {\"iso_3166_1\": \"DE\", \"name\": \"Germany\"}, {\"iso_3166_1\": \"US\", \"name\": \"United States of America\"}, {\"iso_3166_1\": \"GB\", \"name\": \"United Kingdom\"}]',\n",
      "       '[{\"iso_3166_1\": \"AU\", \"name\": \"Australia\"}, {\"iso_3166_1\": \"GB\", \"name\": \"United Kingdom\"}]',\n",
      "       '[{\"iso_3166_1\": \"AU\", \"name\": \"Australia\"}, {\"iso_3166_1\": \"CN\", \"name\": \"China\"}, {\"iso_3166_1\": \"DE\", \"name\": \"Germany\"}]',\n",
      "       '[{\"iso_3166_1\": \"CA\", \"name\": \"Canada\"}, {\"iso_3166_1\": \"ES\", \"name\": \"Spain\"}]',\n",
      "       '[{\"iso_3166_1\": \"CN\", \"name\": \"China\"}, {\"iso_3166_1\": \"HK\", \"name\": \"Hong Kong\"}, {\"iso_3166_1\": \"KR\", \"name\": \"South Korea\"}]',\n",
      "       '[{\"iso_3166_1\": \"ZA\", \"name\": \"South Africa\"}]',\n",
      "       '[{\"iso_3166_1\": \"PA\", \"name\": \"Panama\"}, {\"iso_3166_1\": \"US\", \"name\": \"United States of America\"}]',\n",
      "       '[{\"iso_3166_1\": \"CA\", \"name\": \"Canada\"}, {\"iso_3166_1\": \"CN\", \"name\": \"China\"}, {\"iso_3166_1\": \"US\", \"name\": \"United States of America\"}]',\n",
      "       '[{\"iso_3166_1\": \"CZ\", \"name\": \"Czech Republic\"}, {\"iso_3166_1\": \"FR\", \"name\": \"France\"}, {\"iso_3166_1\": \"DE\", \"name\": \"Germany\"}]',\n",
      "       '[{\"iso_3166_1\": \"NL\", \"name\": \"Netherlands\"}, {\"iso_3166_1\": \"BE\", \"name\": \"Belgium\"}]',\n",
      "       '[{\"iso_3166_1\": \"BG\", \"name\": \"Bulgaria\"}, {\"iso_3166_1\": \"US\", \"name\": \"United States of America\"}]',\n",
      "       '[{\"iso_3166_1\": \"GB\", \"name\": \"United Kingdom\"}, {\"iso_3166_1\": \"DE\", \"name\": \"Germany\"}, {\"iso_3166_1\": \"RU\", \"name\": \"Russia\"}]',\n",
      "       '[{\"iso_3166_1\": \"RU\", \"name\": \"Russia\"}, {\"iso_3166_1\": \"DE\", \"name\": \"Germany\"}, {\"iso_3166_1\": \"KZ\", \"name\": \"Kazakhstan\"}]',\n",
      "       '[{\"iso_3166_1\": \"GB\", \"name\": \"United Kingdom\"}, {\"iso_3166_1\": \"NL\", \"name\": \"Netherlands\"}, {\"iso_3166_1\": \"FR\", \"name\": \"France\"}]',\n",
      "       '[{\"iso_3166_1\": \"AT\", \"name\": \"Austria\"}, {\"iso_3166_1\": \"FR\", \"name\": \"France\"}, {\"iso_3166_1\": \"DE\", \"name\": \"Germany\"}, {\"iso_3166_1\": \"IT\", \"name\": \"Italy\"}]',\n",
      "       '[{\"iso_3166_1\": \"FR\", \"name\": \"France\"}, {\"iso_3166_1\": \"HK\", \"name\": \"Hong Kong\"}, {\"iso_3166_1\": \"IE\", \"name\": \"Ireland\"}, {\"iso_3166_1\": \"ES\", \"name\": \"Spain\"}, {\"iso_3166_1\": \"GB\", \"name\": \"United Kingdom\"}]',\n",
      "       '[{\"iso_3166_1\": \"US\", \"name\": \"United States of America\"}, {\"iso_3166_1\": \"MX\", \"name\": \"Mexico\"}, {\"iso_3166_1\": \"ES\", \"name\": \"Spain\"}]',\n",
      "       '[{\"iso_3166_1\": \"US\", \"name\": \"United States of America\"}, {\"iso_3166_1\": \"JP\", \"name\": \"Japan\"}]',\n",
      "       '[{\"iso_3166_1\": \"FR\", \"name\": \"France\"}, {\"iso_3166_1\": \"GB\", \"name\": \"United Kingdom\"}, {\"iso_3166_1\": \"LU\", \"name\": \"Luxembourg\"}]',\n",
      "       '[{\"iso_3166_1\": \"NL\", \"name\": \"Netherlands\"}, {\"iso_3166_1\": \"US\", \"name\": \"United States of America\"}]',\n",
      "       '[{\"iso_3166_1\": \"CA\", \"name\": \"Canada\"}, {\"iso_3166_1\": \"GB\", \"name\": \"United Kingdom\"}, {\"iso_3166_1\": \"US\", \"name\": \"United States of America\"}, {\"iso_3166_1\": \"IT\", \"name\": \"Italy\"}, {\"iso_3166_1\": \"ZA\", \"name\": \"South Africa\"}]',\n",
      "       '[{\"iso_3166_1\": \"ES\", \"name\": \"Spain\"}, {\"iso_3166_1\": \"US\", \"name\": \"United States of America\"}, {\"iso_3166_1\": \"FR\", \"name\": \"France\"}, {\"iso_3166_1\": \"IT\", \"name\": \"Italy\"}]',\n",
      "       '[{\"iso_3166_1\": \"US\", \"name\": \"United States of America\"}, {\"iso_3166_1\": \"FR\", \"name\": \"France\"}, {\"iso_3166_1\": \"GB\", \"name\": \"United Kingdom\"}]',\n",
      "       '[{\"iso_3166_1\": \"GR\", \"name\": \"Greece\"}, {\"iso_3166_1\": \"US\", \"name\": \"United States of America\"}]',\n",
      "       '[{\"iso_3166_1\": \"DE\", \"name\": \"Germany\"}, {\"iso_3166_1\": \"US\", \"name\": \"United States of America\"}, {\"iso_3166_1\": \"FR\", \"name\": \"France\"}]',\n",
      "       '[{\"iso_3166_1\": \"ES\", \"name\": \"Spain\"}, {\"iso_3166_1\": \"US\", \"name\": \"United States of America\"}, {\"iso_3166_1\": \"MX\", \"name\": \"Mexico\"}]',\n",
      "       '[{\"iso_3166_1\": \"SE\", \"name\": \"Sweden\"}]',\n",
      "       '[{\"iso_3166_1\": \"CN\", \"name\": \"China\"}, {\"iso_3166_1\": \"DE\", \"name\": \"Germany\"}, {\"iso_3166_1\": \"RU\", \"name\": \"Russia\"}, {\"iso_3166_1\": \"GB\", \"name\": \"United Kingdom\"}, {\"iso_3166_1\": \"US\", \"name\": \"United States of America\"}]',\n",
      "       '[{\"iso_3166_1\": \"CA\", \"name\": \"Canada\"}, {\"iso_3166_1\": \"FR\", \"name\": \"France\"}, {\"iso_3166_1\": \"DE\", \"name\": \"Germany\"}, {\"iso_3166_1\": \"IT\", \"name\": \"Italy\"}]',\n",
      "       '[{\"iso_3166_1\": \"ZA\", \"name\": \"South Africa\"}, {\"iso_3166_1\": \"FR\", \"name\": \"France\"}]',\n",
      "       '[{\"iso_3166_1\": \"JP\", \"name\": \"Japan\"}, {\"iso_3166_1\": \"FR\", \"name\": \"France\"}]',\n",
      "       '[{\"iso_3166_1\": \"CN\", \"name\": \"China\"}, {\"iso_3166_1\": \"HK\", \"name\": \"Hong Kong\"}, {\"iso_3166_1\": \"TW\", \"name\": \"Taiwan\"}, {\"iso_3166_1\": \"US\", \"name\": \"United States of America\"}]',\n",
      "       '[{\"iso_3166_1\": \"ES\", \"name\": \"Spain\"}, {\"iso_3166_1\": \"CA\", \"name\": \"Canada\"}]',\n",
      "       '[{\"iso_3166_1\": \"FR\", \"name\": \"France\"}, {\"iso_3166_1\": \"IT\", \"name\": \"Italy\"}, {\"iso_3166_1\": \"GB\", \"name\": \"United Kingdom\"}, {\"iso_3166_1\": \"US\", \"name\": \"United States of America\"}]',\n",
      "       '[{\"iso_3166_1\": \"CA\", \"name\": \"Canada\"}, {\"iso_3166_1\": \"SE\", \"name\": \"Sweden\"}, {\"iso_3166_1\": \"GB\", \"name\": \"United Kingdom\"}]',\n",
      "       '[{\"iso_3166_1\": \"ES\", \"name\": \"Spain\"}, {\"iso_3166_1\": \"GB\", \"name\": \"United Kingdom\"}]',\n",
      "       '[{\"iso_3166_1\": \"IE\", \"name\": \"Ireland\"}, {\"iso_3166_1\": \"LU\", \"name\": \"Luxembourg\"}, {\"iso_3166_1\": \"RU\", \"name\": \"Russia\"}, {\"iso_3166_1\": \"GB\", \"name\": \"United Kingdom\"}, {\"iso_3166_1\": \"US\", \"name\": \"United States of America\"}]',\n",
      "       '[{\"iso_3166_1\": \"AU\", \"name\": \"Australia\"}, {\"iso_3166_1\": \"CA\", \"name\": \"Canada\"}, {\"iso_3166_1\": \"GB\", \"name\": \"United Kingdom\"}]',\n",
      "       '[{\"iso_3166_1\": \"FR\", \"name\": \"France\"}, {\"iso_3166_1\": \"GB\", \"name\": \"United Kingdom\"}, {\"iso_3166_1\": \"PK\", \"name\": \"Pakistan\"}, {\"iso_3166_1\": \"US\", \"name\": \"United States of America\"}]',\n",
      "       '[{\"iso_3166_1\": \"FR\", \"name\": \"France\"}, {\"iso_3166_1\": \"HU\", \"name\": \"Hungary\"}, {\"iso_3166_1\": \"US\", \"name\": \"United States of America\"}]',\n",
      "       '[{\"iso_3166_1\": \"RO\", \"name\": \"Romania\"}, {\"iso_3166_1\": \"DE\", \"name\": \"Germany\"}, {\"iso_3166_1\": \"GB\", \"name\": \"United Kingdom\"}, {\"iso_3166_1\": \"US\", \"name\": \"United States of America\"}]',\n",
      "       '[{\"iso_3166_1\": \"DE\", \"name\": \"Germany\"}, {\"iso_3166_1\": \"ES\", \"name\": \"Spain\"}, {\"iso_3166_1\": \"GB\", \"name\": \"United Kingdom\"}, {\"iso_3166_1\": \"LT\", \"name\": \"Lithuania\"}]',\n",
      "       '[{\"iso_3166_1\": \"AT\", \"name\": \"Austria\"}, {\"iso_3166_1\": \"FR\", \"name\": \"France\"}, {\"iso_3166_1\": \"DE\", \"name\": \"Germany\"}, {\"iso_3166_1\": \"IT\", \"name\": \"Italy\"}, {\"iso_3166_1\": \"GB\", \"name\": \"United Kingdom\"}, {\"iso_3166_1\": \"US\", \"name\": \"United States of America\"}]',\n",
      "       '[{\"iso_3166_1\": \"US\", \"name\": \"United States of America\"}, {\"iso_3166_1\": \"KH\", \"name\": \"Cambodia\"}]',\n",
      "       '[{\"iso_3166_1\": \"CN\", \"name\": \"China\"}, {\"iso_3166_1\": \"FR\", \"name\": \"France\"}, {\"iso_3166_1\": \"HK\", \"name\": \"Hong Kong\"}, {\"iso_3166_1\": \"TW\", \"name\": \"Taiwan\"}]',\n",
      "       '[{\"iso_3166_1\": \"TH\", \"name\": \"Thailand\"}]',\n",
      "       '[{\"iso_3166_1\": \"AT\", \"name\": \"Austria\"}, {\"iso_3166_1\": \"HU\", \"name\": \"Hungary\"}]',\n",
      "       '[{\"iso_3166_1\": \"CZ\", \"name\": \"Czech Republic\"}, {\"iso_3166_1\": \"HU\", \"name\": \"Hungary\"}, {\"iso_3166_1\": \"SK\", \"name\": \"Slovakia\"}, {\"iso_3166_1\": \"GB\", \"name\": \"United Kingdom\"}]',\n",
      "       '[{\"iso_3166_1\": \"DK\", \"name\": \"Denmark\"}, {\"iso_3166_1\": \"FR\", \"name\": \"France\"}, {\"iso_3166_1\": \"DE\", \"name\": \"Germany\"}, {\"iso_3166_1\": \"IT\", \"name\": \"Italy\"}, {\"iso_3166_1\": \"NL\", \"name\": \"Netherlands\"}, {\"iso_3166_1\": \"SE\", \"name\": \"Sweden\"}, {\"iso_3166_1\": \"GB\", \"name\": \"United Kingdom\"}]',\n",
      "       '[{\"iso_3166_1\": \"IN\", \"name\": \"India\"}, {\"iso_3166_1\": \"GB\", \"name\": \"United Kingdom\"}, {\"iso_3166_1\": \"US\", \"name\": \"United States of America\"}]',\n",
      "       '[{\"iso_3166_1\": \"GB\", \"name\": \"United Kingdom\"}, {\"iso_3166_1\": \"IT\", \"name\": \"Italy\"}]',\n",
      "       '[{\"iso_3166_1\": \"FR\", \"name\": \"France\"}, {\"iso_3166_1\": \"GB\", \"name\": \"United Kingdom\"}, {\"iso_3166_1\": \"US\", \"name\": \"United States of America\"}, {\"iso_3166_1\": \"ZA\", \"name\": \"South Africa\"}]',\n",
      "       '[{\"iso_3166_1\": \"FR\", \"name\": \"France\"}, {\"iso_3166_1\": \"IT\", \"name\": \"Italy\"}]',\n",
      "       '[{\"iso_3166_1\": \"FR\", \"name\": \"France\"}, {\"iso_3166_1\": \"DE\", \"name\": \"Germany\"}, {\"iso_3166_1\": \"RO\", \"name\": \"Romania\"}]',\n",
      "       '[{\"iso_3166_1\": \"CN\", \"name\": \"China\"}, {\"iso_3166_1\": \"TW\", \"name\": \"Taiwan\"}, {\"iso_3166_1\": \"HK\", \"name\": \"Hong Kong\"}]',\n",
      "       '[{\"iso_3166_1\": \"AT\", \"name\": \"Austria\"}, {\"iso_3166_1\": \"DE\", \"name\": \"Germany\"}, {\"iso_3166_1\": \"IT\", \"name\": \"Italy\"}]',\n",
      "       '[{\"iso_3166_1\": \"ES\", \"name\": \"Spain\"}, {\"iso_3166_1\": \"FR\", \"name\": \"France\"}, {\"iso_3166_1\": \"IT\", \"name\": \"Italy\"}]',\n",
      "       '[{\"iso_3166_1\": \"GB\", \"name\": \"United Kingdom\"}, {\"iso_3166_1\": \"CH\", \"name\": \"Switzerland\"}, {\"iso_3166_1\": \"US\", \"name\": \"United States of America\"}]',\n",
      "       '[{\"iso_3166_1\": \"CA\", \"name\": \"Canada\"}, {\"iso_3166_1\": \"IE\", \"name\": \"Ireland\"}]',\n",
      "       '[{\"iso_3166_1\": \"FR\", \"name\": \"France\"}, {\"iso_3166_1\": \"US\", \"name\": \"United States of America\"}, {\"iso_3166_1\": \"CA\", \"name\": \"Canada\"}]',\n",
      "       '[{\"iso_3166_1\": \"GB\", \"name\": \"United Kingdom\"}, {\"iso_3166_1\": \"CA\", \"name\": \"Canada\"}, {\"iso_3166_1\": \"FR\", \"name\": \"France\"}]',\n",
      "       '[{\"iso_3166_1\": \"DE\", \"name\": \"Germany\"}, {\"iso_3166_1\": \"FR\", \"name\": \"France\"}, {\"iso_3166_1\": \"HU\", \"name\": \"Hungary\"}]',\n",
      "       '[{\"iso_3166_1\": \"AR\", \"name\": \"Argentina\"}, {\"iso_3166_1\": \"DK\", \"name\": \"Denmark\"}, {\"iso_3166_1\": \"FI\", \"name\": \"Finland\"}, {\"iso_3166_1\": \"FR\", \"name\": \"France\"}, {\"iso_3166_1\": \"DE\", \"name\": \"Germany\"}, {\"iso_3166_1\": \"IS\", \"name\": \"Iceland\"}, {\"iso_3166_1\": \"IT\", \"name\": \"Italy\"}, {\"iso_3166_1\": \"NL\", \"name\": \"Netherlands\"}, {\"iso_3166_1\": \"NO\", \"name\": \"Norway\"}, {\"iso_3166_1\": \"SE\", \"name\": \"Sweden\"}, {\"iso_3166_1\": \"GB\", \"name\": \"United Kingdom\"}, {\"iso_3166_1\": \"US\", \"name\": \"United States of America\"}]',\n",
      "       '[{\"iso_3166_1\": \"BE\", \"name\": \"Belgium\"}, {\"iso_3166_1\": \"FR\", \"name\": \"France\"}, {\"iso_3166_1\": \"LU\", \"name\": \"Luxembourg\"}]',\n",
      "       '[{\"iso_3166_1\": \"MX\", \"name\": \"Mexico\"}, {\"iso_3166_1\": \"US\", \"name\": \"United States of America\"}, {\"iso_3166_1\": \"CA\", \"name\": \"Canada\"}]',\n",
      "       '[{\"iso_3166_1\": \"GB\", \"name\": \"United Kingdom\"}, {\"iso_3166_1\": \"LU\", \"name\": \"Luxembourg\"}]',\n",
      "       '[{\"iso_3166_1\": \"DE\", \"name\": \"Germany\"}, {\"iso_3166_1\": \"HK\", \"name\": \"Hong Kong\"}, {\"iso_3166_1\": \"CN\", \"name\": \"China\"}, {\"iso_3166_1\": \"FR\", \"name\": \"France\"}, {\"iso_3166_1\": \"IT\", \"name\": \"Italy\"}]',\n",
      "       '[{\"iso_3166_1\": \"GB\", \"name\": \"United Kingdom\"}, {\"iso_3166_1\": \"JP\", \"name\": \"Japan\"}, {\"iso_3166_1\": \"US\", \"name\": \"United States of America\"}]',\n",
      "       '[{\"iso_3166_1\": \"HU\", \"name\": \"Hungary\"}, {\"iso_3166_1\": \"DE\", \"name\": \"Germany\"}, {\"iso_3166_1\": \"GB\", \"name\": \"United Kingdom\"}, {\"iso_3166_1\": \"IL\", \"name\": \"Israel\"}]',\n",
      "       '[{\"iso_3166_1\": \"CA\", \"name\": \"Canada\"}, {\"iso_3166_1\": \"DE\", \"name\": \"Germany\"}, {\"iso_3166_1\": \"FR\", \"name\": \"France\"}, {\"iso_3166_1\": \"GB\", \"name\": \"United Kingdom\"}]',\n",
      "       '[{\"iso_3166_1\": \"BR\", \"name\": \"Brazil\"}, {\"iso_3166_1\": \"GB\", \"name\": \"United Kingdom\"}]',\n",
      "       '[{\"iso_3166_1\": \"AU\", \"name\": \"Australia\"}, {\"iso_3166_1\": \"CA\", \"name\": \"Canada\"}]',\n",
      "       '[{\"iso_3166_1\": \"AU\", \"name\": \"Australia\"}, {\"iso_3166_1\": \"CA\", \"name\": \"Canada\"}, {\"iso_3166_1\": \"GB\", \"name\": \"United Kingdom\"}, {\"iso_3166_1\": \"US\", \"name\": \"United States of America\"}]',\n",
      "       '[{\"iso_3166_1\": \"DE\", \"name\": \"Germany\"}, {\"iso_3166_1\": \"IT\", \"name\": \"Italy\"}, {\"iso_3166_1\": \"US\", \"name\": \"United States of America\"}]',\n",
      "       '[{\"iso_3166_1\": \"FJ\", \"name\": \"Fiji\"}]',\n",
      "       '[{\"iso_3166_1\": \"MX\", \"name\": \"Mexico\"}]',\n",
      "       '[{\"iso_3166_1\": \"AE\", \"name\": \"United Arab Emirates\"}, {\"iso_3166_1\": \"GB\", \"name\": \"United Kingdom\"}, {\"iso_3166_1\": \"US\", \"name\": \"United States of America\"}]',\n",
      "       '[{\"iso_3166_1\": \"US\", \"name\": \"United States of America\"}, {\"iso_3166_1\": \"CN\", \"name\": \"China\"}, {\"iso_3166_1\": \"CA\", \"name\": \"Canada\"}]',\n",
      "       '[{\"iso_3166_1\": \"CA\", \"name\": \"Canada\"}, {\"iso_3166_1\": \"IT\", \"name\": \"Italy\"}, {\"iso_3166_1\": \"GB\", \"name\": \"United Kingdom\"}]',\n",
      "       '[{\"iso_3166_1\": \"GB\", \"name\": \"United Kingdom\"}, {\"iso_3166_1\": \"FR\", \"name\": \"France\"}, {\"iso_3166_1\": \"DE\", \"name\": \"Germany\"}, {\"iso_3166_1\": \"US\", \"name\": \"United States of America\"}]',\n",
      "       '[{\"iso_3166_1\": \"CN\", \"name\": \"China\"}, {\"iso_3166_1\": \"FR\", \"name\": \"France\"}, {\"iso_3166_1\": \"HK\", \"name\": \"Hong Kong\"}]',\n",
      "       '[{\"iso_3166_1\": \"ES\", \"name\": \"Spain\"}, {\"iso_3166_1\": \"US\", \"name\": \"United States of America\"}, {\"iso_3166_1\": \"JP\", \"name\": \"Japan\"}]',\n",
      "       '[{\"iso_3166_1\": \"IT\", \"name\": \"Italy\"}, {\"iso_3166_1\": \"GB\", \"name\": \"United Kingdom\"}]',\n",
      "       '[{\"iso_3166_1\": \"BG\", \"name\": \"Bulgaria\"}]',\n",
      "       '[{\"iso_3166_1\": \"FR\", \"name\": \"France\"}, {\"iso_3166_1\": \"JP\", \"name\": \"Japan\"}, {\"iso_3166_1\": \"US\", \"name\": \"United States of America\"}]',\n",
      "       '[{\"iso_3166_1\": \"FR\", \"name\": \"France\"}, {\"iso_3166_1\": \"CH\", \"name\": \"Switzerland\"}]',\n",
      "       '[{\"iso_3166_1\": \"FR\", \"name\": \"France\"}, {\"iso_3166_1\": \"IT\", \"name\": \"Italy\"}, {\"iso_3166_1\": \"DE\", \"name\": \"Germany\"}, {\"iso_3166_1\": \"ES\", \"name\": \"Spain\"}]',\n",
      "       '[{\"iso_3166_1\": \"IT\", \"name\": \"Italy\"}, {\"iso_3166_1\": \"CS\", \"name\": \"Serbia and Montenegro\"}, {\"iso_3166_1\": \"US\", \"name\": \"United States of America\"}]',\n",
      "       '[{\"iso_3166_1\": \"BE\", \"name\": \"Belgium\"}, {\"iso_3166_1\": \"DE\", \"name\": \"Germany\"}, {\"iso_3166_1\": \"US\", \"name\": \"United States of America\"}]',\n",
      "       '[{\"iso_3166_1\": \"GB\", \"name\": \"United Kingdom\"}, {\"iso_3166_1\": \"DE\", \"name\": \"Germany\"}, {\"iso_3166_1\": \"HU\", \"name\": \"Hungary\"}]',\n",
      "       '[{\"iso_3166_1\": \"ES\", \"name\": \"Spain\"}, {\"iso_3166_1\": \"FR\", \"name\": \"France\"}, {\"iso_3166_1\": \"GB\", \"name\": \"United Kingdom\"}]',\n",
      "       '[{\"iso_3166_1\": \"MX\", \"name\": \"Mexico\"}, {\"iso_3166_1\": \"KR\", \"name\": \"South Korea\"}]',\n",
      "       '[{\"iso_3166_1\": \"DE\", \"name\": \"Germany\"}, {\"iso_3166_1\": \"IL\", \"name\": \"Israel\"}, {\"iso_3166_1\": \"US\", \"name\": \"United States of America\"}]',\n",
      "       '[{\"iso_3166_1\": \"NO\", \"name\": \"Norway\"}, {\"iso_3166_1\": \"IS\", \"name\": \"Iceland\"}]',\n",
      "       '[{\"iso_3166_1\": \"CA\", \"name\": \"Canada\"}, {\"iso_3166_1\": \"ZA\", \"name\": \"South Africa\"}, {\"iso_3166_1\": \"GB\", \"name\": \"United Kingdom\"}]',\n",
      "       '[{\"iso_3166_1\": \"CA\", \"name\": \"Canada\"}, {\"iso_3166_1\": \"LU\", \"name\": \"Luxembourg\"}]',\n",
      "       '[{\"iso_3166_1\": \"FR\", \"name\": \"France\"}, {\"iso_3166_1\": \"AT\", \"name\": \"Austria\"}, {\"iso_3166_1\": \"DE\", \"name\": \"Germany\"}]',\n",
      "       '[{\"iso_3166_1\": \"DK\", \"name\": \"Denmark\"}, {\"iso_3166_1\": \"FR\", \"name\": \"France\"}, {\"iso_3166_1\": \"DE\", \"name\": \"Germany\"}, {\"iso_3166_1\": \"SE\", \"name\": \"Sweden\"}]',\n",
      "       '[{\"iso_3166_1\": \"BS\", \"name\": \"Bahamas\"}, {\"iso_3166_1\": \"FR\", \"name\": \"France\"}, {\"iso_3166_1\": \"GB\", \"name\": \"United Kingdom\"}, {\"iso_3166_1\": \"US\", \"name\": \"United States of America\"}]',\n",
      "       '[{\"iso_3166_1\": \"CZ\", \"name\": \"Czech Republic\"}, {\"iso_3166_1\": \"DK\", \"name\": \"Denmark\"}, {\"iso_3166_1\": \"FI\", \"name\": \"Finland\"}, {\"iso_3166_1\": \"FR\", \"name\": \"France\"}, {\"iso_3166_1\": \"DE\", \"name\": \"Germany\"}, {\"iso_3166_1\": \"NO\", \"name\": \"Norway\"}, {\"iso_3166_1\": \"SE\", \"name\": \"Sweden\"}]',\n",
      "       '[{\"iso_3166_1\": \"CA\", \"name\": \"Canada\"}, {\"iso_3166_1\": \"TH\", \"name\": \"Thailand\"}, {\"iso_3166_1\": \"US\", \"name\": \"United States of America\"}]',\n",
      "       '[{\"iso_3166_1\": \"US\", \"name\": \"United States of America\"}, {\"iso_3166_1\": \"NO\", \"name\": \"Norway\"}, {\"iso_3166_1\": \"SE\", \"name\": \"Sweden\"}]',\n",
      "       '[{\"iso_3166_1\": \"GB\", \"name\": \"United Kingdom\"}, {\"iso_3166_1\": \"FR\", \"name\": \"France\"}, {\"iso_3166_1\": \"AU\", \"name\": \"Australia\"}]',\n",
      "       '[{\"iso_3166_1\": \"IE\", \"name\": \"Ireland\"}, {\"iso_3166_1\": \"GB\", \"name\": \"United Kingdom\"}, {\"iso_3166_1\": \"DE\", \"name\": \"Germany\"}, {\"iso_3166_1\": \"IT\", \"name\": \"Italy\"}, {\"iso_3166_1\": \"ES\", \"name\": \"Spain\"}, {\"iso_3166_1\": \"FR\", \"name\": \"France\"}, {\"iso_3166_1\": \"BE\", \"name\": \"Belgium\"}, {\"iso_3166_1\": \"CH\", \"name\": \"Switzerland\"}]',\n",
      "       '[{\"iso_3166_1\": \"TR\", \"name\": \"Turkey\"}]',\n",
      "       '[{\"iso_3166_1\": \"NL\", \"name\": \"Netherlands\"}, {\"iso_3166_1\": \"DE\", \"name\": \"Germany\"}, {\"iso_3166_1\": \"US\", \"name\": \"United States of America\"}]',\n",
      "       '[{\"iso_3166_1\": \"BE\", \"name\": \"Belgium\"}, {\"iso_3166_1\": \"FR\", \"name\": \"France\"}, {\"iso_3166_1\": \"IE\", \"name\": \"Ireland\"}]',\n",
      "       '[{\"iso_3166_1\": \"DK\", \"name\": \"Denmark\"}, {\"iso_3166_1\": \"FR\", \"name\": \"France\"}, {\"iso_3166_1\": \"GB\", \"name\": \"United Kingdom\"}]',\n",
      "       '[{\"iso_3166_1\": \"FR\", \"name\": \"France\"}, {\"iso_3166_1\": \"US\", \"name\": \"United States of America\"}, {\"iso_3166_1\": \"ES\", \"name\": \"Spain\"}]',\n",
      "       '[{\"iso_3166_1\": \"GB\", \"name\": \"United Kingdom\"}, {\"iso_3166_1\": \"IE\", \"name\": \"Ireland\"}]',\n",
      "       '[{\"iso_3166_1\": \"US\", \"name\": \"United States of America\"}, {\"iso_3166_1\": \"NG\", \"name\": \"Nigeria\"}]',\n",
      "       '[{\"iso_3166_1\": \"DK\", \"name\": \"Denmark\"}, {\"iso_3166_1\": \"FR\", \"name\": \"France\"}, {\"iso_3166_1\": \"US\", \"name\": \"United States of America\"}]',\n",
      "       '[{\"iso_3166_1\": \"NZ\", \"name\": \"New Zealand\"}, {\"iso_3166_1\": \"AU\", \"name\": \"Australia\"}, {\"iso_3166_1\": \"FR\", \"name\": \"France\"}]',\n",
      "       '[{\"iso_3166_1\": \"FR\", \"name\": \"France\"}, {\"iso_3166_1\": \"JP\", \"name\": \"Japan\"}, {\"iso_3166_1\": \"GB\", \"name\": \"United Kingdom\"}, {\"iso_3166_1\": \"US\", \"name\": \"United States of America\"}]',\n",
      "       '[{\"iso_3166_1\": \"US\", \"name\": \"United States of America\"}, {\"iso_3166_1\": \"AR\", \"name\": \"Argentina\"}]',\n",
      "       '[{\"iso_3166_1\": \"GB\", \"name\": \"United Kingdom\"}, {\"iso_3166_1\": \"ZA\", \"name\": \"South Africa\"}, {\"iso_3166_1\": \"FR\", \"name\": \"France\"}]',\n",
      "       '[{\"iso_3166_1\": \"BR\", \"name\": \"Brazil\"}]',\n",
      "       '[{\"iso_3166_1\": \"GB\", \"name\": \"United Kingdom\"}, {\"iso_3166_1\": \"NO\", \"name\": \"Norway\"}, {\"iso_3166_1\": \"SE\", \"name\": \"Sweden\"}]',\n",
      "       '[{\"iso_3166_1\": \"NZ\", \"name\": \"New Zealand\"}, {\"iso_3166_1\": \"GB\", \"name\": \"United Kingdom\"}]',\n",
      "       '[{\"iso_3166_1\": \"JP\", \"name\": \"Japan\"}, {\"iso_3166_1\": \"GB\", \"name\": \"United Kingdom\"}, {\"iso_3166_1\": \"US\", \"name\": \"United States of America\"}, {\"iso_3166_1\": \"AU\", \"name\": \"Australia\"}]',\n",
      "       '[{\"iso_3166_1\": \"AU\", \"name\": \"Australia\"}, {\"iso_3166_1\": \"HK\", \"name\": \"Hong Kong\"}]',\n",
      "       '[{\"iso_3166_1\": \"GB\", \"name\": \"United Kingdom\"}, {\"iso_3166_1\": \"DE\", \"name\": \"Germany\"}, {\"iso_3166_1\": \"US\", \"name\": \"United States of America\"}]',\n",
      "       '[{\"iso_3166_1\": \"BS\", \"name\": \"Bahamas\"}, {\"iso_3166_1\": \"GB\", \"name\": \"United Kingdom\"}]',\n",
      "       '[{\"iso_3166_1\": \"IE\", \"name\": \"Ireland\"}]',\n",
      "       '[{\"iso_3166_1\": \"GB\", \"name\": \"United Kingdom\"}, {\"iso_3166_1\": \"CA\", \"name\": \"Canada\"}]',\n",
      "       '[{\"iso_3166_1\": \"US\", \"name\": \"United States of America\"}, {\"iso_3166_1\": \"TH\", \"name\": \"Thailand\"}]',\n",
      "       '[{\"iso_3166_1\": \"TH\", \"name\": \"Thailand\"}, {\"iso_3166_1\": \"AU\", \"name\": \"Australia\"}]',\n",
      "       '[{\"iso_3166_1\": \"GB\", \"name\": \"United Kingdom\"}, {\"iso_3166_1\": \"IN\", \"name\": \"India\"}]',\n",
      "       '[{\"iso_3166_1\": \"IN\", \"name\": \"India\"}, {\"iso_3166_1\": \"DE\", \"name\": \"Germany\"}, {\"iso_3166_1\": \"GB\", \"name\": \"United Kingdom\"}, {\"iso_3166_1\": \"US\", \"name\": \"United States of America\"}]',\n",
      "       '[{\"iso_3166_1\": \"CH\", \"name\": \"Switzerland\"}, {\"iso_3166_1\": \"DE\", \"name\": \"Germany\"}, {\"iso_3166_1\": \"FR\", \"name\": \"France\"}]',\n",
      "       '[{\"iso_3166_1\": \"FI\", \"name\": \"Finland\"}, {\"iso_3166_1\": \"FR\", \"name\": \"France\"}, {\"iso_3166_1\": \"DE\", \"name\": \"Germany\"}]',\n",
      "       '[{\"iso_3166_1\": \"DE\", \"name\": \"Germany\"}, {\"iso_3166_1\": \"NO\", \"name\": \"Norway\"}]',\n",
      "       '[{\"iso_3166_1\": \"GB\", \"name\": \"United Kingdom\"}, {\"iso_3166_1\": \"NO\", \"name\": \"Norway\"}]',\n",
      "       '[{\"iso_3166_1\": \"CA\", \"name\": \"Canada\"}, {\"iso_3166_1\": \"DE\", \"name\": \"Germany\"}]',\n",
      "       '[{\"iso_3166_1\": \"NZ\", \"name\": \"New Zealand\"}]',\n",
      "       '[{\"iso_3166_1\": \"BS\", \"name\": \"Bahamas\"}, {\"iso_3166_1\": \"US\", \"name\": \"United States of America\"}]',\n",
      "       '[{\"iso_3166_1\": \"CY\", \"name\": \"Cyprus\"}, {\"iso_3166_1\": \"JO\", \"name\": \"Jordan\"}, {\"iso_3166_1\": \"GB\", \"name\": \"United Kingdom\"}]',\n",
      "       '[{\"iso_3166_1\": \"CZ\", \"name\": \"Czech Republic\"}, {\"iso_3166_1\": \"SK\", \"name\": \"Slovakia\"}]',\n",
      "       '[{\"iso_3166_1\": \"FR\", \"name\": \"France\"}, {\"iso_3166_1\": \"DK\", \"name\": \"Denmark\"}, {\"iso_3166_1\": \"SE\", \"name\": \"Sweden\"}, {\"iso_3166_1\": \"TH\", \"name\": \"Thailand\"}, {\"iso_3166_1\": \"US\", \"name\": \"United States of America\"}]',\n",
      "       '[{\"iso_3166_1\": \"CA\", \"name\": \"Canada\"}, {\"iso_3166_1\": \"MX\", \"name\": \"Mexico\"}]',\n",
      "       '[{\"iso_3166_1\": \"US\", \"name\": \"United States of America\"}, {\"iso_3166_1\": \"ES\", \"name\": \"Spain\"}, {\"iso_3166_1\": \"FR\", \"name\": \"France\"}]',\n",
      "       '[{\"iso_3166_1\": \"BO\", \"name\": \"Bolivia\"}, {\"iso_3166_1\": \"FR\", \"name\": \"France\"}, {\"iso_3166_1\": \"ES\", \"name\": \"Spain\"}, {\"iso_3166_1\": \"GB\", \"name\": \"United Kingdom\"}]',\n",
      "       '[{\"iso_3166_1\": \"DK\", \"name\": \"Denmark\"}, {\"iso_3166_1\": \"SE\", \"name\": \"Sweden\"}]',\n",
      "       '[{\"iso_3166_1\": \"DK\", \"name\": \"Denmark\"}, {\"iso_3166_1\": \"SE\", \"name\": \"Sweden\"}, {\"iso_3166_1\": \"DE\", \"name\": \"Germany\"}]',\n",
      "       '[{\"iso_3166_1\": \"CH\", \"name\": \"Switzerland\"}]',\n",
      "       '[{\"iso_3166_1\": \"JP\", \"name\": \"Japan\"}, {\"iso_3166_1\": \"GB\", \"name\": \"United Kingdom\"}, {\"iso_3166_1\": \"IE\", \"name\": \"Ireland\"}]',\n",
      "       '[{\"iso_3166_1\": \"ES\", \"name\": \"Spain\"}, {\"iso_3166_1\": \"MX\", \"name\": \"Mexico\"}]',\n",
      "       '[{\"iso_3166_1\": \"MX\", \"name\": \"Mexico\"}, {\"iso_3166_1\": \"DE\", \"name\": \"Germany\"}]',\n",
      "       '[{\"iso_3166_1\": \"FR\", \"name\": \"France\"}, {\"iso_3166_1\": \"AU\", \"name\": \"Australia\"}]',\n",
      "       '[{\"iso_3166_1\": \"BR\", \"name\": \"Brazil\"}, {\"iso_3166_1\": \"DE\", \"name\": \"Germany\"}]',\n",
      "       '[{\"iso_3166_1\": \"CA\", \"name\": \"Canada\"}, {\"iso_3166_1\": \"DE\", \"name\": \"Germany\"}, {\"iso_3166_1\": \"ZA\", \"name\": \"South Africa\"}]',\n",
      "       '[{\"iso_3166_1\": \"MA\", \"name\": \"Morocco\"}, {\"iso_3166_1\": \"RO\", \"name\": \"Romania\"}, {\"iso_3166_1\": \"AE\", \"name\": \"United Arab Emirates\"}, {\"iso_3166_1\": \"GB\", \"name\": \"United Kingdom\"}]',\n",
      "       '[{\"iso_3166_1\": \"DK\", \"name\": \"Denmark\"}, {\"iso_3166_1\": \"FR\", \"name\": \"France\"}, {\"iso_3166_1\": \"IS\", \"name\": \"Iceland\"}, {\"iso_3166_1\": \"US\", \"name\": \"United States of America\"}]',\n",
      "       '[{\"iso_3166_1\": \"NO\", \"name\": \"Norway\"}]',\n",
      "       '[{\"iso_3166_1\": \"BG\", \"name\": \"Bulgaria\"}, {\"iso_3166_1\": \"CA\", \"name\": \"Canada\"}]',\n",
      "       '[{\"iso_3166_1\": \"BR\", \"name\": \"Brazil\"}, {\"iso_3166_1\": \"FR\", \"name\": \"France\"}]',\n",
      "       '[{\"iso_3166_1\": \"EC\", \"name\": \"Ecuador\"}, {\"iso_3166_1\": \"CO\", \"name\": \"Colombia\"}, {\"iso_3166_1\": \"US\", \"name\": \"United States of America\"}]',\n",
      "       '[{\"iso_3166_1\": \"GB\", \"name\": \"United Kingdom\"}, {\"iso_3166_1\": \"IN\", \"name\": \"India\"}, {\"iso_3166_1\": \"US\", \"name\": \"United States of America\"}, {\"iso_3166_1\": \"JP\", \"name\": \"Japan\"}, {\"iso_3166_1\": \"DE\", \"name\": \"Germany\"}]',\n",
      "       '[{\"iso_3166_1\": \"BR\", \"name\": \"Brazil\"}, {\"iso_3166_1\": \"US\", \"name\": \"United States of America\"}]',\n",
      "       '[{\"iso_3166_1\": \"GB\", \"name\": \"United Kingdom\"}, {\"iso_3166_1\": \"NL\", \"name\": \"Netherlands\"}]',\n",
      "       '[{\"iso_3166_1\": \"DK\", \"name\": \"Denmark\"}]',\n",
      "       '[{\"iso_3166_1\": \"NL\", \"name\": \"Netherlands\"}]',\n",
      "       '[{\"iso_3166_1\": \"DK\", \"name\": \"Denmark\"}, {\"iso_3166_1\": \"FR\", \"name\": \"France\"}, {\"iso_3166_1\": \"PL\", \"name\": \"Poland\"}, {\"iso_3166_1\": \"GB\", \"name\": \"United Kingdom\"}]',\n",
      "       '[{\"iso_3166_1\": \"AT\", \"name\": \"Austria\"}, {\"iso_3166_1\": \"CH\", \"name\": \"Switzerland\"}, {\"iso_3166_1\": \"US\", \"name\": \"United States of America\"}]',\n",
      "       '[{\"iso_3166_1\": \"PL\", \"name\": \"Poland\"}, {\"iso_3166_1\": \"US\", \"name\": \"United States of America\"}]',\n",
      "       '[{\"iso_3166_1\": \"MY\", \"name\": \"Malaysia\"}, {\"iso_3166_1\": \"ES\", \"name\": \"Spain\"}, {\"iso_3166_1\": \"US\", \"name\": \"United States of America\"}]',\n",
      "       '[{\"iso_3166_1\": \"FR\", \"name\": \"France\"}, {\"iso_3166_1\": \"BE\", \"name\": \"Belgium\"}, {\"iso_3166_1\": \"CA\", \"name\": \"Canada\"}, {\"iso_3166_1\": \"GB\", \"name\": \"United Kingdom\"}]',\n",
      "       '[{\"iso_3166_1\": \"IL\", \"name\": \"Israel\"}, {\"iso_3166_1\": \"FR\", \"name\": \"France\"}, {\"iso_3166_1\": \"DE\", \"name\": \"Germany\"}]',\n",
      "       '[{\"iso_3166_1\": \"US\", \"name\": \"United States of America\"}, {\"iso_3166_1\": \"HK\", \"name\": \"Hong Kong\"}]',\n",
      "       '[{\"iso_3166_1\": \"ES\", \"name\": \"Spain\"}, {\"iso_3166_1\": \"US\", \"name\": \"United States of America\"}, {\"iso_3166_1\": \"FR\", \"name\": \"France\"}]',\n",
      "       '[{\"iso_3166_1\": \"GB\", \"name\": \"United Kingdom\"}, {\"iso_3166_1\": \"US\", \"name\": \"United States of America\"}, {\"iso_3166_1\": \"EG\", \"name\": \"Egypt\"}]',\n",
      "       '[{\"iso_3166_1\": \"BT\", \"name\": \"Bhutan\"}, {\"iso_3166_1\": \"GB\", \"name\": \"United Kingdom\"}, {\"iso_3166_1\": \"AU\", \"name\": \"Australia\"}]',\n",
      "       '[{\"iso_3166_1\": \"IN\", \"name\": \"India\"}, {\"iso_3166_1\": \"FR\", \"name\": \"France\"}, {\"iso_3166_1\": \"DE\", \"name\": \"Germany\"}]',\n",
      "       '[{\"iso_3166_1\": \"LB\", \"name\": \"Lebanon\"}, {\"iso_3166_1\": \"FR\", \"name\": \"France\"}]',\n",
      "       '[{\"iso_3166_1\": \"ES\", \"name\": \"Spain\"}, {\"iso_3166_1\": \"US\", \"name\": \"United States of America\"}, {\"iso_3166_1\": \"CO\", \"name\": \"Colombia\"}]',\n",
      "       '[{\"iso_3166_1\": \"FR\", \"name\": \"France\"}, {\"iso_3166_1\": \"IL\", \"name\": \"Israel\"}]',\n",
      "       '[{\"iso_3166_1\": \"AR\", \"name\": \"Argentina\"}]',\n",
      "       '[{\"iso_3166_1\": \"IT\", \"name\": \"Italy\"}, {\"iso_3166_1\": \"PL\", \"name\": \"Poland\"}, {\"iso_3166_1\": \"RO\", \"name\": \"Romania\"}, {\"iso_3166_1\": \"US\", \"name\": \"United States of America\"}]',\n",
      "       '[{\"iso_3166_1\": \"AR\", \"name\": \"Argentina\"}, {\"iso_3166_1\": \"IT\", \"name\": \"Italy\"}, {\"iso_3166_1\": \"NL\", \"name\": \"Netherlands\"}, {\"iso_3166_1\": \"ES\", \"name\": \"Spain\"}]',\n",
      "       '[{\"iso_3166_1\": \"CA\", \"name\": \"Canada\"}, {\"iso_3166_1\": \"DK\", \"name\": \"Denmark\"}]',\n",
      "       '[{\"iso_3166_1\": \"KG\", \"name\": \"Kyrgyz Republic\"}]',\n",
      "       '[{\"iso_3166_1\": \"DZ\", \"name\": \"Algeria\"}, {\"iso_3166_1\": \"US\", \"name\": \"United States of America\"}]',\n",
      "       '[{\"iso_3166_1\": \"MX\", \"name\": \"Mexico\"}, {\"iso_3166_1\": \"FR\", \"name\": \"France\"}]',\n",
      "       '[{\"iso_3166_1\": \"US\", \"name\": \"United States of America\"}, {\"iso_3166_1\": \"IT\", \"name\": \"Italy\"}, {\"iso_3166_1\": \"ES\", \"name\": \"Spain\"}, {\"iso_3166_1\": \"DE\", \"name\": \"Germany\"}]',\n",
      "       '[{\"iso_3166_1\": \"ID\", \"name\": \"Indonesia\"}, {\"iso_3166_1\": \"US\", \"name\": \"United States of America\"}, {\"iso_3166_1\": \"FR\", \"name\": \"France\"}]',\n",
      "       '[{\"iso_3166_1\": \"NO\", \"name\": \"Norway\"}, {\"iso_3166_1\": \"US\", \"name\": \"United States of America\"}]',\n",
      "       '[{\"iso_3166_1\": \"JM\", \"name\": \"Jamaica\"}, {\"iso_3166_1\": \"GB\", \"name\": \"United Kingdom\"}]',\n",
      "       '[{\"iso_3166_1\": \"CA\", \"name\": \"Canada\"}, {\"iso_3166_1\": \"CL\", \"name\": \"Chile\"}, {\"iso_3166_1\": \"US\", \"name\": \"United States of America\"}]',\n",
      "       '[{\"iso_3166_1\": \"IL\", \"name\": \"Israel\"}, {\"iso_3166_1\": \"DE\", \"name\": \"Germany\"}]',\n",
      "       '[{\"iso_3166_1\": \"DK\", \"name\": \"Denmark\"}, {\"iso_3166_1\": \"NO\", \"name\": \"Norway\"}, {\"iso_3166_1\": \"GB\", \"name\": \"United Kingdom\"}]',\n",
      "       '[{\"iso_3166_1\": \"GY\", \"name\": \"Guyana\"}, {\"iso_3166_1\": \"US\", \"name\": \"United States of America\"}]',\n",
      "       '[{\"iso_3166_1\": \"US\", \"name\": \"United States of America\"}, {\"iso_3166_1\": \"DK\", \"name\": \"Denmark\"}]',\n",
      "       '[{\"iso_3166_1\": \"PK\", \"name\": \"Pakistan\"}]',\n",
      "       '[{\"iso_3166_1\": \"BE\", \"name\": \"Belgium\"}, {\"iso_3166_1\": \"RO\", \"name\": \"Romania\"}]',\n",
      "       '[{\"iso_3166_1\": \"FR\", \"name\": \"France\"}, {\"iso_3166_1\": \"IR\", \"name\": \"Iran\"}, {\"iso_3166_1\": \"US\", \"name\": \"United States of America\"}]',\n",
      "       '[{\"iso_3166_1\": \"GP\", \"name\": \"Guadaloupe\"}, {\"iso_3166_1\": \"FR\", \"name\": \"France\"}]',\n",
      "       '[{\"iso_3166_1\": \"IR\", \"name\": \"Iran\"}, {\"iso_3166_1\": \"FR\", \"name\": \"France\"}]',\n",
      "       '[{\"iso_3166_1\": \"IT\", \"name\": \"Italy\"}, {\"iso_3166_1\": \"DE\", \"name\": \"Germany\"}, {\"iso_3166_1\": \"FR\", \"name\": \"France\"}]',\n",
      "       '[{\"iso_3166_1\": \"SI\", \"name\": \"Slovenia\"}]',\n",
      "       '[{\"iso_3166_1\": \"FR\", \"name\": \"France\"}, {\"iso_3166_1\": \"IN\", \"name\": \"India\"}]',\n",
      "       '[{\"iso_3166_1\": \"AF\", \"name\": \"Afghanistan\"}, {\"iso_3166_1\": \"IE\", \"name\": \"Ireland\"}, {\"iso_3166_1\": \"JP\", \"name\": \"Japan\"}]',\n",
      "       '[{\"iso_3166_1\": \"CH\", \"name\": \"Switzerland\"}, {\"iso_3166_1\": \"FR\", \"name\": \"France\"}, {\"iso_3166_1\": \"US\", \"name\": \"United States of America\"}]',\n",
      "       '[{\"iso_3166_1\": \"FR\", \"name\": \"France\"}, {\"iso_3166_1\": \"AO\", \"name\": \"Angola\"}]',\n",
      "       '[{\"iso_3166_1\": \"DO\", \"name\": \"Dominican Republic\"}]',\n",
      "       '[{\"iso_3166_1\": \"DE\", \"name\": \"Germany\"}, {\"iso_3166_1\": \"IL\", \"name\": \"Israel\"}]',\n",
      "       '[{\"iso_3166_1\": \"GR\", \"name\": \"Greece\"}]',\n",
      "       '[{\"iso_3166_1\": \"CM\", \"name\": \"Cameroon\"}, {\"iso_3166_1\": \"GB\", \"name\": \"United Kingdom\"}]',\n",
      "       '[{\"iso_3166_1\": \"IN\", \"name\": \"India\"}, {\"iso_3166_1\": \"CH\", \"name\": \"Switzerland\"}, {\"iso_3166_1\": \"DE\", \"name\": \"Germany\"}]',\n",
      "       '[{\"iso_3166_1\": \"IT\", \"name\": \"Italy\"}, {\"iso_3166_1\": \"DE\", \"name\": \"Germany\"}, {\"iso_3166_1\": \"ES\", \"name\": \"Spain\"}]',\n",
      "       '[{\"iso_3166_1\": \"IR\", \"name\": \"Iran\"}]',\n",
      "       '[{\"iso_3166_1\": \"RO\", \"name\": \"Romania\"}]',\n",
      "       '[{\"iso_3166_1\": \"SE\", \"name\": \"Sweden\"}, {\"iso_3166_1\": \"US\", \"name\": \"United States of America\"}]',\n",
      "       '[{\"iso_3166_1\": \"KE\", \"name\": \"Kenya\"}]',\n",
      "       '[{\"iso_3166_1\": \"GB\", \"name\": \"United Kingdom\"}, {\"iso_3166_1\": \"FR\", \"name\": \"France\"}, {\"iso_3166_1\": \"CA\", \"name\": \"Canada\"}]',\n",
      "       '[{\"iso_3166_1\": \"US\", \"name\": \"United States of America\"}, {\"iso_3166_1\": \"CN\", \"name\": \"China\"}]'],\n",
      "      dtype=object))\n",
      "('revenue', array(['good', 'bad'], dtype=object))\n"
     ]
    }
   ],
   "source": [
    "for c in categorical_columns:\n",
    "    print(c, data[c].unique())"
   ]
  },
  {
   "cell_type": "markdown",
   "metadata": {},
   "source": [
    "<h2>Обрабатываем пропущенные значения</h2>\n",
    "Если данные содержат пропущенные значения, то имеется две простые альтернативы:\n",
    "<ul>\n",
    "    <li>удалить столбцы с такими значениями (data = data.dropna(axis = 1))</li>\n",
    "    <li>удалить строки с такими значениями (data = data.dropna(axis = 0))</li>\n",
    "</ul>\n",
    "Данных много. Можем применить этот способ. <br>"
   ]
  },
  {
   "cell_type": "code",
   "execution_count": 48,
   "metadata": {},
   "outputs": [],
   "source": [
    "data = data.drop( data[data['budget'] == 0].index)"
   ]
  },
  {
   "cell_type": "code",
   "execution_count": 49,
   "metadata": {},
   "outputs": [],
   "source": [
    "data = data.dropna(axis =0)"
   ]
  },
  {
   "cell_type": "code",
   "execution_count": null,
   "metadata": {},
   "outputs": [],
   "source": []
  },
  {
   "cell_type": "code",
   "execution_count": 50,
   "metadata": {},
   "outputs": [
    {
     "data": {
      "text/plain": [
       "budget          3764\n",
       "popularity      3764\n",
       "runtime         3764\n",
       "vote_average    3764\n",
       "vote_count      3764\n",
       "dtype: int64"
      ]
     },
     "execution_count": 50,
     "metadata": {},
     "output_type": "execute_result"
    }
   ],
   "source": [
    "data[numerical_columns].count(axis = 0)"
   ]
  },
  {
   "cell_type": "code",
   "execution_count": 51,
   "metadata": {},
   "outputs": [
    {
     "data": {
      "text/plain": [
       "original_language       3764\n",
       "production_countries    3764\n",
       "revenue                 3764\n",
       "dtype: int64"
      ]
     },
     "execution_count": 51,
     "metadata": {},
     "output_type": "execute_result"
    }
   ],
   "source": [
    "data[categorical_columns].count(axis = 0)"
   ]
  },
  {
   "cell_type": "code",
   "execution_count": 52,
   "metadata": {},
   "outputs": [
    {
     "data": {
      "text/plain": [
       "count    3.764000e+03\n",
       "mean     3.705854e+07\n",
       "std      4.265206e+07\n",
       "min      1.000000e+00\n",
       "25%      8.000000e+06\n",
       "50%      2.300000e+07\n",
       "75%      5.000000e+07\n",
       "max      3.800000e+08\n",
       "Name: budget, dtype: float64"
      ]
     },
     "execution_count": 52,
     "metadata": {},
     "output_type": "execute_result"
    }
   ],
   "source": [
    "data['budget'].describe()"
   ]
  },
  {
   "cell_type": "code",
   "execution_count": 53,
   "metadata": {},
   "outputs": [
    {
     "data": {
      "text/plain": [
       "pandas.core.series.Series"
      ]
     },
     "execution_count": 53,
     "metadata": {},
     "output_type": "execute_result"
    }
   ],
   "source": [
    "type(data['vote_average'].describe())"
   ]
  },
  {
   "cell_type": "code",
   "execution_count": 54,
   "metadata": {},
   "outputs": [
    {
     "data": {
      "text/plain": [
       "'en'"
      ]
     },
     "execution_count": 54,
     "metadata": {},
     "output_type": "execute_result"
    }
   ],
   "source": [
    "data['original_language'].describe().top"
   ]
  },
  {
   "cell_type": "code",
   "execution_count": 55,
   "metadata": {},
   "outputs": [
    {
     "data": {
      "text/html": [
       "<div>\n",
       "<style scoped>\n",
       "    .dataframe tbody tr th:only-of-type {\n",
       "        vertical-align: middle;\n",
       "    }\n",
       "\n",
       "    .dataframe tbody tr th {\n",
       "        vertical-align: top;\n",
       "    }\n",
       "\n",
       "    .dataframe thead th {\n",
       "        text-align: right;\n",
       "    }\n",
       "</style>\n",
       "<table border=\"1\" class=\"dataframe\">\n",
       "  <thead>\n",
       "    <tr style=\"text-align: right;\">\n",
       "      <th></th>\n",
       "      <th>original_language</th>\n",
       "      <th>production_countries</th>\n",
       "      <th>revenue</th>\n",
       "    </tr>\n",
       "  </thead>\n",
       "  <tbody>\n",
       "    <tr>\n",
       "      <th>count</th>\n",
       "      <td>3764</td>\n",
       "      <td>3764</td>\n",
       "      <td>3764</td>\n",
       "    </tr>\n",
       "    <tr>\n",
       "      <th>unique</th>\n",
       "      <td>30</td>\n",
       "      <td>386</td>\n",
       "      <td>2</td>\n",
       "    </tr>\n",
       "    <tr>\n",
       "      <th>top</th>\n",
       "      <td>en</td>\n",
       "      <td>[{\"iso_3166_1\": \"US\", \"name\": \"United States o...</td>\n",
       "      <td>bad</td>\n",
       "    </tr>\n",
       "    <tr>\n",
       "      <th>freq</th>\n",
       "      <td>3583</td>\n",
       "      <td>2441</td>\n",
       "      <td>2846</td>\n",
       "    </tr>\n",
       "  </tbody>\n",
       "</table>\n",
       "</div>"
      ],
      "text/plain": [
       "       original_language                               production_countries  \\\n",
       "count               3764                                               3764   \n",
       "unique                30                                                386   \n",
       "top                   en  [{\"iso_3166_1\": \"US\", \"name\": \"United States o...   \n",
       "freq                3583                                               2441   \n",
       "\n",
       "       revenue  \n",
       "count     3764  \n",
       "unique       2  \n",
       "top        bad  \n",
       "freq      2846  "
      ]
     },
     "execution_count": 55,
     "metadata": {},
     "output_type": "execute_result"
    }
   ],
   "source": [
    "data.describe(include = [object])"
   ]
  },
  {
   "cell_type": "code",
   "execution_count": 56,
   "metadata": {},
   "outputs": [],
   "source": [
    "data_describe = data.describe(include = [object])\n",
    "for c in categorical_columns:\n",
    "    data[c] = data[c].fillna(data_describe[c]['top'])"
   ]
  },
  {
   "cell_type": "code",
   "execution_count": 57,
   "metadata": {
    "scrolled": true
   },
   "outputs": [
    {
     "data": {
      "text/html": [
       "<div>\n",
       "<style scoped>\n",
       "    .dataframe tbody tr th:only-of-type {\n",
       "        vertical-align: middle;\n",
       "    }\n",
       "\n",
       "    .dataframe tbody tr th {\n",
       "        vertical-align: top;\n",
       "    }\n",
       "\n",
       "    .dataframe thead th {\n",
       "        text-align: right;\n",
       "    }\n",
       "</style>\n",
       "<table border=\"1\" class=\"dataframe\">\n",
       "  <thead>\n",
       "    <tr style=\"text-align: right;\">\n",
       "      <th></th>\n",
       "      <th>original_language</th>\n",
       "      <th>production_countries</th>\n",
       "      <th>revenue</th>\n",
       "    </tr>\n",
       "  </thead>\n",
       "  <tbody>\n",
       "    <tr>\n",
       "      <th>count</th>\n",
       "      <td>3764</td>\n",
       "      <td>3764</td>\n",
       "      <td>3764</td>\n",
       "    </tr>\n",
       "    <tr>\n",
       "      <th>unique</th>\n",
       "      <td>30</td>\n",
       "      <td>386</td>\n",
       "      <td>2</td>\n",
       "    </tr>\n",
       "    <tr>\n",
       "      <th>top</th>\n",
       "      <td>en</td>\n",
       "      <td>[{\"iso_3166_1\": \"US\", \"name\": \"United States o...</td>\n",
       "      <td>bad</td>\n",
       "    </tr>\n",
       "    <tr>\n",
       "      <th>freq</th>\n",
       "      <td>3583</td>\n",
       "      <td>2441</td>\n",
       "      <td>2846</td>\n",
       "    </tr>\n",
       "  </tbody>\n",
       "</table>\n",
       "</div>"
      ],
      "text/plain": [
       "       original_language                               production_countries  \\\n",
       "count               3764                                               3764   \n",
       "unique                30                                                386   \n",
       "top                   en  [{\"iso_3166_1\": \"US\", \"name\": \"United States o...   \n",
       "freq                3583                                               2441   \n",
       "\n",
       "       revenue  \n",
       "count     3764  \n",
       "unique       2  \n",
       "top        bad  \n",
       "freq      2846  "
      ]
     },
     "execution_count": 57,
     "metadata": {},
     "output_type": "execute_result"
    }
   ],
   "source": [
    "data.describe(include = [object])"
   ]
  },
  {
   "cell_type": "markdown",
   "metadata": {},
   "source": [
    "<h2>Векторизация</h2> <br>\n",
    "Нужно что-то сделать с категориальными (номинальными) признаками"
   ]
  },
  {
   "cell_type": "code",
   "execution_count": 133,
   "metadata": {
    "scrolled": false
   },
   "outputs": [
    {
     "name": "stdout",
     "output_type": "stream",
     "text": [
      "(['revenue'], ['original_language', 'production_countries'])\n"
     ]
    }
   ],
   "source": [
    "binary_columns    = [c for c in categorical_columns if data_describe[c]['unique'] == 2]\n",
    "nonbinary_columns = [c for c in categorical_columns if data_describe[c]['unique'] > 2]\n",
    "print(binary_columns, nonbinary_columns)"
   ]
  },
  {
   "cell_type": "code",
   "execution_count": 134,
   "metadata": {
    "scrolled": false
   },
   "outputs": [
    {
     "data": {
      "text/plain": [
       "array([0])"
      ]
     },
     "execution_count": 134,
     "metadata": {},
     "output_type": "execute_result"
    }
   ],
   "source": [
    "data['production_countries'].unique()"
   ]
  },
  {
   "cell_type": "code",
   "execution_count": 135,
   "metadata": {},
   "outputs": [],
   "source": [
    "data.at[data['production_countries'] == 'US', 'production_countries'] = 1 \n",
    "data.at[data['production_countries'] != 'US', 'production_countries'] = 0 \n",
    "data['production_countries'].describe();"
   ]
  },
  {
   "cell_type": "code",
   "execution_count": 136,
   "metadata": {},
   "outputs": [
    {
     "data": {
      "text/plain": [
       "array([0])"
      ]
     },
     "execution_count": 136,
     "metadata": {},
     "output_type": "execute_result"
    }
   ],
   "source": [
    "data['original_language'].unique()"
   ]
  },
  {
   "cell_type": "code",
   "execution_count": 137,
   "metadata": {},
   "outputs": [],
   "source": [
    "data.at[data['original_language'] == 'en', 'original_language'] = 1 \n",
    "data.at[data['original_language'] != 'en', 'original_language'] = 0 \n",
    "data['original_language'].describe();"
   ]
  },
  {
   "cell_type": "code",
   "execution_count": 138,
   "metadata": {},
   "outputs": [
    {
     "data": {
      "text/html": [
       "<div>\n",
       "<style scoped>\n",
       "    .dataframe tbody tr th:only-of-type {\n",
       "        vertical-align: middle;\n",
       "    }\n",
       "\n",
       "    .dataframe tbody tr th {\n",
       "        vertical-align: top;\n",
       "    }\n",
       "\n",
       "    .dataframe thead th {\n",
       "        text-align: right;\n",
       "    }\n",
       "</style>\n",
       "<table border=\"1\" class=\"dataframe\">\n",
       "  <thead>\n",
       "    <tr style=\"text-align: right;\">\n",
       "      <th></th>\n",
       "      <th>budget</th>\n",
       "      <th>popularity</th>\n",
       "      <th>runtime</th>\n",
       "      <th>vote_average</th>\n",
       "      <th>vote_count</th>\n",
       "      <th>original_language</th>\n",
       "      <th>production_countries</th>\n",
       "      <th>revenue</th>\n",
       "    </tr>\n",
       "  </thead>\n",
       "  <tbody>\n",
       "    <tr>\n",
       "      <th>0</th>\n",
       "      <td>4.687733</td>\n",
       "      <td>3.612975</td>\n",
       "      <td>2.538167</td>\n",
       "      <td>1.011632</td>\n",
       "      <td>8.136097</td>\n",
       "      <td>0</td>\n",
       "      <td>0</td>\n",
       "      <td>good</td>\n",
       "    </tr>\n",
       "    <tr>\n",
       "      <th>1</th>\n",
       "      <td>6.164802</td>\n",
       "      <td>3.283295</td>\n",
       "      <td>2.875461</td>\n",
       "      <td>0.699450</td>\n",
       "      <td>2.708588</td>\n",
       "      <td>0</td>\n",
       "      <td>0</td>\n",
       "      <td>bad</td>\n",
       "    </tr>\n",
       "    <tr>\n",
       "      <th>2</th>\n",
       "      <td>4.875298</td>\n",
       "      <td>2.362747</td>\n",
       "      <td>1.863579</td>\n",
       "      <td>0.075087</td>\n",
       "      <td>2.683309</td>\n",
       "      <td>0</td>\n",
       "      <td>0</td>\n",
       "      <td>bad</td>\n",
       "    </tr>\n",
       "    <tr>\n",
       "      <th>3</th>\n",
       "      <td>4.992525</td>\n",
       "      <td>2.506064</td>\n",
       "      <td>2.682721</td>\n",
       "      <td>1.427873</td>\n",
       "      <td>6.133124</td>\n",
       "      <td>0</td>\n",
       "      <td>0</td>\n",
       "      <td>good</td>\n",
       "    </tr>\n",
       "    <tr>\n",
       "      <th>4</th>\n",
       "      <td>5.226981</td>\n",
       "      <td>0.520544</td>\n",
       "      <td>1.092621</td>\n",
       "      <td>-0.133034</td>\n",
       "      <td>0.942046</td>\n",
       "      <td>0</td>\n",
       "      <td>0</td>\n",
       "      <td>bad</td>\n",
       "    </tr>\n",
       "    <tr>\n",
       "      <th>5</th>\n",
       "      <td>5.180090</td>\n",
       "      <td>2.604398</td>\n",
       "      <td>1.429915</td>\n",
       "      <td>-0.341155</td>\n",
       "      <td>2.021599</td>\n",
       "      <td>0</td>\n",
       "      <td>0</td>\n",
       "      <td>bad</td>\n",
       "    </tr>\n",
       "    <tr>\n",
       "      <th>6</th>\n",
       "      <td>5.226981</td>\n",
       "      <td>0.658600</td>\n",
       "      <td>-0.449294</td>\n",
       "      <td>1.219752</td>\n",
       "      <td>1.838700</td>\n",
       "      <td>0</td>\n",
       "      <td>0</td>\n",
       "      <td>bad</td>\n",
       "    </tr>\n",
       "    <tr>\n",
       "      <th>7</th>\n",
       "      <td>5.695891</td>\n",
       "      <td>3.143833</td>\n",
       "      <td>1.526285</td>\n",
       "      <td>1.115692</td>\n",
       "      <td>4.394090</td>\n",
       "      <td>0</td>\n",
       "      <td>0</td>\n",
       "      <td>good</td>\n",
       "    </tr>\n",
       "    <tr>\n",
       "      <th>8</th>\n",
       "      <td>4.992525</td>\n",
       "      <td>2.116215</td>\n",
       "      <td>2.104503</td>\n",
       "      <td>1.219752</td>\n",
       "      <td>3.298179</td>\n",
       "      <td>0</td>\n",
       "      <td>0</td>\n",
       "      <td>bad</td>\n",
       "    </tr>\n",
       "    <tr>\n",
       "      <th>9</th>\n",
       "      <td>4.992525</td>\n",
       "      <td>3.768390</td>\n",
       "      <td>2.008133</td>\n",
       "      <td>-0.549276</td>\n",
       "      <td>4.570298</td>\n",
       "      <td>0</td>\n",
       "      <td>0</td>\n",
       "      <td>bad</td>\n",
       "    </tr>\n",
       "    <tr>\n",
       "      <th>10</th>\n",
       "      <td>5.461436</td>\n",
       "      <td>0.926980</td>\n",
       "      <td>2.152688</td>\n",
       "      <td>-0.861457</td>\n",
       "      <td>0.403756</td>\n",
       "      <td>0</td>\n",
       "      <td>0</td>\n",
       "      <td>bad</td>\n",
       "    </tr>\n",
       "    <tr>\n",
       "      <th>11</th>\n",
       "      <td>3.820249</td>\n",
       "      <td>2.378774</td>\n",
       "      <td>-0.160185</td>\n",
       "      <td>-0.133034</td>\n",
       "      <td>1.567324</td>\n",
       "      <td>0</td>\n",
       "      <td>0</td>\n",
       "      <td>bad</td>\n",
       "    </tr>\n",
       "    <tr>\n",
       "      <th>12</th>\n",
       "      <td>3.820249</td>\n",
       "      <td>3.479703</td>\n",
       "      <td>2.008133</td>\n",
       "      <td>0.803511</td>\n",
       "      <td>3.263235</td>\n",
       "      <td>0</td>\n",
       "      <td>0</td>\n",
       "      <td>good</td>\n",
       "    </tr>\n",
       "    <tr>\n",
       "      <th>13</th>\n",
       "      <td>5.109753</td>\n",
       "      <td>0.669197</td>\n",
       "      <td>1.911764</td>\n",
       "      <td>-0.341155</td>\n",
       "      <td>1.081079</td>\n",
       "      <td>0</td>\n",
       "      <td>0</td>\n",
       "      <td>bad</td>\n",
       "    </tr>\n",
       "    <tr>\n",
       "      <th>14</th>\n",
       "      <td>4.406387</td>\n",
       "      <td>2.131091</td>\n",
       "      <td>1.622655</td>\n",
       "      <td>0.283208</td>\n",
       "      <td>4.090744</td>\n",
       "      <td>0</td>\n",
       "      <td>0</td>\n",
       "      <td>bad</td>\n",
       "    </tr>\n",
       "    <tr>\n",
       "      <th>15</th>\n",
       "      <td>4.406387</td>\n",
       "      <td>0.812383</td>\n",
       "      <td>1.959949</td>\n",
       "      <td>0.075087</td>\n",
       "      <td>0.574759</td>\n",
       "      <td>0</td>\n",
       "      <td>0</td>\n",
       "      <td>bad</td>\n",
       "    </tr>\n",
       "    <tr>\n",
       "      <th>16</th>\n",
       "      <td>4.289159</td>\n",
       "      <td>3.439092</td>\n",
       "      <td>1.622655</td>\n",
       "      <td>1.219752</td>\n",
       "      <td>8.118254</td>\n",
       "      <td>0</td>\n",
       "      <td>0</td>\n",
       "      <td>good</td>\n",
       "    </tr>\n",
       "    <tr>\n",
       "      <th>17</th>\n",
       "      <td>8.040444</td>\n",
       "      <td>3.176776</td>\n",
       "      <td>1.285361</td>\n",
       "      <td>0.179148</td>\n",
       "      <td>3.041674</td>\n",
       "      <td>0</td>\n",
       "      <td>0</td>\n",
       "      <td>bad</td>\n",
       "    </tr>\n",
       "    <tr>\n",
       "      <th>18</th>\n",
       "      <td>4.406387</td>\n",
       "      <td>0.755957</td>\n",
       "      <td>-0.160185</td>\n",
       "      <td>-0.028973</td>\n",
       "      <td>2.455800</td>\n",
       "      <td>0</td>\n",
       "      <td>0</td>\n",
       "      <td>bad</td>\n",
       "    </tr>\n",
       "    <tr>\n",
       "      <th>19</th>\n",
       "      <td>4.992525</td>\n",
       "      <td>2.757289</td>\n",
       "      <td>1.670839</td>\n",
       "      <td>0.907571</td>\n",
       "      <td>2.901897</td>\n",
       "      <td>0</td>\n",
       "      <td>0</td>\n",
       "      <td>bad</td>\n",
       "    </tr>\n",
       "    <tr>\n",
       "      <th>20</th>\n",
       "      <td>4.171932</td>\n",
       "      <td>1.854346</td>\n",
       "      <td>1.285361</td>\n",
       "      <td>0.283208</td>\n",
       "      <td>4.259518</td>\n",
       "      <td>0</td>\n",
       "      <td>0</td>\n",
       "      <td>bad</td>\n",
       "    </tr>\n",
       "    <tr>\n",
       "      <th>21</th>\n",
       "      <td>3.820249</td>\n",
       "      <td>0.338829</td>\n",
       "      <td>1.478100</td>\n",
       "      <td>-0.028973</td>\n",
       "      <td>0.402269</td>\n",
       "      <td>0</td>\n",
       "      <td>0</td>\n",
       "      <td>bad</td>\n",
       "    </tr>\n",
       "    <tr>\n",
       "      <th>22</th>\n",
       "      <td>4.992525</td>\n",
       "      <td>1.985124</td>\n",
       "      <td>2.489982</td>\n",
       "      <td>1.427873</td>\n",
       "      <td>2.726432</td>\n",
       "      <td>0</td>\n",
       "      <td>0</td>\n",
       "      <td>bad</td>\n",
       "    </tr>\n",
       "    <tr>\n",
       "      <th>23</th>\n",
       "      <td>3.351338</td>\n",
       "      <td>0.493366</td>\n",
       "      <td>0.177109</td>\n",
       "      <td>-0.445215</td>\n",
       "      <td>0.331637</td>\n",
       "      <td>0</td>\n",
       "      <td>0</td>\n",
       "      <td>bad</td>\n",
       "    </tr>\n",
       "    <tr>\n",
       "      <th>24</th>\n",
       "      <td>3.984368</td>\n",
       "      <td>1.022804</td>\n",
       "      <td>3.742788</td>\n",
       "      <td>0.387269</td>\n",
       "      <td>1.100410</td>\n",
       "      <td>0</td>\n",
       "      <td>0</td>\n",
       "      <td>bad</td>\n",
       "    </tr>\n",
       "    <tr>\n",
       "      <th>25</th>\n",
       "      <td>3.820249</td>\n",
       "      <td>2.149321</td>\n",
       "      <td>4.080082</td>\n",
       "      <td>1.323813</td>\n",
       "      <td>4.985168</td>\n",
       "      <td>0</td>\n",
       "      <td>0</td>\n",
       "      <td>good</td>\n",
       "    </tr>\n",
       "    <tr>\n",
       "      <th>26</th>\n",
       "      <td>4.992525</td>\n",
       "      <td>5.004716</td>\n",
       "      <td>1.815394</td>\n",
       "      <td>0.907571</td>\n",
       "      <td>4.746506</td>\n",
       "      <td>0</td>\n",
       "      <td>0</td>\n",
       "      <td>good</td>\n",
       "    </tr>\n",
       "    <tr>\n",
       "      <th>27</th>\n",
       "      <td>4.031259</td>\n",
       "      <td>1.130299</td>\n",
       "      <td>1.044436</td>\n",
       "      <td>-0.757397</td>\n",
       "      <td>0.934611</td>\n",
       "      <td>0</td>\n",
       "      <td>0</td>\n",
       "      <td>bad</td>\n",
       "    </tr>\n",
       "    <tr>\n",
       "      <th>28</th>\n",
       "      <td>2.647972</td>\n",
       "      <td>11.401961</td>\n",
       "      <td>0.707142</td>\n",
       "      <td>0.283208</td>\n",
       "      <td>5.803012</td>\n",
       "      <td>0</td>\n",
       "      <td>0</td>\n",
       "      <td>good</td>\n",
       "    </tr>\n",
       "    <tr>\n",
       "      <th>29</th>\n",
       "      <td>3.820249</td>\n",
       "      <td>1.945476</td>\n",
       "      <td>1.622655</td>\n",
       "      <td>0.699450</td>\n",
       "      <td>5.016395</td>\n",
       "      <td>0</td>\n",
       "      <td>0</td>\n",
       "      <td>good</td>\n",
       "    </tr>\n",
       "    <tr>\n",
       "      <th>...</th>\n",
       "      <td>...</td>\n",
       "      <td>...</td>\n",
       "      <td>...</td>\n",
       "      <td>...</td>\n",
       "      <td>...</td>\n",
       "      <td>...</td>\n",
       "      <td>...</td>\n",
       "      <td>...</td>\n",
       "    </tr>\n",
       "    <tr>\n",
       "      <th>4718</th>\n",
       "      <td>-0.866044</td>\n",
       "      <td>-0.690555</td>\n",
       "      <td>-1.027513</td>\n",
       "      <td>-0.341155</td>\n",
       "      <td>-0.619293</td>\n",
       "      <td>0</td>\n",
       "      <td>0</td>\n",
       "      <td>bad</td>\n",
       "    </tr>\n",
       "    <tr>\n",
       "      <th>4719</th>\n",
       "      <td>-0.866044</td>\n",
       "      <td>-0.722525</td>\n",
       "      <td>-0.690219</td>\n",
       "      <td>0.907571</td>\n",
       "      <td>-0.622267</td>\n",
       "      <td>0</td>\n",
       "      <td>0</td>\n",
       "      <td>bad</td>\n",
       "    </tr>\n",
       "    <tr>\n",
       "      <th>4720</th>\n",
       "      <td>-0.669570</td>\n",
       "      <td>-0.480380</td>\n",
       "      <td>0.514403</td>\n",
       "      <td>0.283208</td>\n",
       "      <td>-0.504795</td>\n",
       "      <td>0</td>\n",
       "      <td>0</td>\n",
       "      <td>bad</td>\n",
       "    </tr>\n",
       "    <tr>\n",
       "      <th>4722</th>\n",
       "      <td>-0.866512</td>\n",
       "      <td>-0.622331</td>\n",
       "      <td>0.080739</td>\n",
       "      <td>0.387269</td>\n",
       "      <td>-0.589553</td>\n",
       "      <td>0</td>\n",
       "      <td>0</td>\n",
       "      <td>good</td>\n",
       "    </tr>\n",
       "    <tr>\n",
       "      <th>4723</th>\n",
       "      <td>-0.866512</td>\n",
       "      <td>-0.230892</td>\n",
       "      <td>-1.075697</td>\n",
       "      <td>-1.381760</td>\n",
       "      <td>-0.368735</td>\n",
       "      <td>0</td>\n",
       "      <td>0</td>\n",
       "      <td>good</td>\n",
       "    </tr>\n",
       "    <tr>\n",
       "      <th>4724</th>\n",
       "      <td>-0.868623</td>\n",
       "      <td>-0.162552</td>\n",
       "      <td>-0.979328</td>\n",
       "      <td>1.323813</td>\n",
       "      <td>-0.276542</td>\n",
       "      <td>0</td>\n",
       "      <td>0</td>\n",
       "      <td>good</td>\n",
       "    </tr>\n",
       "    <tr>\n",
       "      <th>4736</th>\n",
       "      <td>-0.868855</td>\n",
       "      <td>-0.743377</td>\n",
       "      <td>-1.557546</td>\n",
       "      <td>-0.757397</td>\n",
       "      <td>-0.635650</td>\n",
       "      <td>0</td>\n",
       "      <td>0</td>\n",
       "      <td>bad</td>\n",
       "    </tr>\n",
       "    <tr>\n",
       "      <th>4738</th>\n",
       "      <td>-0.867450</td>\n",
       "      <td>0.051966</td>\n",
       "      <td>-1.220252</td>\n",
       "      <td>0.907571</td>\n",
       "      <td>-0.201449</td>\n",
       "      <td>0</td>\n",
       "      <td>0</td>\n",
       "      <td>good</td>\n",
       "    </tr>\n",
       "    <tr>\n",
       "      <th>4741</th>\n",
       "      <td>-0.867099</td>\n",
       "      <td>-0.750740</td>\n",
       "      <td>-0.931143</td>\n",
       "      <td>-3.046727</td>\n",
       "      <td>-0.634906</td>\n",
       "      <td>0</td>\n",
       "      <td>0</td>\n",
       "      <td>bad</td>\n",
       "    </tr>\n",
       "    <tr>\n",
       "      <th>4742</th>\n",
       "      <td>-0.867333</td>\n",
       "      <td>-0.452862</td>\n",
       "      <td>-0.449294</td>\n",
       "      <td>0.387269</td>\n",
       "      <td>-0.260928</td>\n",
       "      <td>0</td>\n",
       "      <td>0</td>\n",
       "      <td>good</td>\n",
       "    </tr>\n",
       "    <tr>\n",
       "      <th>4745</th>\n",
       "      <td>-0.867403</td>\n",
       "      <td>-0.684947</td>\n",
       "      <td>-1.316622</td>\n",
       "      <td>-1.902062</td>\n",
       "      <td>-0.613345</td>\n",
       "      <td>0</td>\n",
       "      <td>0</td>\n",
       "      <td>bad</td>\n",
       "    </tr>\n",
       "    <tr>\n",
       "      <th>4748</th>\n",
       "      <td>-0.867216</td>\n",
       "      <td>-0.571087</td>\n",
       "      <td>-0.834773</td>\n",
       "      <td>-0.445215</td>\n",
       "      <td>-0.547174</td>\n",
       "      <td>0</td>\n",
       "      <td>0</td>\n",
       "      <td>bad</td>\n",
       "    </tr>\n",
       "    <tr>\n",
       "      <th>4752</th>\n",
       "      <td>-0.867333</td>\n",
       "      <td>-0.685723</td>\n",
       "      <td>-0.497479</td>\n",
       "      <td>-0.653336</td>\n",
       "      <td>-0.593270</td>\n",
       "      <td>0</td>\n",
       "      <td>0</td>\n",
       "      <td>good</td>\n",
       "    </tr>\n",
       "    <tr>\n",
       "      <th>4753</th>\n",
       "      <td>-0.867450</td>\n",
       "      <td>-0.742862</td>\n",
       "      <td>-0.786588</td>\n",
       "      <td>-1.173639</td>\n",
       "      <td>-0.632676</td>\n",
       "      <td>0</td>\n",
       "      <td>0</td>\n",
       "      <td>bad</td>\n",
       "    </tr>\n",
       "    <tr>\n",
       "      <th>4755</th>\n",
       "      <td>-0.867685</td>\n",
       "      <td>-0.746309</td>\n",
       "      <td>0.080739</td>\n",
       "      <td>2.156297</td>\n",
       "      <td>-0.634906</td>\n",
       "      <td>0</td>\n",
       "      <td>0</td>\n",
       "      <td>bad</td>\n",
       "    </tr>\n",
       "    <tr>\n",
       "      <th>4756</th>\n",
       "      <td>-0.867685</td>\n",
       "      <td>-0.703236</td>\n",
       "      <td>-3.003092</td>\n",
       "      <td>0.699450</td>\n",
       "      <td>-0.606653</td>\n",
       "      <td>0</td>\n",
       "      <td>0</td>\n",
       "      <td>bad</td>\n",
       "    </tr>\n",
       "    <tr>\n",
       "      <th>4758</th>\n",
       "      <td>-0.775075</td>\n",
       "      <td>0.048326</td>\n",
       "      <td>-0.690219</td>\n",
       "      <td>-0.445215</td>\n",
       "      <td>-0.167992</td>\n",
       "      <td>0</td>\n",
       "      <td>0</td>\n",
       "      <td>bad</td>\n",
       "    </tr>\n",
       "    <tr>\n",
       "      <th>4759</th>\n",
       "      <td>-0.867685</td>\n",
       "      <td>-0.738992</td>\n",
       "      <td>-1.364807</td>\n",
       "      <td>-0.549276</td>\n",
       "      <td>-0.634906</td>\n",
       "      <td>0</td>\n",
       "      <td>0</td>\n",
       "      <td>bad</td>\n",
       "    </tr>\n",
       "    <tr>\n",
       "      <th>4767</th>\n",
       "      <td>-0.867685</td>\n",
       "      <td>-0.737535</td>\n",
       "      <td>-1.653916</td>\n",
       "      <td>-2.838606</td>\n",
       "      <td>-0.635650</td>\n",
       "      <td>0</td>\n",
       "      <td>0</td>\n",
       "      <td>bad</td>\n",
       "    </tr>\n",
       "    <tr>\n",
       "      <th>4770</th>\n",
       "      <td>-0.857134</td>\n",
       "      <td>-0.751260</td>\n",
       "      <td>-0.015631</td>\n",
       "      <td>-0.133034</td>\n",
       "      <td>-0.631189</td>\n",
       "      <td>0</td>\n",
       "      <td>0</td>\n",
       "      <td>bad</td>\n",
       "    </tr>\n",
       "    <tr>\n",
       "      <th>4772</th>\n",
       "      <td>-0.868126</td>\n",
       "      <td>-0.716207</td>\n",
       "      <td>-0.979328</td>\n",
       "      <td>0.075087</td>\n",
       "      <td>-0.617806</td>\n",
       "      <td>0</td>\n",
       "      <td>0</td>\n",
       "      <td>bad</td>\n",
       "    </tr>\n",
       "    <tr>\n",
       "      <th>4773</th>\n",
       "      <td>-0.868224</td>\n",
       "      <td>-0.181450</td>\n",
       "      <td>-0.834773</td>\n",
       "      <td>1.219752</td>\n",
       "      <td>-0.075798</td>\n",
       "      <td>0</td>\n",
       "      <td>0</td>\n",
       "      <td>good</td>\n",
       "    </tr>\n",
       "    <tr>\n",
       "      <th>4774</th>\n",
       "      <td>-0.868224</td>\n",
       "      <td>-0.754026</td>\n",
       "      <td>-2.183949</td>\n",
       "      <td>-0.237094</td>\n",
       "      <td>-0.630445</td>\n",
       "      <td>0</td>\n",
       "      <td>0</td>\n",
       "      <td>bad</td>\n",
       "    </tr>\n",
       "    <tr>\n",
       "      <th>4781</th>\n",
       "      <td>-0.868341</td>\n",
       "      <td>-0.753412</td>\n",
       "      <td>-0.931143</td>\n",
       "      <td>-0.237094</td>\n",
       "      <td>-0.636393</td>\n",
       "      <td>0</td>\n",
       "      <td>0</td>\n",
       "      <td>bad</td>\n",
       "    </tr>\n",
       "    <tr>\n",
       "      <th>4788</th>\n",
       "      <td>-0.868576</td>\n",
       "      <td>-0.622623</td>\n",
       "      <td>-0.786588</td>\n",
       "      <td>-0.028973</td>\n",
       "      <td>-0.555352</td>\n",
       "      <td>0</td>\n",
       "      <td>0</td>\n",
       "      <td>good</td>\n",
       "    </tr>\n",
       "    <tr>\n",
       "      <th>4791</th>\n",
       "      <td>-0.868857</td>\n",
       "      <td>-0.745174</td>\n",
       "      <td>-1.220252</td>\n",
       "      <td>-4.399513</td>\n",
       "      <td>-0.636393</td>\n",
       "      <td>0</td>\n",
       "      <td>0</td>\n",
       "      <td>bad</td>\n",
       "    </tr>\n",
       "    <tr>\n",
       "      <th>4792</th>\n",
       "      <td>-0.868388</td>\n",
       "      <td>-0.748665</td>\n",
       "      <td>0.080739</td>\n",
       "      <td>1.219752</td>\n",
       "      <td>-0.590296</td>\n",
       "      <td>0</td>\n",
       "      <td>0</td>\n",
       "      <td>good</td>\n",
       "    </tr>\n",
       "    <tr>\n",
       "      <th>4796</th>\n",
       "      <td>-0.868693</td>\n",
       "      <td>-0.078110</td>\n",
       "      <td>-1.557546</td>\n",
       "      <td>0.699450</td>\n",
       "      <td>-0.147917</td>\n",
       "      <td>0</td>\n",
       "      <td>0</td>\n",
       "      <td>good</td>\n",
       "    </tr>\n",
       "    <tr>\n",
       "      <th>4798</th>\n",
       "      <td>-0.863699</td>\n",
       "      <td>-0.340524</td>\n",
       "      <td>-1.364807</td>\n",
       "      <td>0.387269</td>\n",
       "      <td>-0.460185</td>\n",
       "      <td>0</td>\n",
       "      <td>0</td>\n",
       "      <td>good</td>\n",
       "    </tr>\n",
       "    <tr>\n",
       "      <th>4799</th>\n",
       "      <td>-0.868646</td>\n",
       "      <td>-0.736178</td>\n",
       "      <td>-1.172067</td>\n",
       "      <td>-0.341155</td>\n",
       "      <td>-0.633419</td>\n",
       "      <td>0</td>\n",
       "      <td>0</td>\n",
       "      <td>bad</td>\n",
       "    </tr>\n",
       "  </tbody>\n",
       "</table>\n",
       "<p>3764 rows × 8 columns</p>\n",
       "</div>"
      ],
      "text/plain": [
       "        budget  popularity   runtime  vote_average  vote_count  \\\n",
       "0     4.687733    3.612975  2.538167      1.011632    8.136097   \n",
       "1     6.164802    3.283295  2.875461      0.699450    2.708588   \n",
       "2     4.875298    2.362747  1.863579      0.075087    2.683309   \n",
       "3     4.992525    2.506064  2.682721      1.427873    6.133124   \n",
       "4     5.226981    0.520544  1.092621     -0.133034    0.942046   \n",
       "5     5.180090    2.604398  1.429915     -0.341155    2.021599   \n",
       "6     5.226981    0.658600 -0.449294      1.219752    1.838700   \n",
       "7     5.695891    3.143833  1.526285      1.115692    4.394090   \n",
       "8     4.992525    2.116215  2.104503      1.219752    3.298179   \n",
       "9     4.992525    3.768390  2.008133     -0.549276    4.570298   \n",
       "10    5.461436    0.926980  2.152688     -0.861457    0.403756   \n",
       "11    3.820249    2.378774 -0.160185     -0.133034    1.567324   \n",
       "12    3.820249    3.479703  2.008133      0.803511    3.263235   \n",
       "13    5.109753    0.669197  1.911764     -0.341155    1.081079   \n",
       "14    4.406387    2.131091  1.622655      0.283208    4.090744   \n",
       "15    4.406387    0.812383  1.959949      0.075087    0.574759   \n",
       "16    4.289159    3.439092  1.622655      1.219752    8.118254   \n",
       "17    8.040444    3.176776  1.285361      0.179148    3.041674   \n",
       "18    4.406387    0.755957 -0.160185     -0.028973    2.455800   \n",
       "19    4.992525    2.757289  1.670839      0.907571    2.901897   \n",
       "20    4.171932    1.854346  1.285361      0.283208    4.259518   \n",
       "21    3.820249    0.338829  1.478100     -0.028973    0.402269   \n",
       "22    4.992525    1.985124  2.489982      1.427873    2.726432   \n",
       "23    3.351338    0.493366  0.177109     -0.445215    0.331637   \n",
       "24    3.984368    1.022804  3.742788      0.387269    1.100410   \n",
       "25    3.820249    2.149321  4.080082      1.323813    4.985168   \n",
       "26    4.992525    5.004716  1.815394      0.907571    4.746506   \n",
       "27    4.031259    1.130299  1.044436     -0.757397    0.934611   \n",
       "28    2.647972   11.401961  0.707142      0.283208    5.803012   \n",
       "29    3.820249    1.945476  1.622655      0.699450    5.016395   \n",
       "...        ...         ...       ...           ...         ...   \n",
       "4718 -0.866044   -0.690555 -1.027513     -0.341155   -0.619293   \n",
       "4719 -0.866044   -0.722525 -0.690219      0.907571   -0.622267   \n",
       "4720 -0.669570   -0.480380  0.514403      0.283208   -0.504795   \n",
       "4722 -0.866512   -0.622331  0.080739      0.387269   -0.589553   \n",
       "4723 -0.866512   -0.230892 -1.075697     -1.381760   -0.368735   \n",
       "4724 -0.868623   -0.162552 -0.979328      1.323813   -0.276542   \n",
       "4736 -0.868855   -0.743377 -1.557546     -0.757397   -0.635650   \n",
       "4738 -0.867450    0.051966 -1.220252      0.907571   -0.201449   \n",
       "4741 -0.867099   -0.750740 -0.931143     -3.046727   -0.634906   \n",
       "4742 -0.867333   -0.452862 -0.449294      0.387269   -0.260928   \n",
       "4745 -0.867403   -0.684947 -1.316622     -1.902062   -0.613345   \n",
       "4748 -0.867216   -0.571087 -0.834773     -0.445215   -0.547174   \n",
       "4752 -0.867333   -0.685723 -0.497479     -0.653336   -0.593270   \n",
       "4753 -0.867450   -0.742862 -0.786588     -1.173639   -0.632676   \n",
       "4755 -0.867685   -0.746309  0.080739      2.156297   -0.634906   \n",
       "4756 -0.867685   -0.703236 -3.003092      0.699450   -0.606653   \n",
       "4758 -0.775075    0.048326 -0.690219     -0.445215   -0.167992   \n",
       "4759 -0.867685   -0.738992 -1.364807     -0.549276   -0.634906   \n",
       "4767 -0.867685   -0.737535 -1.653916     -2.838606   -0.635650   \n",
       "4770 -0.857134   -0.751260 -0.015631     -0.133034   -0.631189   \n",
       "4772 -0.868126   -0.716207 -0.979328      0.075087   -0.617806   \n",
       "4773 -0.868224   -0.181450 -0.834773      1.219752   -0.075798   \n",
       "4774 -0.868224   -0.754026 -2.183949     -0.237094   -0.630445   \n",
       "4781 -0.868341   -0.753412 -0.931143     -0.237094   -0.636393   \n",
       "4788 -0.868576   -0.622623 -0.786588     -0.028973   -0.555352   \n",
       "4791 -0.868857   -0.745174 -1.220252     -4.399513   -0.636393   \n",
       "4792 -0.868388   -0.748665  0.080739      1.219752   -0.590296   \n",
       "4796 -0.868693   -0.078110 -1.557546      0.699450   -0.147917   \n",
       "4798 -0.863699   -0.340524 -1.364807      0.387269   -0.460185   \n",
       "4799 -0.868646   -0.736178 -1.172067     -0.341155   -0.633419   \n",
       "\n",
       "      original_language  production_countries revenue  \n",
       "0                     0                     0    good  \n",
       "1                     0                     0     bad  \n",
       "2                     0                     0     bad  \n",
       "3                     0                     0    good  \n",
       "4                     0                     0     bad  \n",
       "5                     0                     0     bad  \n",
       "6                     0                     0     bad  \n",
       "7                     0                     0    good  \n",
       "8                     0                     0     bad  \n",
       "9                     0                     0     bad  \n",
       "10                    0                     0     bad  \n",
       "11                    0                     0     bad  \n",
       "12                    0                     0    good  \n",
       "13                    0                     0     bad  \n",
       "14                    0                     0     bad  \n",
       "15                    0                     0     bad  \n",
       "16                    0                     0    good  \n",
       "17                    0                     0     bad  \n",
       "18                    0                     0     bad  \n",
       "19                    0                     0     bad  \n",
       "20                    0                     0     bad  \n",
       "21                    0                     0     bad  \n",
       "22                    0                     0     bad  \n",
       "23                    0                     0     bad  \n",
       "24                    0                     0     bad  \n",
       "25                    0                     0    good  \n",
       "26                    0                     0    good  \n",
       "27                    0                     0     bad  \n",
       "28                    0                     0    good  \n",
       "29                    0                     0    good  \n",
       "...                 ...                   ...     ...  \n",
       "4718                  0                     0     bad  \n",
       "4719                  0                     0     bad  \n",
       "4720                  0                     0     bad  \n",
       "4722                  0                     0    good  \n",
       "4723                  0                     0    good  \n",
       "4724                  0                     0    good  \n",
       "4736                  0                     0     bad  \n",
       "4738                  0                     0    good  \n",
       "4741                  0                     0     bad  \n",
       "4742                  0                     0    good  \n",
       "4745                  0                     0     bad  \n",
       "4748                  0                     0     bad  \n",
       "4752                  0                     0    good  \n",
       "4753                  0                     0     bad  \n",
       "4755                  0                     0     bad  \n",
       "4756                  0                     0     bad  \n",
       "4758                  0                     0     bad  \n",
       "4759                  0                     0     bad  \n",
       "4767                  0                     0     bad  \n",
       "4770                  0                     0     bad  \n",
       "4772                  0                     0     bad  \n",
       "4773                  0                     0    good  \n",
       "4774                  0                     0     bad  \n",
       "4781                  0                     0     bad  \n",
       "4788                  0                     0    good  \n",
       "4791                  0                     0     bad  \n",
       "4792                  0                     0    good  \n",
       "4796                  0                     0    good  \n",
       "4798                  0                     0    good  \n",
       "4799                  0                     0     bad  \n",
       "\n",
       "[3764 rows x 8 columns]"
      ]
     },
     "execution_count": 138,
     "metadata": {},
     "output_type": "execute_result"
    }
   ],
   "source": [
    "data"
   ]
  },
  {
   "cell_type": "code",
   "execution_count": 139,
   "metadata": {
    "scrolled": true
   },
   "outputs": [
    {
     "data": {
      "text/plain": [
       "count    3.764000e+03\n",
       "mean    -1.989258e-15\n",
       "std      1.000000e+00\n",
       "min     -8.688569e-01\n",
       "25%     -6.812927e-01\n",
       "50%     -3.296098e-01\n",
       "75%      3.034195e-01\n",
       "max      8.040444e+00\n",
       "Name: budget, dtype: float64"
      ]
     },
     "execution_count": 139,
     "metadata": {},
     "output_type": "execute_result"
    }
   ],
   "source": [
    "data.at[data['budget'] == 'bad', 'budget'] = 0\n",
    "data.at[data['budget'] == 'good', 'budget'] = 1\n",
    "data['budget'].describe()"
   ]
  },
  {
   "cell_type": "code",
   "execution_count": 65,
   "metadata": {},
   "outputs": [
    {
     "name": "stdout",
     "output_type": "stream",
     "text": [
      "Index([u'budget', u'original_language', u'popularity', u'production_countries',\n",
      "       u'revenue', u'runtime', u'vote_average', u'vote_count'],\n",
      "      dtype='object')\n"
     ]
    }
   ],
   "source": [
    "print(data.columns)"
   ]
  },
  {
   "cell_type": "markdown",
   "metadata": {},
   "source": [
    "К небинарными признакам применим метод векторизации, который заключается в следующем. <br>\n",
    "Признак j, принимающий s значений, заменим на s признаков, принимащих значения 0 или 1, в зависимости от того, чему равно значение исходного признака j."
   ]
  },
  {
   "cell_type": "code",
   "execution_count": 66,
   "metadata": {},
   "outputs": [
    {
     "data": {
      "text/plain": [
       "array([ 7.2,  6.9,  6.3,  7.6,  6.1,  5.9,  7.4,  7.3,  5.7,  5.4,  7. ,\n",
       "        6.5,  6.4,  6.2,  7.1,  5.8,  6.6,  7.5,  5.5,  6.7,  6.8,  6. ,\n",
       "        5.1,  7.8,  5.6,  5.2,  8.2,  7.7,  5.3,  8. ,  4.8,  4.9,  7.9,\n",
       "        8.1,  4.7,  5. ,  4.2,  4.4,  4.1,  3.7,  3.6,  3. ,  3.9,  4.3,\n",
       "        4.5,  4.6,  8.3,  3.5,  4. ,  2.3,  3.2,  3.8,  2.9,  8.5,  3.1,\n",
       "        3.3,  3.4,  8.4,  0. ,  2.8, 10. ,  2. ])"
      ]
     },
     "execution_count": 66,
     "metadata": {},
     "output_type": "execute_result"
    }
   ],
   "source": [
    "data['vote_average'].unique()"
   ]
  },
  {
   "cell_type": "markdown",
   "metadata": {},
   "source": []
  },
  {
   "cell_type": "code",
   "execution_count": 67,
   "metadata": {},
   "outputs": [
    {
     "name": "stdout",
     "output_type": "stream",
     "text": [
      "Index([u'original_language', u'production_countries'], dtype='object')\n"
     ]
    }
   ],
   "source": [
    "data_nonbinary = pd.get_dummies(data[nonbinary_columns])\n",
    "print(data_nonbinary.columns)"
   ]
  },
  {
   "cell_type": "markdown",
   "metadata": {},
   "source": [
    "<h2>Нормализация количественных признаков</h2> <br>\n",
    "Многие алгоритмы машинного обучения чувствительны к масштабированию данных. К таким алгоритмам, например, относится метод ближайших соседей, машина опорных векторов и др.<br>\n",
    "В этом случае количественные признаки полезно нормализовать. Это можно делать разными способами. Например, каждый количественный признак приведем к нулевому среднему и единичному среднеквадратичному отклонению:"
   ]
  },
  {
   "cell_type": "code",
   "execution_count": 140,
   "metadata": {},
   "outputs": [
    {
     "data": {
      "text/html": [
       "<div>\n",
       "<style scoped>\n",
       "    .dataframe tbody tr th:only-of-type {\n",
       "        vertical-align: middle;\n",
       "    }\n",
       "\n",
       "    .dataframe tbody tr th {\n",
       "        vertical-align: top;\n",
       "    }\n",
       "\n",
       "    .dataframe thead th {\n",
       "        text-align: right;\n",
       "    }\n",
       "</style>\n",
       "<table border=\"1\" class=\"dataframe\">\n",
       "  <thead>\n",
       "    <tr style=\"text-align: right;\">\n",
       "      <th></th>\n",
       "      <th>budget</th>\n",
       "      <th>popularity</th>\n",
       "      <th>runtime</th>\n",
       "      <th>vote_average</th>\n",
       "      <th>vote_count</th>\n",
       "    </tr>\n",
       "  </thead>\n",
       "  <tbody>\n",
       "    <tr>\n",
       "      <th>count</th>\n",
       "      <td>3.764000e+03</td>\n",
       "      <td>3.764000e+03</td>\n",
       "      <td>3.764000e+03</td>\n",
       "      <td>3.764000e+03</td>\n",
       "      <td>3.764000e+03</td>\n",
       "    </tr>\n",
       "    <tr>\n",
       "      <th>mean</th>\n",
       "      <td>-1.989258e-15</td>\n",
       "      <td>-1.670998e-15</td>\n",
       "      <td>4.388390e-16</td>\n",
       "      <td>-4.096676e-16</td>\n",
       "      <td>2.200684e-16</td>\n",
       "    </tr>\n",
       "    <tr>\n",
       "      <th>std</th>\n",
       "      <td>1.000000e+00</td>\n",
       "      <td>1.000000e+00</td>\n",
       "      <td>1.000000e+00</td>\n",
       "      <td>1.000000e+00</td>\n",
       "      <td>1.000000e+00</td>\n",
       "    </tr>\n",
       "    <tr>\n",
       "      <th>min</th>\n",
       "      <td>-8.688569e-01</td>\n",
       "      <td>-7.547874e-01</td>\n",
       "      <td>-5.267780e+00</td>\n",
       "      <td>-6.480723e+00</td>\n",
       "      <td>-6.371366e-01</td>\n",
       "    </tr>\n",
       "    <tr>\n",
       "      <th>25%</th>\n",
       "      <td>-6.812927e-01</td>\n",
       "      <td>-5.231131e-01</td>\n",
       "      <td>-6.902186e-01</td>\n",
       "      <td>-5.492757e-01</td>\n",
       "      <td>-5.523782e-01</td>\n",
       "    </tr>\n",
       "    <tr>\n",
       "      <th>50%</th>\n",
       "      <td>-3.296098e-01</td>\n",
       "      <td>-2.435725e-01</td>\n",
       "      <td>-1.842776e-01</td>\n",
       "      <td>7.508721e-02</td>\n",
       "      <td>-3.650176e-01</td>\n",
       "    </tr>\n",
       "    <tr>\n",
       "      <th>75%</th>\n",
       "      <td>3.034195e-01</td>\n",
       "      <td>2.302805e-01</td>\n",
       "      <td>5.144028e-01</td>\n",
       "      <td>6.994501e-01</td>\n",
       "      <td>8.442474e-02</td>\n",
       "    </tr>\n",
       "    <tr>\n",
       "      <th>max</th>\n",
       "      <td>8.040444e+00</td>\n",
       "      <td>2.466682e+01</td>\n",
       "      <td>1.101870e+01</td>\n",
       "      <td>3.925325e+00</td>\n",
       "      <td>9.587399e+00</td>\n",
       "    </tr>\n",
       "  </tbody>\n",
       "</table>\n",
       "</div>"
      ],
      "text/plain": [
       "             budget    popularity       runtime  vote_average    vote_count\n",
       "count  3.764000e+03  3.764000e+03  3.764000e+03  3.764000e+03  3.764000e+03\n",
       "mean  -1.989258e-15 -1.670998e-15  4.388390e-16 -4.096676e-16  2.200684e-16\n",
       "std    1.000000e+00  1.000000e+00  1.000000e+00  1.000000e+00  1.000000e+00\n",
       "min   -8.688569e-01 -7.547874e-01 -5.267780e+00 -6.480723e+00 -6.371366e-01\n",
       "25%   -6.812927e-01 -5.231131e-01 -6.902186e-01 -5.492757e-01 -5.523782e-01\n",
       "50%   -3.296098e-01 -2.435725e-01 -1.842776e-01  7.508721e-02 -3.650176e-01\n",
       "75%    3.034195e-01  2.302805e-01  5.144028e-01  6.994501e-01  8.442474e-02\n",
       "max    8.040444e+00  2.466682e+01  1.101870e+01  3.925325e+00  9.587399e+00"
      ]
     },
     "execution_count": 140,
     "metadata": {},
     "output_type": "execute_result"
    }
   ],
   "source": [
    "data_numerical = data[numerical_columns]\n",
    "data_numerical.describe()"
   ]
  },
  {
   "cell_type": "code",
   "execution_count": 141,
   "metadata": {},
   "outputs": [],
   "source": [
    "data_numerical = (data_numerical - data_numerical.mean(axis = 0))/data_numerical.std(axis = 0)\n"
   ]
  },
  {
   "cell_type": "code",
   "execution_count": 142,
   "metadata": {
    "scrolled": true
   },
   "outputs": [
    {
     "data": {
      "text/html": [
       "<div>\n",
       "<style scoped>\n",
       "    .dataframe tbody tr th:only-of-type {\n",
       "        vertical-align: middle;\n",
       "    }\n",
       "\n",
       "    .dataframe tbody tr th {\n",
       "        vertical-align: top;\n",
       "    }\n",
       "\n",
       "    .dataframe thead th {\n",
       "        text-align: right;\n",
       "    }\n",
       "</style>\n",
       "<table border=\"1\" class=\"dataframe\">\n",
       "  <thead>\n",
       "    <tr style=\"text-align: right;\">\n",
       "      <th></th>\n",
       "      <th>budget</th>\n",
       "      <th>popularity</th>\n",
       "      <th>runtime</th>\n",
       "      <th>vote_average</th>\n",
       "      <th>vote_count</th>\n",
       "    </tr>\n",
       "  </thead>\n",
       "  <tbody>\n",
       "    <tr>\n",
       "      <th>count</th>\n",
       "      <td>3.764000e+03</td>\n",
       "      <td>3.764000e+03</td>\n",
       "      <td>3.764000e+03</td>\n",
       "      <td>3.764000e+03</td>\n",
       "      <td>3.764000e+03</td>\n",
       "    </tr>\n",
       "    <tr>\n",
       "      <th>mean</th>\n",
       "      <td>3.848911e-16</td>\n",
       "      <td>1.861187e-17</td>\n",
       "      <td>-4.067475e-16</td>\n",
       "      <td>4.046385e-16</td>\n",
       "      <td>-6.963965e-17</td>\n",
       "    </tr>\n",
       "    <tr>\n",
       "      <th>std</th>\n",
       "      <td>1.000000e+00</td>\n",
       "      <td>1.000000e+00</td>\n",
       "      <td>1.000000e+00</td>\n",
       "      <td>1.000000e+00</td>\n",
       "      <td>1.000000e+00</td>\n",
       "    </tr>\n",
       "    <tr>\n",
       "      <th>min</th>\n",
       "      <td>-8.688569e-01</td>\n",
       "      <td>-7.547874e-01</td>\n",
       "      <td>-5.267780e+00</td>\n",
       "      <td>-6.480723e+00</td>\n",
       "      <td>-6.371366e-01</td>\n",
       "    </tr>\n",
       "    <tr>\n",
       "      <th>25%</th>\n",
       "      <td>-6.812927e-01</td>\n",
       "      <td>-5.231131e-01</td>\n",
       "      <td>-6.902186e-01</td>\n",
       "      <td>-5.492757e-01</td>\n",
       "      <td>-5.523782e-01</td>\n",
       "    </tr>\n",
       "    <tr>\n",
       "      <th>50%</th>\n",
       "      <td>-3.296098e-01</td>\n",
       "      <td>-2.435725e-01</td>\n",
       "      <td>-1.842776e-01</td>\n",
       "      <td>7.508721e-02</td>\n",
       "      <td>-3.650176e-01</td>\n",
       "    </tr>\n",
       "    <tr>\n",
       "      <th>75%</th>\n",
       "      <td>3.034195e-01</td>\n",
       "      <td>2.302805e-01</td>\n",
       "      <td>5.144028e-01</td>\n",
       "      <td>6.994501e-01</td>\n",
       "      <td>8.442474e-02</td>\n",
       "    </tr>\n",
       "    <tr>\n",
       "      <th>max</th>\n",
       "      <td>8.040444e+00</td>\n",
       "      <td>2.466682e+01</td>\n",
       "      <td>1.101870e+01</td>\n",
       "      <td>3.925325e+00</td>\n",
       "      <td>9.587399e+00</td>\n",
       "    </tr>\n",
       "  </tbody>\n",
       "</table>\n",
       "</div>"
      ],
      "text/plain": [
       "             budget    popularity       runtime  vote_average    vote_count\n",
       "count  3.764000e+03  3.764000e+03  3.764000e+03  3.764000e+03  3.764000e+03\n",
       "mean   3.848911e-16  1.861187e-17 -4.067475e-16  4.046385e-16 -6.963965e-17\n",
       "std    1.000000e+00  1.000000e+00  1.000000e+00  1.000000e+00  1.000000e+00\n",
       "min   -8.688569e-01 -7.547874e-01 -5.267780e+00 -6.480723e+00 -6.371366e-01\n",
       "25%   -6.812927e-01 -5.231131e-01 -6.902186e-01 -5.492757e-01 -5.523782e-01\n",
       "50%   -3.296098e-01 -2.435725e-01 -1.842776e-01  7.508721e-02 -3.650176e-01\n",
       "75%    3.034195e-01  2.302805e-01  5.144028e-01  6.994501e-01  8.442474e-02\n",
       "max    8.040444e+00  2.466682e+01  1.101870e+01  3.925325e+00  9.587399e+00"
      ]
     },
     "execution_count": 142,
     "metadata": {},
     "output_type": "execute_result"
    }
   ],
   "source": [
    "data_numerical.describe()"
   ]
  },
  {
   "cell_type": "markdown",
   "metadata": {},
   "source": [
    "<h2>Соединяем все в одну таблицу</h2>"
   ]
  },
  {
   "cell_type": "code",
   "execution_count": 143,
   "metadata": {
    "scrolled": true
   },
   "outputs": [
    {
     "name": "stdout",
     "output_type": "stream",
     "text": [
      "(3764, 8)\n",
      "Index([u'budget', u'popularity', u'runtime', u'vote_average', u'vote_count',\n",
      "       u'original_language', u'production_countries', u'revenue'],\n",
      "      dtype='object')\n"
     ]
    }
   ],
   "source": [
    "data = pd.concat((data_numerical, data_nonbinary, data[binary_columns]), axis = 1)\n",
    "print(data.shape)\n",
    "print(data.columns)"
   ]
  },
  {
   "cell_type": "code",
   "execution_count": 144,
   "metadata": {},
   "outputs": [
    {
     "data": {
      "text/html": [
       "<div>\n",
       "<style scoped>\n",
       "    .dataframe tbody tr th:only-of-type {\n",
       "        vertical-align: middle;\n",
       "    }\n",
       "\n",
       "    .dataframe tbody tr th {\n",
       "        vertical-align: top;\n",
       "    }\n",
       "\n",
       "    .dataframe thead th {\n",
       "        text-align: right;\n",
       "    }\n",
       "</style>\n",
       "<table border=\"1\" class=\"dataframe\">\n",
       "  <thead>\n",
       "    <tr style=\"text-align: right;\">\n",
       "      <th></th>\n",
       "      <th>budget</th>\n",
       "      <th>popularity</th>\n",
       "      <th>runtime</th>\n",
       "      <th>vote_average</th>\n",
       "      <th>vote_count</th>\n",
       "      <th>original_language</th>\n",
       "      <th>production_countries</th>\n",
       "    </tr>\n",
       "  </thead>\n",
       "  <tbody>\n",
       "    <tr>\n",
       "      <th>count</th>\n",
       "      <td>3.764000e+03</td>\n",
       "      <td>3.764000e+03</td>\n",
       "      <td>3.764000e+03</td>\n",
       "      <td>3.764000e+03</td>\n",
       "      <td>3.764000e+03</td>\n",
       "      <td>3764.0</td>\n",
       "      <td>3764.0</td>\n",
       "    </tr>\n",
       "    <tr>\n",
       "      <th>mean</th>\n",
       "      <td>3.848911e-16</td>\n",
       "      <td>1.861187e-17</td>\n",
       "      <td>-4.067475e-16</td>\n",
       "      <td>4.046385e-16</td>\n",
       "      <td>-6.963965e-17</td>\n",
       "      <td>0.0</td>\n",
       "      <td>0.0</td>\n",
       "    </tr>\n",
       "    <tr>\n",
       "      <th>std</th>\n",
       "      <td>1.000000e+00</td>\n",
       "      <td>1.000000e+00</td>\n",
       "      <td>1.000000e+00</td>\n",
       "      <td>1.000000e+00</td>\n",
       "      <td>1.000000e+00</td>\n",
       "      <td>0.0</td>\n",
       "      <td>0.0</td>\n",
       "    </tr>\n",
       "    <tr>\n",
       "      <th>min</th>\n",
       "      <td>-8.688569e-01</td>\n",
       "      <td>-7.547874e-01</td>\n",
       "      <td>-5.267780e+00</td>\n",
       "      <td>-6.480723e+00</td>\n",
       "      <td>-6.371366e-01</td>\n",
       "      <td>0.0</td>\n",
       "      <td>0.0</td>\n",
       "    </tr>\n",
       "    <tr>\n",
       "      <th>25%</th>\n",
       "      <td>-6.812927e-01</td>\n",
       "      <td>-5.231131e-01</td>\n",
       "      <td>-6.902186e-01</td>\n",
       "      <td>-5.492757e-01</td>\n",
       "      <td>-5.523782e-01</td>\n",
       "      <td>0.0</td>\n",
       "      <td>0.0</td>\n",
       "    </tr>\n",
       "    <tr>\n",
       "      <th>50%</th>\n",
       "      <td>-3.296098e-01</td>\n",
       "      <td>-2.435725e-01</td>\n",
       "      <td>-1.842776e-01</td>\n",
       "      <td>7.508721e-02</td>\n",
       "      <td>-3.650176e-01</td>\n",
       "      <td>0.0</td>\n",
       "      <td>0.0</td>\n",
       "    </tr>\n",
       "    <tr>\n",
       "      <th>75%</th>\n",
       "      <td>3.034195e-01</td>\n",
       "      <td>2.302805e-01</td>\n",
       "      <td>5.144028e-01</td>\n",
       "      <td>6.994501e-01</td>\n",
       "      <td>8.442474e-02</td>\n",
       "      <td>0.0</td>\n",
       "      <td>0.0</td>\n",
       "    </tr>\n",
       "    <tr>\n",
       "      <th>max</th>\n",
       "      <td>8.040444e+00</td>\n",
       "      <td>2.466682e+01</td>\n",
       "      <td>1.101870e+01</td>\n",
       "      <td>3.925325e+00</td>\n",
       "      <td>9.587399e+00</td>\n",
       "      <td>0.0</td>\n",
       "      <td>0.0</td>\n",
       "    </tr>\n",
       "  </tbody>\n",
       "</table>\n",
       "</div>"
      ],
      "text/plain": [
       "             budget    popularity       runtime  vote_average    vote_count  \\\n",
       "count  3.764000e+03  3.764000e+03  3.764000e+03  3.764000e+03  3.764000e+03   \n",
       "mean   3.848911e-16  1.861187e-17 -4.067475e-16  4.046385e-16 -6.963965e-17   \n",
       "std    1.000000e+00  1.000000e+00  1.000000e+00  1.000000e+00  1.000000e+00   \n",
       "min   -8.688569e-01 -7.547874e-01 -5.267780e+00 -6.480723e+00 -6.371366e-01   \n",
       "25%   -6.812927e-01 -5.231131e-01 -6.902186e-01 -5.492757e-01 -5.523782e-01   \n",
       "50%   -3.296098e-01 -2.435725e-01 -1.842776e-01  7.508721e-02 -3.650176e-01   \n",
       "75%    3.034195e-01  2.302805e-01  5.144028e-01  6.994501e-01  8.442474e-02   \n",
       "max    8.040444e+00  2.466682e+01  1.101870e+01  3.925325e+00  9.587399e+00   \n",
       "\n",
       "       original_language  production_countries  \n",
       "count             3764.0                3764.0  \n",
       "mean                 0.0                   0.0  \n",
       "std                  0.0                   0.0  \n",
       "min                  0.0                   0.0  \n",
       "25%                  0.0                   0.0  \n",
       "50%                  0.0                   0.0  \n",
       "75%                  0.0                   0.0  \n",
       "max                  0.0                   0.0  "
      ]
     },
     "execution_count": 144,
     "metadata": {},
     "output_type": "execute_result"
    }
   ],
   "source": [
    "data.describe()"
   ]
  },
  {
   "cell_type": "markdown",
   "metadata": {},
   "source": [
    "<h2>X и Y</h2>"
   ]
  },
  {
   "cell_type": "code",
   "execution_count": 145,
   "metadata": {},
   "outputs": [
    {
     "data": {
      "text/plain": [
       "0       good\n",
       "1        bad\n",
       "2        bad\n",
       "3       good\n",
       "4        bad\n",
       "5        bad\n",
       "6        bad\n",
       "7       good\n",
       "8        bad\n",
       "9        bad\n",
       "10       bad\n",
       "11       bad\n",
       "12      good\n",
       "13       bad\n",
       "14       bad\n",
       "15       bad\n",
       "16      good\n",
       "17       bad\n",
       "18       bad\n",
       "19       bad\n",
       "20       bad\n",
       "21       bad\n",
       "22       bad\n",
       "23       bad\n",
       "24       bad\n",
       "25      good\n",
       "26      good\n",
       "27       bad\n",
       "28      good\n",
       "29      good\n",
       "        ... \n",
       "4718     bad\n",
       "4719     bad\n",
       "4720     bad\n",
       "4722    good\n",
       "4723    good\n",
       "4724    good\n",
       "4736     bad\n",
       "4738    good\n",
       "4741     bad\n",
       "4742    good\n",
       "4745     bad\n",
       "4748     bad\n",
       "4752    good\n",
       "4753     bad\n",
       "4755     bad\n",
       "4756     bad\n",
       "4758     bad\n",
       "4759     bad\n",
       "4767     bad\n",
       "4770     bad\n",
       "4772     bad\n",
       "4773    good\n",
       "4774     bad\n",
       "4781     bad\n",
       "4788    good\n",
       "4791     bad\n",
       "4792    good\n",
       "4796    good\n",
       "4798    good\n",
       "4799     bad\n",
       "Name: revenue, Length: 3764, dtype: object"
      ]
     },
     "execution_count": 145,
     "metadata": {},
     "output_type": "execute_result"
    }
   ],
   "source": [
    "X = data.drop(('revenue'), axis = 1) # выбрасываем столбец 'revenue'\n",
    "y = data['revenue']\n",
    "feature_names = X.columns\n",
    "data['revenue']"
   ]
  },
  {
   "cell_type": "code",
   "execution_count": 146,
   "metadata": {},
   "outputs": [
    {
     "data": {
      "text/plain": [
       "pandas.core.indexes.base.Index"
      ]
     },
     "execution_count": 146,
     "metadata": {},
     "output_type": "execute_result"
    }
   ],
   "source": [
    "type(feature_names)"
   ]
  },
  {
   "cell_type": "code",
   "execution_count": 147,
   "metadata": {},
   "outputs": [
    {
     "data": {
      "text/plain": [
       "Index([u'budget', u'popularity', u'runtime', u'vote_average', u'vote_count',\n",
       "       u'original_language', u'production_countries'],\n",
       "      dtype='object')"
      ]
     },
     "execution_count": 147,
     "metadata": {},
     "output_type": "execute_result"
    }
   ],
   "source": [
    "feature_names"
   ]
  },
  {
   "cell_type": "code",
   "execution_count": 148,
   "metadata": {},
   "outputs": [
    {
     "name": "stdout",
     "output_type": "stream",
     "text": [
      "(3764, 7)\n",
      "(3764,)\n"
     ]
    }
   ],
   "source": [
    "print(X.shape)\n",
    "print(y.shape)\n",
    "N, d = X.shape"
   ]
  },
  {
   "cell_type": "code",
   "execution_count": 149,
   "metadata": {},
   "outputs": [
    {
     "data": {
      "text/plain": [
       "pandas.core.frame.DataFrame"
      ]
     },
     "execution_count": 149,
     "metadata": {},
     "output_type": "execute_result"
    }
   ],
   "source": [
    "type(X)"
   ]
  },
  {
   "cell_type": "code",
   "execution_count": 150,
   "metadata": {},
   "outputs": [
    {
     "data": {
      "text/plain": [
       "pandas.core.series.Series"
      ]
     },
     "execution_count": 150,
     "metadata": {},
     "output_type": "execute_result"
    }
   ],
   "source": [
    "type(y)"
   ]
  },
  {
   "cell_type": "code",
   "execution_count": 151,
   "metadata": {},
   "outputs": [
    {
     "name": "stdout",
     "output_type": "stream",
     "text": [
      "        budget  popularity   runtime  vote_average  vote_count  \\\n",
      "0     4.687733    3.612975  2.538167      1.011632    8.136097   \n",
      "1     6.164802    3.283295  2.875461      0.699450    2.708588   \n",
      "2     4.875298    2.362747  1.863579      0.075087    2.683309   \n",
      "3     4.992525    2.506064  2.682721      1.427873    6.133124   \n",
      "4     5.226981    0.520544  1.092621     -0.133034    0.942046   \n",
      "5     5.180090    2.604398  1.429915     -0.341155    2.021599   \n",
      "6     5.226981    0.658600 -0.449294      1.219752    1.838700   \n",
      "7     5.695891    3.143833  1.526285      1.115692    4.394090   \n",
      "8     4.992525    2.116215  2.104503      1.219752    3.298179   \n",
      "9     4.992525    3.768390  2.008133     -0.549276    4.570298   \n",
      "10    5.461436    0.926980  2.152688     -0.861457    0.403756   \n",
      "11    3.820249    2.378774 -0.160185     -0.133034    1.567324   \n",
      "12    3.820249    3.479703  2.008133      0.803511    3.263235   \n",
      "13    5.109753    0.669197  1.911764     -0.341155    1.081079   \n",
      "14    4.406387    2.131091  1.622655      0.283208    4.090744   \n",
      "15    4.406387    0.812383  1.959949      0.075087    0.574759   \n",
      "16    4.289159    3.439092  1.622655      1.219752    8.118254   \n",
      "17    8.040444    3.176776  1.285361      0.179148    3.041674   \n",
      "18    4.406387    0.755957 -0.160185     -0.028973    2.455800   \n",
      "19    4.992525    2.757289  1.670839      0.907571    2.901897   \n",
      "20    4.171932    1.854346  1.285361      0.283208    4.259518   \n",
      "21    3.820249    0.338829  1.478100     -0.028973    0.402269   \n",
      "22    4.992525    1.985124  2.489982      1.427873    2.726432   \n",
      "23    3.351338    0.493366  0.177109     -0.445215    0.331637   \n",
      "24    3.984368    1.022804  3.742788      0.387269    1.100410   \n",
      "25    3.820249    2.149321  4.080082      1.323813    4.985168   \n",
      "26    4.992525    5.004716  1.815394      0.907571    4.746506   \n",
      "27    4.031259    1.130299  1.044436     -0.757397    0.934611   \n",
      "28    2.647972   11.401961  0.707142      0.283208    5.803012   \n",
      "29    3.820249    1.945476  1.622655      0.699450    5.016395   \n",
      "...        ...         ...       ...           ...         ...   \n",
      "4718 -0.866044   -0.690555 -1.027513     -0.341155   -0.619293   \n",
      "4719 -0.866044   -0.722525 -0.690219      0.907571   -0.622267   \n",
      "4720 -0.669570   -0.480380  0.514403      0.283208   -0.504795   \n",
      "4722 -0.866512   -0.622331  0.080739      0.387269   -0.589553   \n",
      "4723 -0.866512   -0.230892 -1.075697     -1.381760   -0.368735   \n",
      "4724 -0.868623   -0.162552 -0.979328      1.323813   -0.276542   \n",
      "4736 -0.868855   -0.743377 -1.557546     -0.757397   -0.635650   \n",
      "4738 -0.867450    0.051966 -1.220252      0.907571   -0.201449   \n",
      "4741 -0.867099   -0.750740 -0.931143     -3.046727   -0.634906   \n",
      "4742 -0.867333   -0.452862 -0.449294      0.387269   -0.260928   \n",
      "4745 -0.867403   -0.684947 -1.316622     -1.902062   -0.613345   \n",
      "4748 -0.867216   -0.571087 -0.834773     -0.445215   -0.547174   \n",
      "4752 -0.867333   -0.685723 -0.497479     -0.653336   -0.593270   \n",
      "4753 -0.867450   -0.742862 -0.786588     -1.173639   -0.632676   \n",
      "4755 -0.867685   -0.746309  0.080739      2.156297   -0.634906   \n",
      "4756 -0.867685   -0.703236 -3.003092      0.699450   -0.606653   \n",
      "4758 -0.775075    0.048326 -0.690219     -0.445215   -0.167992   \n",
      "4759 -0.867685   -0.738992 -1.364807     -0.549276   -0.634906   \n",
      "4767 -0.867685   -0.737535 -1.653916     -2.838606   -0.635650   \n",
      "4770 -0.857134   -0.751260 -0.015631     -0.133034   -0.631189   \n",
      "4772 -0.868126   -0.716207 -0.979328      0.075087   -0.617806   \n",
      "4773 -0.868224   -0.181450 -0.834773      1.219752   -0.075798   \n",
      "4774 -0.868224   -0.754026 -2.183949     -0.237094   -0.630445   \n",
      "4781 -0.868341   -0.753412 -0.931143     -0.237094   -0.636393   \n",
      "4788 -0.868576   -0.622623 -0.786588     -0.028973   -0.555352   \n",
      "4791 -0.868857   -0.745174 -1.220252     -4.399513   -0.636393   \n",
      "4792 -0.868388   -0.748665  0.080739      1.219752   -0.590296   \n",
      "4796 -0.868693   -0.078110 -1.557546      0.699450   -0.147917   \n",
      "4798 -0.863699   -0.340524 -1.364807      0.387269   -0.460185   \n",
      "4799 -0.868646   -0.736178 -1.172067     -0.341155   -0.633419   \n",
      "\n",
      "      original_language  production_countries  \n",
      "0                     0                     0  \n",
      "1                     0                     0  \n",
      "2                     0                     0  \n",
      "3                     0                     0  \n",
      "4                     0                     0  \n",
      "5                     0                     0  \n",
      "6                     0                     0  \n",
      "7                     0                     0  \n",
      "8                     0                     0  \n",
      "9                     0                     0  \n",
      "10                    0                     0  \n",
      "11                    0                     0  \n",
      "12                    0                     0  \n",
      "13                    0                     0  \n",
      "14                    0                     0  \n",
      "15                    0                     0  \n",
      "16                    0                     0  \n",
      "17                    0                     0  \n",
      "18                    0                     0  \n",
      "19                    0                     0  \n",
      "20                    0                     0  \n",
      "21                    0                     0  \n",
      "22                    0                     0  \n",
      "23                    0                     0  \n",
      "24                    0                     0  \n",
      "25                    0                     0  \n",
      "26                    0                     0  \n",
      "27                    0                     0  \n",
      "28                    0                     0  \n",
      "29                    0                     0  \n",
      "...                 ...                   ...  \n",
      "4718                  0                     0  \n",
      "4719                  0                     0  \n",
      "4720                  0                     0  \n",
      "4722                  0                     0  \n",
      "4723                  0                     0  \n",
      "4724                  0                     0  \n",
      "4736                  0                     0  \n",
      "4738                  0                     0  \n",
      "4741                  0                     0  \n",
      "4742                  0                     0  \n",
      "4745                  0                     0  \n",
      "4748                  0                     0  \n",
      "4752                  0                     0  \n",
      "4753                  0                     0  \n",
      "4755                  0                     0  \n",
      "4756                  0                     0  \n",
      "4758                  0                     0  \n",
      "4759                  0                     0  \n",
      "4767                  0                     0  \n",
      "4770                  0                     0  \n",
      "4772                  0                     0  \n",
      "4773                  0                     0  \n",
      "4774                  0                     0  \n",
      "4781                  0                     0  \n",
      "4788                  0                     0  \n",
      "4791                  0                     0  \n",
      "4792                  0                     0  \n",
      "4796                  0                     0  \n",
      "4798                  0                     0  \n",
      "4799                  0                     0  \n",
      "\n",
      "[3764 rows x 7 columns]\n"
     ]
    }
   ],
   "source": [
    "print(X)"
   ]
  },
  {
   "cell_type": "code",
   "execution_count": 152,
   "metadata": {},
   "outputs": [
    {
     "name": "stdout",
     "output_type": "stream",
     "text": [
      "(2634, 1130)\n"
     ]
    }
   ],
   "source": [
    "from sklearn.model_selection import train_test_split\n",
    "X_train, X_test, y_train, y_test = train_test_split(X, y, test_size = 0.3, random_state = 42)\n",
    "\n",
    "N_train, _ = X_train.shape \n",
    "N_test,  _ = X_test.shape \n",
    "\n",
    "print(N_train, N_test)"
   ]
  },
  {
   "cell_type": "code",
   "execution_count": 153,
   "metadata": {},
   "outputs": [
    {
     "data": {
      "text/plain": [
       "4803"
      ]
     },
     "execution_count": 153,
     "metadata": {},
     "output_type": "execute_result"
    }
   ],
   "source": [
    "3362+1441"
   ]
  },
  {
   "cell_type": "code",
   "execution_count": 154,
   "metadata": {},
   "outputs": [
    {
     "name": "stdout",
     "output_type": "stream",
     "text": [
      "2028     bad\n",
      "910      bad\n",
      "2993    good\n",
      "699      bad\n",
      "418      bad\n",
      "808      bad\n",
      "2205     bad\n",
      "1968     bad\n",
      "2053     bad\n",
      "4638     bad\n",
      "1281     bad\n",
      "2217     bad\n",
      "273      bad\n",
      "1678     bad\n",
      "531      bad\n",
      "532      bad\n",
      "1800     bad\n",
      "352      bad\n",
      "3360     bad\n",
      "1747     bad\n",
      "3348    good\n",
      "2478     bad\n",
      "664      bad\n",
      "1339     bad\n",
      "3804     bad\n",
      "4201    good\n",
      "2033     bad\n",
      "1839    good\n",
      "3824    good\n",
      "1819    good\n",
      "        ... \n",
      "2540    good\n",
      "980      bad\n",
      "1257     bad\n",
      "2682     bad\n",
      "3239    good\n",
      "4202     bad\n",
      "1585     bad\n",
      "2625     bad\n",
      "788     good\n",
      "4012    good\n",
      "1781     bad\n",
      "130      bad\n",
      "4719     bad\n",
      "3337    good\n",
      "3697    good\n",
      "4119     bad\n",
      "2313    good\n",
      "1549    good\n",
      "332      bad\n",
      "1285     bad\n",
      "473      bad\n",
      "2353     bad\n",
      "1727     bad\n",
      "3577    good\n",
      "1130     bad\n",
      "1166     bad\n",
      "1345     bad\n",
      "880      bad\n",
      "4242     bad\n",
      "3700     bad\n",
      "Name: revenue, Length: 2634, dtype: object\n"
     ]
    },
    {
     "data": {
      "text/plain": [
       "pandas.core.series.Series"
      ]
     },
     "execution_count": 154,
     "metadata": {},
     "output_type": "execute_result"
    }
   ],
   "source": [
    "print(y_train)\n",
    "type(y_train)"
   ]
  },
  {
   "cell_type": "markdown",
   "metadata": {},
   "source": [
    "В библиотеке scikit-learn реализована масса алгоритмов машинного обучения. <br>\n",
    "<strong>Некоторые алгоритмы машинного обучения, реализованные в scikit-learn:</strong> <br>\n",
    "<table border=\"1\">\n",
    "    <tr>\n",
    "    <th>Метод</th>\n",
    "    <th>Класс</th>\n",
    "   </tr>\n",
    "    <tr><td>kNN – $k$ ближайших соседей</td><td>sklearn.neighbors.KNeighborsClassifier</td></tr>\n",
    "    <tr><td>LDA – линейный дискриминантный анализ</td><td>sklearn.discriminant_analysis.LinearDiscriminantAnalysis</td></tr>\n",
    "    <tr><td>QDA – квадратичный дискриминантный анализ</td><td>sklearn.discriminant_analysis.QuadraticDiscriminantAnalysis</td></tr>\n",
    "    <tr><td>Logistic – логистическая регрессия</td><td>sklearn.linear_model.LogisticRegression</td></tr>\n",
    "    <tr><td>SVC – машина опорных векторов</td><td>sklearn.svm.SVC</td></tr>\n",
    "    <tr><td>RF – случайный лес</td><td>sklearn.tree.DecisionTreeClassifier</td></tr>\n",
    "    <tr><td>ExtrRF экстремально случайный лес</td><td>\t</td></tr>\n",
    "    <tr><td>AdaBoost – алгоритм AdaBoost</td><td>sklearn.ensemble.AdaBoostClassifier</td></tr>\n",
    "    <tr><td>GBT – градиентный бустинг деревьев решений</td><td>sklearn.ensemble.GradientBoostingClassifier</td></tr>\n",
    "    <tr><td>Tree – деревья решений</td><td>sklearn.tree.DecisionTreeClassifier</td></tr>\n",
    "    <tr><td>Tree – деревья решений</td><td></td></tr>\n",
    "</table>\t\n",
    "<strong>Основные методы классов, реализующих алгоритмы машинного обучения</strong><br>\n",
    "Все алгоритмы выполнены в виде классов, обладающих по крайней мере следующими методами:\n",
    "<table border=\"1\">\n",
    "    <tr>\n",
    "    <th>Метод класса</th>\n",
    "    <th>Описание</th>\n",
    "   </tr>\n",
    "    <tr><td>fit(X_train, y_train)</td><td>обучение (тренировка) модели на обучающей выборке X_train, y_train</td></tr>\n",
    "    <tr><td>predict(X)</td><td>предсказание на данных X</td></tr>\n",
    "    <tr><td>set_params(**params)</td><td>установка параметров алгоритма</td></tr>\n",
    "    <tr><td>get_params()</td><td>чтение параметров алгоритма</td></tr>\n",
    "</table>\n",
    "Заметим, что параметры алгоритмов обучения можно задавать как в конструкторе класса, так и с помощью метода set_params(**params). <br>\n",
    "<strong>Таблица наличия/отсутствия методов для основных алгоритмов машинного обучения:</strong> <br>\n",
    "<table border=\"1\">\n",
    "    <tr>\n",
    "    <th>Метод класса</th>\n",
    "    <th>kNN</th>\n",
    "    <th>LDA</th>\n",
    "    <th>QDA</th>\n",
    "    <th>Logistic</th>\n",
    "    <th>SVC</th>\n",
    "    <th>Tree</th>\n",
    "    <th>RF</th>\n",
    "    <th>AdaBoost</th>\n",
    "    <th>GBT</th>\n",
    "   </tr>\n",
    "    <tr><td>fit(X, y)</td><td>+</td><td>+</td><td>+</td><td>+</td><td>+</td><td>\n",
    "        +</td><td>+</td>+<td>+</td><td>+</td><tr>\n",
    "    <tr><td>predict(X)</td><td>+</td><td>+</td><td>+</td><td>+</td><td>+</td><td>\n",
    "        +</td><td>+</td>+<td>+</td><td>+</td><tr>\n",
    "    <tr><td>predict_proba(X)</td><td>+</td><td>+</td><td>+</td><td>+</td><td></td><td>\n",
    "        +</td><td>+</td>+<td>+</td><td>+</td><tr>\n",
    "    <tr><td>predict_log_proba(X)</td><td></td><td>+</td><td>+</td><td>+</td><td></td><td>\n",
    "        +</td><td>+</td>+<td>+</td><td>+</td><tr>\n",
    "    <tr><td>score(X, y)</td><td>+</td><td>+</td><td>+</td><td>+</td><td>+</td><td>\n",
    "        +</td><td>+</td>+<td>+</td><td>+</td><tr>\n",
    "    <tr><td>decision_function(X)</td><td></td><td>+</td><td>+</td><td>+</td><td>+</td><td>\n",
    "        </td><td></td>+<td>+</td><td>+</td><tr>\n",
    "    <tr><td>transform(X)</td><td></td><td>+</td><td></td><td>+</td><td></td><td>\n",
    "        +</td><td>+</td>+<td></td><td>+</td><tr>\n",
    "    <tr><td>staged_decision_function(X)</td><td></td><td></td><td></td><td></td><td></td><td>\n",
    "        </td><td></td>+<td>+</td><td>+</td><tr>\n",
    "    <tr><td>staged_predict(X)</td><td></td><td></td><td></td><td></td><td></td><td>\n",
    "        </td><td></td>+<td>+</td><td>+</td><tr>\n",
    "    <tr><td>staged_predict_proba(X)\t)</td><td></td><td></td><td></td><td></td><td></td><td>\n",
    "        </td><td></td>+<td>+</td><td>+</td><tr>\n",
    "    <tr><td>staged_score(X, y)</td><td></td><td></td><td></td><td></td><td></td><td>\n",
    "        </td><td></td>+<td>+</td><td>+</td><tr>\n",
    "    <tr><td>set_params(**params)</td><td>+</td><td>+</td><td>+</td><td>+</td><td>+</td><td>\n",
    "        +</td><td>+</td>+<td>+</td><td>+</td><tr>\n",
    "    <tr><td>get_params()</td><td>+</td><td>+</td><td>+</td><td>+</td><td>+</td><td>\n",
    "        +</td><td>+</td>+<td>+</td><td>+</td><tr>\n",
    "    \n",
    "</table>"
   ]
  },
  {
   "cell_type": "markdown",
   "metadata": {},
   "source": [
    "<h2>kNN</h2>"
   ]
  },
  {
   "cell_type": "code",
   "execution_count": 83,
   "metadata": {
    "scrolled": true
   },
   "outputs": [
    {
     "data": {
      "text/plain": [
       "KNeighborsClassifier(algorithm='auto', leaf_size=30, metric='minkowski',\n",
       "           metric_params=None, n_jobs=None, n_neighbors=10, p=2,\n",
       "           weights='uniform')"
      ]
     },
     "execution_count": 83,
     "metadata": {},
     "output_type": "execute_result"
    }
   ],
   "source": [
    "from sklearn.neighbors import KNeighborsClassifier\n",
    "\n",
    "knn = KNeighborsClassifier(n_neighbors = 10)\n",
    "#knn.set_params(n_neighbors=10)\n",
    "knn.fit(X_train, y_train)"
   ]
  },
  {
   "cell_type": "code",
   "execution_count": 84,
   "metadata": {},
   "outputs": [
    {
     "data": {
      "text/plain": [
       "KNeighborsClassifier(algorithm='auto', leaf_size=30, metric='minkowski',\n",
       "           metric_params=None, n_jobs=None, n_neighbors=10, p=2,\n",
       "           weights='uniform')"
      ]
     },
     "execution_count": 84,
     "metadata": {},
     "output_type": "execute_result"
    }
   ],
   "source": [
    "knn"
   ]
  },
  {
   "cell_type": "code",
   "execution_count": 85,
   "metadata": {},
   "outputs": [
    {
     "name": "stdout",
     "output_type": "stream",
     "text": [
      "(0.16894457099468488, 0.20265486725663717)\n"
     ]
    }
   ],
   "source": [
    "y_train_predict = knn.predict(X_train)\n",
    "y_test_predict = knn.predict(X_test)\n",
    "\n",
    "err_train = np.mean(y_train != y_train_predict)\n",
    "err_test  = np.mean(y_test  != y_test_predict)\n",
    "\n",
    "print(err_train, err_test)"
   ]
  },
  {
   "cell_type": "code",
   "execution_count": 155,
   "metadata": {},
   "outputs": [
    {
     "data": {
      "text/plain": [
       "0.19549477071600965"
      ]
     },
     "execution_count": 155,
     "metadata": {},
     "output_type": "execute_result"
    }
   ],
   "source": [
    "err_test"
   ]
  },
  {
   "cell_type": "code",
   "execution_count": 88,
   "metadata": {},
   "outputs": [
    {
     "name": "stdout",
     "output_type": "stream",
     "text": [
      "1629     bad\n",
      "3433     bad\n",
      "220      bad\n",
      "3611    good\n",
      "2106     bad\n",
      "1734     bad\n",
      "2115     bad\n",
      "299      bad\n",
      "3934     bad\n",
      "2689     bad\n",
      "2833     bad\n",
      "1323     bad\n",
      "1701     bad\n",
      "3380     bad\n",
      "3568    good\n",
      "3940    good\n",
      "1466     bad\n",
      "505      bad\n",
      "813     good\n",
      "3925     bad\n",
      "3005     bad\n",
      "683      bad\n",
      "211      bad\n",
      "93       bad\n",
      "859      bad\n",
      "1646     bad\n",
      "444      bad\n",
      "555      bad\n",
      "1403     bad\n",
      "1164    good\n",
      "        ... \n",
      "425     good\n",
      "2281     bad\n",
      "467      bad\n",
      "1101     bad\n",
      "87       bad\n",
      "283      bad\n",
      "4495    good\n",
      "1200    good\n",
      "2257     bad\n",
      "4347    good\n",
      "1187    good\n",
      "879      bad\n",
      "544      bad\n",
      "4333    good\n",
      "1483    good\n",
      "3886     bad\n",
      "3364     bad\n",
      "3431     bad\n",
      "3903    good\n",
      "4404     bad\n",
      "4641     bad\n",
      "1386     bad\n",
      "1564    good\n",
      "1305     bad\n",
      "4579    good\n",
      "2307     bad\n",
      "967      bad\n",
      "4437     bad\n",
      "2552     bad\n",
      "2284     bad\n",
      "Name: revenue, Length: 1130, dtype: object\n",
      "['bad' 'bad' 'bad' ... 'bad' 'good' 'bad']\n"
     ]
    }
   ],
   "source": [
    "print(y_test)\n",
    "print(y_test_predict)"
   ]
  },
  {
   "cell_type": "code",
   "execution_count": 89,
   "metadata": {},
   "outputs": [
    {
     "name": "stdout",
     "output_type": "stream",
     "text": [
      "[[800  54]\n",
      " [175 101]]\n"
     ]
    }
   ],
   "source": [
    "from sklearn.metrics import confusion_matrix\n",
    "\n",
    "print(confusion_matrix(y_test, y_test_predict))"
   ]
  },
  {
   "cell_type": "markdown",
   "metadata": {},
   "source": [
    "<strong>Подборем наилучшее число соседей</strong>"
   ]
  },
  {
   "cell_type": "code",
   "execution_count": 156,
   "metadata": {},
   "outputs": [
    {
     "name": "stdout",
     "output_type": "stream",
     "text": [
      "(0.20009613315158914, 10)\n"
     ]
    }
   ],
   "source": [
    "from sklearn.model_selection import GridSearchCV\n",
    "nnb = [1, 3, 5, 10, 15, 20, 25, 35, 45, 55]\n",
    "knn = KNeighborsClassifier()\n",
    "grid = GridSearchCV(knn, param_grid = {'n_neighbors': nnb}, cv=10, iid=False)\n",
    "grid.fit(X_train, y_train)\n",
    "\n",
    "best_cv_err = 1 - grid.best_score_\n",
    "best_n_neighbors = grid.best_estimator_.n_neighbors\n",
    "print(best_cv_err, best_n_neighbors)"
   ]
  },
  {
   "cell_type": "markdown",
   "metadata": {},
   "source": [
    "Наименьшая ошибка 0.20009613315158914 <br>\n",
    "Наилучшее число соседей 10"
   ]
  },
  {
   "cell_type": "markdown",
   "metadata": {},
   "source": [
    "<h2>SVC</h2>"
   ]
  },
  {
   "cell_type": "code",
   "execution_count": 92,
   "metadata": {},
   "outputs": [
    {
     "name": "stdout",
     "output_type": "stream",
     "text": [
      "(0.1921032649962035, 0.19469026548672566)\n"
     ]
    }
   ],
   "source": [
    "from sklearn.svm import SVC\n",
    "svc = SVC(gamma='auto')\n",
    "svc.fit(X_train, y_train)\n",
    "\n",
    "err_train = np.mean(y_train != svc.predict(X_train))\n",
    "err_test  = np.mean(y_test  != svc.predict(X_test))\n",
    "\n",
    "print(err_train, err_test)"
   ]
  },
  {
   "cell_type": "markdown",
   "metadata": {},
   "source": [
    "<strong>Подбор параметров</strong>"
   ]
  },
  {
   "cell_type": "code",
   "execution_count": 93,
   "metadata": {},
   "outputs": [
    {
     "name": "stdout",
     "output_type": "stream",
     "text": [
      "(0.19514047076689445, 10.0)\n"
     ]
    }
   ],
   "source": [
    "from sklearn.model_selection import GridSearchCV\n",
    "Cs = 10.**np.arange(-5, 5)\n",
    "gamma_array = 10.**np.arange(-5, 5)\n",
    "svc = SVC(gamma='auto')\n",
    "grid = GridSearchCV(svc, cv=3, param_grid = {'C': Cs, 'gamma': gamma_array})\n",
    "grid.fit(X_train, y_train)\n",
    "\n",
    "best_cv_err = 1 - grid.best_score_\n",
    "best_C = grid.best_estimator_.C\n",
    "print(best_cv_err, best_C)"
   ]
  },
  {
   "cell_type": "markdown",
   "metadata": {},
   "source": [
    "<h2>Random Forest</h2>"
   ]
  },
  {
   "cell_type": "code",
   "execution_count": 157,
   "metadata": {},
   "outputs": [
    {
     "name": "stdout",
     "output_type": "stream",
     "text": [
      "(0.0, 0.18584070796460178)\n"
     ]
    }
   ],
   "source": [
    "from sklearn import ensemble\n",
    "rf = ensemble.RandomForestClassifier(n_estimators = 1000)\n",
    "rf.fit(X_train, y_train)\n",
    "\n",
    "err_train = np.mean(y_train != rf.predict(X_train))\n",
    "err_test  = np.mean(y_test  != rf.predict(X_test))\n",
    "\n",
    "print(err_train, err_test)"
   ]
  },
  {
   "cell_type": "markdown",
   "metadata": {},
   "source": [
    "<strong>Значимость признаков</strong>\n"
   ]
  },
  {
   "cell_type": "code",
   "execution_count": 158,
   "metadata": {},
   "outputs": [
    {
     "data": {
      "text/plain": [
       "1.0000000000000004"
      ]
     },
     "execution_count": 158,
     "metadata": {},
     "output_type": "execute_result"
    }
   ],
   "source": [
    "np.sum(rf.feature_importances_)"
   ]
  },
  {
   "cell_type": "code",
   "execution_count": 159,
   "metadata": {},
   "outputs": [
    {
     "name": "stdout",
     "output_type": "stream",
     "text": [
      "Feature ranking:\n",
      " 1. feature 'vote_count' (0.249745)\n",
      " 2. feature 'budget' (0.233719)\n",
      " 3. feature 'popularity' (0.221535)\n",
      " 4. feature 'runtime' (0.148531)\n",
      " 5. feature 'vote_average' (0.146470)\n",
      " 6. feature 'production_countries' (0.000000)\n",
      " 7. feature 'original_language' (0.000000)\n"
     ]
    }
   ],
   "source": [
    "importances = rf.feature_importances_\n",
    "indices = np.argsort(importances)[::-1]\n",
    "\n",
    "print(\"Feature ranking:\")\n",
    "\n",
    "for f in range(d):\n",
    "    print(\"%2d. feature '%5s' (%f)\" % (f + 1, feature_names[indices[f]], importances[indices[f]]))"
   ]
  },
  {
   "cell_type": "code",
   "execution_count": 160,
   "metadata": {},
   "outputs": [
    {
     "data": {
      "text/plain": [
       "Index([u'popularity', u'budget', u'popularity'], dtype='object')"
      ]
     },
     "execution_count": 160,
     "metadata": {},
     "output_type": "execute_result"
    }
   ],
   "source": [
    "feature_names[[1,0,1]]"
   ]
  },
  {
   "cell_type": "code",
   "execution_count": 161,
   "metadata": {},
   "outputs": [
    {
     "data": {
      "text/plain": [
       "(-1, 7)"
      ]
     },
     "execution_count": 161,
     "metadata": {},
     "output_type": "execute_result"
    },
    {
     "data": {
      "image/png": "[encoded data removed]",
      "text/plain": [
       "<Figure size 432x288 with 1 Axes>"
      ]
     },
     "metadata": {
      "needs_background": "light"
     },
     "output_type": "display_data"
    }
   ],
   "source": [
    "d_first = 7\n",
    "plt.title(\"Feature importances\")\n",
    "plt.bar(range(d_first), importances[indices[:d_first]], align = 'center', color = 'r')\n",
    "plt.xticks(range(d_first), feature_names[indices[:d_first]], rotation = 90)\n",
    "plt.xlim([-1, d_first])"
   ]
  },
  {
   "cell_type": "markdown",
   "metadata": {},
   "source": [
    "<h2>Extremely Randomized Trees</h2>"
   ]
  },
  {
   "cell_type": "code",
   "execution_count": 163,
   "metadata": {},
   "outputs": [
    {
     "name": "stdout",
     "output_type": "stream",
     "text": [
      "(0.0, 0.1902654867256637)\n"
     ]
    }
   ],
   "source": [
    "ert = ensemble.ExtraTreesClassifier(n_estimators = 100).fit(X_train, y_train)\n",
    "\n",
    "err_train = np.mean(y_train != ert.predict(X_train))\n",
    "err_test  = np.mean(y_test  != ert.predict(X_test))\n",
    "\n",
    "print(err_train, err_test)\n"
   ]
  },
  {
   "cell_type": "markdown",
   "metadata": {},
   "source": [
    "<h2>AdaBoost</h2>"
   ]
  },
  {
   "cell_type": "code",
   "execution_count": 164,
   "metadata": {},
   "outputs": [
    {
     "name": "stdout",
     "output_type": "stream",
     "text": [
      "(0.1416097190584662, 0.21150442477876105)\n"
     ]
    }
   ],
   "source": [
    "ada = ensemble.AdaBoostClassifier(n_estimators = 1000)\n",
    "ada.fit(X_train, y_train)\n",
    "\n",
    "err_train = np.mean(y_train != ada.predict(X_train))\n",
    "err_test = np.mean(y_test != ada.predict(X_test))\n",
    "\n",
    "print(err_train, err_test)"
   ]
  },
  {
   "cell_type": "markdown",
   "metadata": {},
   "source": [
    "<h2>GBT</h2>"
   ]
  },
  {
   "cell_type": "code",
   "execution_count": 165,
   "metadata": {},
   "outputs": [
    {
     "name": "stdout",
     "output_type": "stream",
     "text": [
      "(0.01442672741078208, 0.19646017699115045)\n"
     ]
    }
   ],
   "source": [
    "gbt = ensemble.GradientBoostingClassifier(n_estimators = 1000)\n",
    "gbt.fit(X_train, y_train)\n",
    "\n",
    "err_train = np.mean(y_train != gbt.predict(X_train))\n",
    "err_test = np.mean(y_test != gbt.predict(X_test))\n",
    "\n",
    "print(err_train, err_test)"
   ]
  },
  {
   "cell_type": "markdown",
   "metadata": {},
   "source": [
    "<h2>PCA</h2>\n",
    "<h1> Применним метод главных компонент уменьшим размерность признаков до двух</h1>"
   ]
  },
  {
   "cell_type": "code",
   "execution_count": 166,
   "metadata": {},
   "outputs": [
    {
     "name": "stdout",
     "output_type": "stream",
     "text": [
      "[[ 9.69284807 -2.19083882]\n",
      " [ 7.09429504 -1.86561624]\n",
      " [ 5.49958745 -2.05664988]\n",
      " ...\n",
      " [-0.78709778  0.06651097]\n",
      " [-1.13792572  0.06651105]\n",
      " [-1.62124862 -0.2043696 ]]\n"
     ]
    }
   ],
   "source": [
    "from sklearn.decomposition import PCA\n",
    "pca = PCA(n_components = 2)\n",
    "X_pca = pca.fit_transform(X)\n",
    "print(X_pca)"
   ]
  },
  {
   "cell_type": "code",
   "execution_count": 167,
   "metadata": {},
   "outputs": [
    {
     "data": {
      "text/plain": [
       "Text(0.5,1,'2 components after PCA')"
      ]
     },
     "execution_count": 167,
     "metadata": {},
     "output_type": "execute_result"
    },
    {
     "data": {
      "image/png": "[encoded data removed]",
      "text/plain": [
       "<Figure size 432x288 with 1 Axes>"
      ]
     },
     "metadata": {
      "needs_background": "light"
     },
     "output_type": "display_data"
    }
   ],
   "source": [
    "# строим график с точками после применения метода PCA для 2 компонент\n",
    "plt.scatter(X_pca[:,0], X_pca[:,1], alpha = .2)\n",
    "\n",
    "plt.xlabel('1st')\n",
    "plt.ylabel('2nd')\n",
    "plt.title('2 components after PCA')"
   ]
  },
  {
   "cell_type": "markdown",
   "metadata": {},
   "source": [
    "<h2>kNN classifier  c оптимальным числом соседей равным 5</h2>"
   ]
  },
  {
   "cell_type": "code",
   "execution_count": 172,
   "metadata": {},
   "outputs": [
    {
     "name": "stdout",
     "output_type": "stream",
     "text": [
      "train error:0.01442672741078208\n",
      "test error:0.19646017699115045\n"
     ]
    }
   ],
   "source": [
    "pca = PCA(n_components=comp_num)\n",
    "X_pca = pca.fit_transform(X)\n",
    "X_train, X_test, y_train, y_test = train_test_split(X_pca, y, test_size=0.3, random_state=42)\n",
    "knn = KNeighborsClassifier(n_neighbors=5)\n",
    "knn.fit(X_train, y_train)\n",
    "train_err.append(np.mean(y_train != knn.predict(X_train)))\n",
    "test_err.append(np.mean(y_test  != knn.predict(X_test)))\n",
    "\n",
    "print(\"train error:\" + str(err_train))\n",
    "print(\"test error:\" + str(err_test))"
   ]
  },
  {
   "cell_type": "markdown",
   "metadata": {},
   "source": [
    "<h2>Определим оптимальное число компонент</h2>"
   ]
  },
  {
   "cell_type": "code",
   "execution_count": 184,
   "metadata": {},
   "outputs": [
    {
     "data": {
      "image/png": "[encoded data removed]",
      "text/plain": [
       "<Figure size 432x288 with 1 Axes>"
      ]
     },
     "metadata": {
      "needs_background": "light"
     },
     "output_type": "display_data"
    }
   ],
   "source": [
    "comp_count = np.arange(1, 8) \n",
    "test_err = []\n",
    "train_err = []\n",
    "\n",
    "for comp_num in comp_count:\n",
    "    pca = PCA(n_components=comp_num)\n",
    "    X_pca = pca.fit_transform(X)\n",
    "    X_train, X_test, y_train, y_test = train_test_split(X_pca, y, test_size=0.3, random_state=42)\n",
    "    knn = KNeighborsClassifier(n_neighbors=5)\n",
    "    knn.fit(X_train, y_train)\n",
    "    \n",
    "    train_err.append(np.mean(y_train != knn.predict(X_train)))\n",
    "    test_err.append(np.mean(y_test  != knn.predict(X_test)))\n",
    "    \n",
    "\n",
    "plt.figure()\n",
    "plt.plot(comp_count, train_err, 'b-o', label = 'train')\n",
    "plt.plot(comp_count, test_err, 'r-o', label = 'test')\n",
    "plt.xlim([np.min(comp_count), np.max(comp_count)])\n",
    "plt.title('PCA')\n",
    "plt.xlabel('components count')\n",
    "plt.ylabel('error')\n",
    "plt.legend()\n",
    "plt.show()"
   ]
  },
  {
   "cell_type": "code",
   "execution_count": 185,
   "metadata": {},
   "outputs": [
    {
     "data": {
      "text/plain": [
       "0.21238938053097345"
      ]
     },
     "execution_count": 185,
     "metadata": {},
     "output_type": "execute_result"
    }
   ],
   "source": [
    "np.min(test_err)"
   ]
  },
  {
   "cell_type": "code",
   "execution_count": 187,
   "metadata": {},
   "outputs": [
    {
     "name": "stdout",
     "output_type": "stream",
     "text": [
      "('comp_count: ', 1, ', test_err: ', 0.28230088495575223)\n",
      "('comp_count: ', 2, ', test_err: ', 0.26194690265486725)\n",
      "('comp_count: ', 3, ', test_err: ', 0.2336283185840708)\n",
      "('comp_count: ', 4, ', test_err: ', 0.21238938053097345)\n",
      "('comp_count: ', 5, ', test_err: ', 0.21858407079646017)\n",
      "('comp_count: ', 6, ', test_err: ', 0.21858407079646017)\n",
      "('comp_count: ', 7, ', test_err: ', 0.21858407079646017)\n"
     ]
    }
   ],
   "source": [
    "for i in range(7):\n",
    "    print(\"comp_count: \", i+1, \", test_err: \" , test_err[i])"
   ]
  },
  {
   "cell_type": "markdown",
   "metadata": {},
   "source": [
    "По графику и выводу видно, что наилучшее число компонент для метода PCA: 4"
   ]
  },
  {
   "cell_type": "markdown",
   "metadata": {},
   "source": [
    "Минимальная ошибка: 0.21238938053097345 (а была 0.19500346981263017), стало лучше на:"
   ]
  },
  {
   "cell_type": "code",
   "execution_count": 108,
   "metadata": {},
   "outputs": [
    {
     "data": {
      "text/plain": [
       "0.002775850104094424"
      ]
     },
     "execution_count": 108,
     "metadata": {},
     "output_type": "execute_result"
    }
   ],
   "source": [
    "0.19500346981263017 - 0.19222761970853575"
   ]
  },
  {
   "cell_type": "markdown",
   "metadata": {},
   "source": [
    "Вывод для PCA\n",
    "Наилучшее число компонент для метода PCA получилось равным 4\n",
    "При таком числе компонент ошибка уменьшилась на 0.002775850104094424"
   ]
  },
  {
   "cell_type": "markdown",
   "metadata": {},
   "source": [
    "<h2>Обучаем полносвязную (неглубокую) нейронную сеть</h2> <br>\n",
    "<strong>Разбиваем данные на обучающую и тестовую выборки</strong>"
   ]
  },
  {
   "cell_type": "code",
   "execution_count": 109,
   "metadata": {},
   "outputs": [],
   "source": [
    "X_train, X_test, y_train, y_test = train_test_split(X, y, test_size = 0.33, random_state = 42)\n",
    "N_test, _ = X_test.shape\n",
    "N_train, _ = X_train.shape"
   ]
  },
  {
   "cell_type": "markdown",
   "metadata": {},
   "source": [
    "<strong>Обучаем классификатор (1 слой)</strong>"
   ]
  },
  {
   "cell_type": "code",
   "execution_count": 110,
   "metadata": {},
   "outputs": [],
   "source": [
    "from sklearn.neural_network import MLPClassifier"
   ]
  },
  {
   "cell_type": "code",
   "execution_count": 189,
   "metadata": {},
   "outputs": [
    {
     "data": {
      "text/plain": [
       "MLPClassifier(activation='logistic', alpha=0.0001, batch_size='auto',\n",
       "       beta_1=0.9, beta_2=0.999, early_stopping=False, epsilon=1e-08,\n",
       "       hidden_layer_sizes=(100,), learning_rate='constant',\n",
       "       learning_rate_init=0.001, max_iter=200, momentum=0.9,\n",
       "       n_iter_no_change=10, nesterovs_momentum=True, power_t=0.5,\n",
       "       random_state=42, shuffle=True, solver='lbfgs', tol=0.0001,\n",
       "       validation_fraction=0.1, verbose=False, warm_start=False)"
      ]
     },
     "execution_count": 189,
     "metadata": {},
     "output_type": "execute_result"
    }
   ],
   "source": [
    "mlp_model = MLPClassifier(hidden_layer_sizes = (100,), solver = 'lbfgs', \n",
    "                          activation = 'logistic', random_state = 42)\n",
    "mlp_model.fit(X_train, y_train)"
   ]
  },
  {
   "cell_type": "markdown",
   "metadata": {},
   "source": [
    "<strong>Проверяем качество классификатора (1 слой)</strong>\n"
   ]
  },
  {
   "cell_type": "code",
   "execution_count": 190,
   "metadata": {},
   "outputs": [],
   "source": [
    "y_train_pred = mlp_model.predict(X_train)\n",
    "y_test_pred = mlp_model.predict(X_test)"
   ]
  },
  {
   "cell_type": "markdown",
   "metadata": {},
   "source": [
    "<strong>Ошибки на обучающей и тестовой выборках:</strong>"
   ]
  },
  {
   "cell_type": "code",
   "execution_count": 223,
   "metadata": {},
   "outputs": [
    {
     "name": "stdout",
     "output_type": "stream",
     "text": [
      "(0.18716780561883067, 0.18849557522123894)\n"
     ]
    }
   ],
   "source": [
    "print(np.mean(y_train != y_train_pred), np.mean(y_test != y_test_pred))"
   ]
  },
  {
   "cell_type": "markdown",
   "metadata": {},
   "source": [
    "<strong>Используем двухслойную полносвязную сеть</strong>"
   ]
  },
  {
   "cell_type": "code",
   "execution_count": 224,
   "metadata": {},
   "outputs": [
    {
     "data": {
      "text/plain": [
       "MLPClassifier(activation='logistic', alpha=0.0001, batch_size='auto',\n",
       "       beta_1=0.9, beta_2=0.999, early_stopping=False, epsilon=1e-08,\n",
       "       hidden_layer_sizes=(50, 20), learning_rate='constant',\n",
       "       learning_rate_init=0.001, max_iter=200, momentum=0.9,\n",
       "       n_iter_no_change=10, nesterovs_momentum=True, power_t=0.5,\n",
       "       random_state=42, shuffle=True, solver='lbfgs', tol=0.0001,\n",
       "       validation_fraction=0.1, verbose=False, warm_start=False)"
      ]
     },
     "execution_count": 224,
     "metadata": {},
     "output_type": "execute_result"
    }
   ],
   "source": [
    "mlp_model = MLPClassifier(hidden_layer_sizes = (50,20), solver = 'lbfgs', \n",
    "                          activation = 'logistic', random_state = 42)\n",
    "mlp_model.fit(X_train, y_train)"
   ]
  },
  {
   "cell_type": "code",
   "execution_count": 225,
   "metadata": {},
   "outputs": [
    {
     "name": "stdout",
     "output_type": "stream",
     "text": [
      "(0.18716780561883067, 0.18849557522123894)\n"
     ]
    }
   ],
   "source": [
    "print(np.mean(y_train != y_train_pred), np.mean(y_test != y_test_pred))"
   ]
  },
  {
   "cell_type": "code",
   "execution_count": 226,
   "metadata": {},
   "outputs": [
    {
     "data": {
      "text/plain": [
       "MLPClassifier(activation='logistic', alpha=0.0001, batch_size='auto',\n",
       "       beta_1=0.9, beta_2=0.999, early_stopping=False, epsilon=1e-08,\n",
       "       hidden_layer_sizes=(120, 80, 40), learning_rate='constant',\n",
       "       learning_rate_init=0.001, max_iter=200, momentum=0.9,\n",
       "       n_iter_no_change=10, nesterovs_momentum=True, power_t=0.5,\n",
       "       random_state=42, shuffle=True, solver='lbfgs', tol=0.0001,\n",
       "       validation_fraction=0.1, verbose=False, warm_start=False)"
      ]
     },
     "execution_count": 226,
     "metadata": {},
     "output_type": "execute_result"
    }
   ],
   "source": [
    "mlp_model = MLPClassifier(hidden_layer_sizes = (120,80,40), solver = 'lbfgs', \n",
    "                          activation = 'logistic', random_state = 42)\n",
    "mlp_model.fit(X_train, y_train)"
   ]
  },
  {
   "cell_type": "code",
   "execution_count": 227,
   "metadata": {},
   "outputs": [
    {
     "name": "stdout",
     "output_type": "stream",
     "text": [
      "(0.18716780561883067, 0.18849557522123894)\n"
     ]
    }
   ],
   "source": [
    "print(np.mean(y_train != y_train_pred), np.mean(y_test != y_test_pred))"
   ]
  },
  {
   "cell_type": "markdown",
   "metadata": {},
   "source": [
    "<h2>Подбор гиперпараметров</h2>\n",
    "<strong>Подберем оптимальное значение параметра регуляризации alpha</strong>"
   ]
  },
  {
   "cell_type": "code",
   "execution_count": 228,
   "metadata": {},
   "outputs": [],
   "source": [
    "alpha_arr = np.logspace(-3, 2, 21)\n",
    "test_err = []\n",
    "train_err = []\n",
    "for alpha in alpha_arr:\n",
    "    mlp_model = MLPClassifier(alpha = alpha, hidden_layer_sizes = (100,), \n",
    "                              solver = 'lbfgs', activation = 'logistic', random_state = 42)\n",
    "    mlp_model.fit(X_train, y_train)\n",
    "\n",
    "    y_train_pred = mlp_model.predict(X_train)\n",
    "    y_test_pred = mlp_model.predict(X_test)\n",
    "    train_err.append(np.mean(y_train != y_train_pred))\n",
    "    test_err.append(np.mean(y_test != y_test_pred))"
   ]
  },
  {
   "cell_type": "code",
   "execution_count": 229,
   "metadata": {},
   "outputs": [
    {
     "data": {
      "image/png": "[encoded data removed]",
      "text/plain": [
       "<Figure size 432x288 with 1 Axes>"
      ]
     },
     "metadata": {
      "needs_background": "light"
     },
     "output_type": "display_data"
    }
   ],
   "source": [
    "plt.semilogx(alpha_arr, train_err, 'b-o', label = 'train')\n",
    "plt.semilogx(alpha_arr, test_err, 'r-o', label = 'test')\n",
    "plt.xlim([np.max(alpha_arr), np.min(alpha_arr)])\n",
    "plt.title('Error vs. alpha')\n",
    "plt.xlabel('alpha')\n",
    "plt.ylabel('error')\n",
    "plt.legend()\n",
    "pass"
   ]
  },
  {
   "cell_type": "markdown",
   "metadata": {},
   "source": [
    "<strong>Минимальное значение ошибки:</strong>"
   ]
  },
  {
   "cell_type": "code",
   "execution_count": 230,
   "metadata": {},
   "outputs": [
    {
     "name": "stdout",
     "output_type": "stream",
     "text": [
      "(0.15641609719058466, 0.1902654867256637)\n"
     ]
    }
   ],
   "source": [
    "min_train_err = np.min(train_err)\n",
    "min_test_err = np.min(test_err)\n",
    "print(min_train_err, min_test_err)"
   ]
  },
  {
   "cell_type": "markdown",
   "metadata": {},
   "source": [
    "<strong>Оптимальное значение alpha:</strong>"
   ]
  },
  {
   "cell_type": "code",
   "execution_count": 231,
   "metadata": {},
   "outputs": [
    {
     "name": "stdout",
     "output_type": "stream",
     "text": [
      "[0.56234133]\n"
     ]
    }
   ],
   "source": [
    "alpha_opt = alpha_arr[test_err == min_test_err]\n",
    "print(alpha_opt)"
   ]
  },
  {
   "cell_type": "code",
   "execution_count": 232,
   "metadata": {},
   "outputs": [],
   "source": [
    "alpha_opt = alpha_opt[0]"
   ]
  },
  {
   "cell_type": "markdown",
   "metadata": {},
   "source": [
    "<strong>Подберем оптимальное количество нейронов</strong>\n"
   ]
  },
  {
   "cell_type": "code",
   "execution_count": 233,
   "metadata": {},
   "outputs": [],
   "source": [
    "neurons = (10, 100, 500, 1000)\n",
    "test_err = []\n",
    "train_err = []\n",
    "for neuron in neurons:\n",
    "    mlp_model = MLPClassifier(alpha = alpha_opt, hidden_layer_sizes = (neuron,), \n",
    "                              solver = 'lbfgs', activation = 'logistic', random_state = 42)\n",
    "    mlp_model.fit(X_train, y_train)\n",
    "\n",
    "    y_train_pred = mlp_model.predict(X_train)\n",
    "    y_test_pred = mlp_model.predict(X_test)\n",
    "    train_err.append(np.mean(y_train != y_train_pred))\n",
    "    test_err.append(np.mean(y_test != y_test_pred))"
   ]
  },
  {
   "cell_type": "code",
   "execution_count": 234,
   "metadata": {},
   "outputs": [
    {
     "data": {
      "image/png": "[encoded data removed]",
      "text/plain": [
       "<Figure size 432x288 with 1 Axes>"
      ]
     },
     "metadata": {
      "needs_background": "light"
     },
     "output_type": "display_data"
    }
   ],
   "source": [
    "plt.semilogx(neurons, train_err, 'b-o', label = 'train')\n",
    "plt.semilogx(neurons, test_err, 'r-o', label = 'test')\n",
    "plt.xlim([np.max(neurons), np.min(neurons)])\n",
    "plt.title('Error vs. neurons')\n",
    "plt.xlabel('neurons')\n",
    "plt.ylabel('error')\n",
    "plt.legend()\n",
    "pass"
   ]
  },
  {
   "cell_type": "markdown",
   "metadata": {},
   "source": [
    "<strong>Минимальное значение ошибки:</strong>"
   ]
  },
  {
   "cell_type": "code",
   "execution_count": 235,
   "metadata": {},
   "outputs": [
    {
     "name": "stdout",
     "output_type": "stream",
     "text": [
      "(0.18488990129081245, 0.18761061946902655)\n"
     ]
    }
   ],
   "source": [
    "min_train_err = np.min(train_err)\n",
    "min_test_err = np.min(test_err)\n",
    "print(min_train_err, min_test_err)"
   ]
  },
  {
   "cell_type": "code",
   "execution_count": 236,
   "metadata": {},
   "outputs": [
    {
     "name": "stdout",
     "output_type": "stream",
     "text": [
      "[0.19646017699115045, 0.1902654867256637, 0.18761061946902655, 0.18849557522123894]\n"
     ]
    }
   ],
   "source": [
    "print(test_err)"
   ]
  },
  {
   "cell_type": "markdown",
   "metadata": {},
   "source": [
    "Оптимальное значение количества нейронов (из множества 10, 100, 500, 1000) равно 1000. Переобучение есть"
   ]
  },
  {
   "cell_type": "markdown",
   "metadata": {},
   "source": [
    "<h2>Random Forest</h2>"
   ]
  },
  {
   "cell_type": "code",
   "execution_count": 237,
   "metadata": {},
   "outputs": [
    {
     "name": "stdout",
     "output_type": "stream",
     "text": [
      "(0.0, 0.19823008849557522)\n"
     ]
    }
   ],
   "source": [
    "from sklearn import ensemble\n",
    "rf = ensemble.RandomForestClassifier(n_estimators = 1000)\n",
    "rf.fit(X_train, y_train)\n",
    "\n",
    "err_train = np.mean(y_train != rf.predict(X_train))\n",
    "err_test  = np.mean(y_test  != rf.predict(X_test))\n",
    "\n",
    "print(err_train, err_test)"
   ]
  },
  {
   "cell_type": "code",
   "execution_count": 238,
   "metadata": {},
   "outputs": [],
   "source": [
    "trees_arr = np.arange(50, 1000, 50)\n",
    "test_err = []\n",
    "train_err = []\n",
    "oob_err = []\n",
    "for trees in trees_arr:\n",
    "    rf = ensemble.RandomForestClassifier(n_estimators = trees, oob_score=True)\n",
    "    rf.fit(X_train, y_train)\n",
    "    train_err.append(np.mean(y_train != rf.predict(X_train)))\n",
    "    test_err.append(np.mean(y_test  != rf.predict(X_test)))\n",
    "    oob_err.append(1 - rf.oob_score_)"
   ]
  },
  {
   "cell_type": "code",
   "execution_count": 239,
   "metadata": {},
   "outputs": [
    {
     "data": {
      "text/plain": [
       "<matplotlib.legend.Legend at 0x1a2b2c40d0>"
      ]
     },
     "execution_count": 239,
     "metadata": {},
     "output_type": "execute_result"
    },
    {
     "data": {
      "image/png": "[encoded data removed]",
      "text/plain": [
       "<Figure size 432x288 with 1 Axes>"
      ]
     },
     "metadata": {
      "needs_background": "light"
     },
     "output_type": "display_data"
    }
   ],
   "source": [
    "plt.plot(trees_arr, train_err, 'b-o', label = 'train')\n",
    "plt.plot(trees_arr, test_err, 'r-o', label = 'test')\n",
    "plt.plot(trees_arr, oob_err, 'g-o', label = 'oob')\n",
    "plt.xlim([np.max(trees_arr), np.min(trees_arr)])\n",
    "plt.title('Error vs. trees Random forest')\n",
    "plt.xlabel('trees')\n",
    "plt.ylabel('error')\n",
    "plt.legend()"
   ]
  },
  {
   "cell_type": "code",
   "execution_count": 240,
   "metadata": {},
   "outputs": [
    {
     "name": "stdout",
     "output_type": "stream",
     "text": [
      "('Optium tree count:', 50)\n"
     ]
    }
   ],
   "source": [
    "trees_opt = trees_arr[test_err == np.min(test_err)]\n",
    "trees_opt = trees_opt[0]\n",
    "print(\"Optium tree count:\", trees_opt)"
   ]
  },
  {
   "cell_type": "code",
   "execution_count": 241,
   "metadata": {},
   "outputs": [
    {
     "name": "stdout",
     "output_type": "stream",
     "text": [
      "('Minimmum error value', 0.0, 0.18141592920353983)\n"
     ]
    }
   ],
   "source": [
    "min_train_err = np.min(train_err)\n",
    "min_test_err = np.min(test_err)\n",
    "print(\"Minimmum error value\", min_train_err, min_test_err)"
   ]
  },
  {
   "cell_type": "markdown",
   "metadata": {},
   "source": [
    "<strong>Увеличение числа деревьев не приводит к улучшению</strong>"
   ]
  },
  {
   "cell_type": "markdown",
   "metadata": {},
   "source": [
    "<h2>Gradient Boosted Trees</h2>"
   ]
  },
  {
   "cell_type": "code",
   "execution_count": 242,
   "metadata": {},
   "outputs": [
    {
     "name": "stdout",
     "output_type": "stream",
     "text": [
      "(0.007593014426727411, 0.22035398230088496)\n"
     ]
    }
   ],
   "source": [
    "from sklearn import ensemble\n",
    "rf = ensemble.GradientBoostingClassifier(n_estimators = 1000)\n",
    "rf.fit(X_train, y_train)\n",
    "\n",
    "err_train = np.mean(y_train != rf.predict(X_train))\n",
    "err_test  = np.mean(y_test  != rf.predict(X_test))\n",
    "\n",
    "print(err_train, err_test)"
   ]
  },
  {
   "cell_type": "code",
   "execution_count": null,
   "metadata": {},
   "outputs": [],
   "source": [
    "trees_arr = np.arange(50, 1000, 50)\n",
    "test_err = []\n",
    "train_err = []\n",
    "for trees in trees_arr:\n",
    "    gbt = ensemble.GradientBoostingClassifier(n_estimators = trees)\n",
    "    gbt.fit(X_train, y_train)\n",
    "    train_err.append(np.mean(y_train != gbt.predict(X_train)))\n",
    "    test_err.append(np.mean(y_test  != gbt.predict(X_test)))"
   ]
  },
  {
   "cell_type": "code",
   "execution_count": null,
   "metadata": {},
   "outputs": [],
   "source": [
    "plt.plot(trees_arr, train_err, 'b-o', label = 'train')\n",
    "plt.plot(trees_arr, test_err, 'r-o', label = 'test')\n",
    "plt.xlim([np.max(trees_arr), np.min(trees_arr)])\n",
    "plt.title('Error vs. trees GBT')\n",
    "plt.xlabel('trees')\n",
    "plt.ylabel('error')\n",
    "plt.legend()"
   ]
  },
  {
   "cell_type": "code",
   "execution_count": null,
   "metadata": {},
   "outputs": [],
   "source": [
    "trees_opt = trees_arr[test_err == np.min(test_err)]\n",
    "trees_opt = trees_opt[0]\n",
    "print(\"Optium tree count:\", trees_opt)"
   ]
  },
  {
   "cell_type": "code",
   "execution_count": null,
   "metadata": {},
   "outputs": [],
   "source": [
    "min_train_err = np.min(train_err)\n",
    "min_test_err = np.min(test_err)\n",
    "print(\"Minimmum error value\", min_train_err, min_test_err)"
   ]
  },
  {
   "cell_type": "markdown",
   "metadata": {},
   "source": [
    "При количестве деревьев = 50, ошибка на тренировочной выборке = 0.026413921690490987, ошибка на тестовой выборке также равна 0.17413249211356466."
   ]
  },
  {
   "cell_type": "markdown",
   "metadata": {},
   "source": [
    "<h2>Выводы</h2>\n",
    "<ul>\n",
    "<li>kNN test_err = 0.19500346981263017</li>\n",
    "<li>SVC test_err = 0.18768590124925644 </li>\n",
    "<li>Random Forest test_err = 0.17626648160999306 </li>\n",
    "<li>Random Forest opt test_err = 0.17557251908396945 </li>\n",
    "<li>Extremely Randomized Trees test_err = 0.17557251908396945 </li>\n",
    "<li>AdaBoost test_err = 0.18806384455239417 </li>\n",
    "<li>GBT test_err = 0.1873698820263706</li>\n",
    "<li>GBT opt test_err = 0.0</li>\n",
    "<li>kNN with RCA(5) test_err = 0.19222761970853575</li>\n",
    "<li>neural network l1 test-err = 0.17160883280757097 </li>\n",
    "</ul>\n",
    "Лучшие результаты показал метод neural network. "
   ]
  },
  {
   "cell_type": "code",
   "execution_count": null,
   "metadata": {},
   "outputs": [],
   "source": []
  },
  {
   "cell_type": "code",
   "execution_count": null,
   "metadata": {},
   "outputs": [],
   "source": []
  },
  {
   "cell_type": "code",
   "execution_count": null,
   "metadata": {},
   "outputs": [],
   "source": []
  },
  {
   "cell_type": "code",
   "execution_count": null,
   "metadata": {},
   "outputs": [],
   "source": []
  }
 ],
 "metadata": {
  "kernelspec": {
   "display_name": "Python 2",
   "language": "python",
   "name": "python2"
  },
  "language_info": {
   "codemirror_mode": {
    "name": "ipython",
    "version": 2
   },
   "file_extension": ".py",
   "mimetype": "text/x-python",
   "name": "python",
   "nbconvert_exporter": "python",
   "pygments_lexer": "ipython2",
   "version": "2.7.16"
  }
 },
 "nbformat": 4,
 "nbformat_minor": 2
}
